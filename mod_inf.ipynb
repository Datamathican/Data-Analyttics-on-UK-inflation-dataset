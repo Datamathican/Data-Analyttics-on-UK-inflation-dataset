{
  "nbformat": 4,
  "nbformat_minor": 0,
  "metadata": {
    "colab": {
      "provenance": [],
      "collapsed_sections": []
    },
    "kernelspec": {
      "name": "python3",
      "display_name": "Python 3"
    },
    "language_info": {
      "name": "python"
    }
  },
  "cells": [
    {
      "cell_type": "markdown",
      "source": [
        "Data Analytics on the UK inflation data set"
      ],
      "metadata": {
        "id": "_5k8owvPsFvc"
      }
    },
    {
      "cell_type": "code",
      "execution_count": null,
      "metadata": {
        "id": "HBodzFPurYEv"
      },
      "outputs": [],
      "source": [
        "import pandas as pd"
      ]
    },
    {
      "cell_type": "code",
      "source": [
        "df = pd.ExcelFile('/content/drive/MyDrive/PROJECT/inf.xlsx')\n",
        "df1 = pd.read_excel(df, 'hcpi_a')\n",
        "df2 = pd.read_excel(df, 'ccpi_a')\n",
        "df3 = pd.read_excel(df, 'ecpi_a')\n",
        "df4 = pd.read_excel(df, 'ppi_a')\n",
        "df5 = pd.read_excel(df, 'fcpi_a')\n",
        "df6 = pd.read_excel(df, 'def_a')"
      ],
      "metadata": {
        "id": "uwhWY6BtreMG"
      },
      "execution_count": null,
      "outputs": []
    },
    {
      "cell_type": "code",
      "source": [
        "df1=df1.fillna(df1.mean(axis=0,numeric_only=True))\n",
        "df2=df2.fillna(df2.mean(axis=0,numeric_only=True))\n",
        "df3=df3.fillna(df3.mean(axis=0,numeric_only=True))\n",
        "df4=df4.fillna(df4.mean(axis=0,numeric_only=True))\n",
        "df5=df5.fillna(df5.mean(axis=0,numeric_only=True))\n",
        "df6=df6.fillna(df6.mean(axis=0,numeric_only=True))\n"
      ],
      "metadata": {
        "id": "ebE-U812rrp6"
      },
      "execution_count": null,
      "outputs": []
    },
    {
      "cell_type": "code",
      "source": [
        "df1.drop(['IMF Country Code', 'Indicator Type', 'Series Name','Country Code'], axis=1, inplace=True)\n",
        "df2.drop(['IMF Country Code', 'Indicator Type', 'Series Name','Country Code'], axis=1, inplace=True)\n",
        "df3.drop(['IMF Country Code', 'Indicator Type', 'Series Name','Country Code'], axis=1, inplace=True)\n",
        "df4.drop(['IMF Country Code', 'Indicator Type', 'Series Name','Country Code'], axis=1, inplace=True)\n",
        "df5.drop(['IMF Country Code', 'Indicator Type', 'Series Name','Country Code'], axis=1, inplace=True)\n",
        "df6.drop(['IMF Country Code', 'Indicator Type', 'Series Name','Country Code'], axis=1, inplace=True)"
      ],
      "metadata": {
        "id": "Mm7wbHS8r366"
      },
      "execution_count": null,
      "outputs": []
    },
    {
      "cell_type": "code",
      "source": [
        "Data = pd.melt(df1,id_vars=['Country'])\n",
        "Data.head()"
      ],
      "metadata": {
        "colab": {
          "base_uri": "https://localhost:8080/",
          "height": 206
        },
        "id": "XWgZl8pXrrvn",
        "outputId": "f52209e7-c221-4c74-a15b-ae9ba5afa72d"
      },
      "execution_count": null,
      "outputs": [
        {
          "output_type": "execute_result",
          "data": {
            "text/plain": [
              "                Country variable      value\n",
              "0                 Aruba     1970   6.246698\n",
              "1           Afghanistan     1970  25.510000\n",
              "2               Albania     1970   6.246698\n",
              "3  United Arab Emirates     1970  21.984699\n",
              "4               Armenia     1970   6.246698"
            ],
            "text/html": [
              "\n",
              "  <div id=\"df-faa8c2ed-acaf-4cf5-b1cb-89d08c23b5d1\">\n",
              "    <div class=\"colab-df-container\">\n",
              "      <div>\n",
              "<style scoped>\n",
              "    .dataframe tbody tr th:only-of-type {\n",
              "        vertical-align: middle;\n",
              "    }\n",
              "\n",
              "    .dataframe tbody tr th {\n",
              "        vertical-align: top;\n",
              "    }\n",
              "\n",
              "    .dataframe thead th {\n",
              "        text-align: right;\n",
              "    }\n",
              "</style>\n",
              "<table border=\"1\" class=\"dataframe\">\n",
              "  <thead>\n",
              "    <tr style=\"text-align: right;\">\n",
              "      <th></th>\n",
              "      <th>Country</th>\n",
              "      <th>variable</th>\n",
              "      <th>value</th>\n",
              "    </tr>\n",
              "  </thead>\n",
              "  <tbody>\n",
              "    <tr>\n",
              "      <th>0</th>\n",
              "      <td>Aruba</td>\n",
              "      <td>1970</td>\n",
              "      <td>6.246698</td>\n",
              "    </tr>\n",
              "    <tr>\n",
              "      <th>1</th>\n",
              "      <td>Afghanistan</td>\n",
              "      <td>1970</td>\n",
              "      <td>25.510000</td>\n",
              "    </tr>\n",
              "    <tr>\n",
              "      <th>2</th>\n",
              "      <td>Albania</td>\n",
              "      <td>1970</td>\n",
              "      <td>6.246698</td>\n",
              "    </tr>\n",
              "    <tr>\n",
              "      <th>3</th>\n",
              "      <td>United Arab Emirates</td>\n",
              "      <td>1970</td>\n",
              "      <td>21.984699</td>\n",
              "    </tr>\n",
              "    <tr>\n",
              "      <th>4</th>\n",
              "      <td>Armenia</td>\n",
              "      <td>1970</td>\n",
              "      <td>6.246698</td>\n",
              "    </tr>\n",
              "  </tbody>\n",
              "</table>\n",
              "</div>\n",
              "      <button class=\"colab-df-convert\" onclick=\"convertToInteractive('df-faa8c2ed-acaf-4cf5-b1cb-89d08c23b5d1')\"\n",
              "              title=\"Convert this dataframe to an interactive table.\"\n",
              "              style=\"display:none;\">\n",
              "        \n",
              "  <svg xmlns=\"http://www.w3.org/2000/svg\" height=\"24px\"viewBox=\"0 0 24 24\"\n",
              "       width=\"24px\">\n",
              "    <path d=\"M0 0h24v24H0V0z\" fill=\"none\"/>\n",
              "    <path d=\"M18.56 5.44l.94 2.06.94-2.06 2.06-.94-2.06-.94-.94-2.06-.94 2.06-2.06.94zm-11 1L8.5 8.5l.94-2.06 2.06-.94-2.06-.94L8.5 2.5l-.94 2.06-2.06.94zm10 10l.94 2.06.94-2.06 2.06-.94-2.06-.94-.94-2.06-.94 2.06-2.06.94z\"/><path d=\"M17.41 7.96l-1.37-1.37c-.4-.4-.92-.59-1.43-.59-.52 0-1.04.2-1.43.59L10.3 9.45l-7.72 7.72c-.78.78-.78 2.05 0 2.83L4 21.41c.39.39.9.59 1.41.59.51 0 1.02-.2 1.41-.59l7.78-7.78 2.81-2.81c.8-.78.8-2.07 0-2.86zM5.41 20L4 18.59l7.72-7.72 1.47 1.35L5.41 20z\"/>\n",
              "  </svg>\n",
              "      </button>\n",
              "      \n",
              "  <style>\n",
              "    .colab-df-container {\n",
              "      display:flex;\n",
              "      flex-wrap:wrap;\n",
              "      gap: 12px;\n",
              "    }\n",
              "\n",
              "    .colab-df-convert {\n",
              "      background-color: #E8F0FE;\n",
              "      border: none;\n",
              "      border-radius: 50%;\n",
              "      cursor: pointer;\n",
              "      display: none;\n",
              "      fill: #1967D2;\n",
              "      height: 32px;\n",
              "      padding: 0 0 0 0;\n",
              "      width: 32px;\n",
              "    }\n",
              "\n",
              "    .colab-df-convert:hover {\n",
              "      background-color: #E2EBFA;\n",
              "      box-shadow: 0px 1px 2px rgba(60, 64, 67, 0.3), 0px 1px 3px 1px rgba(60, 64, 67, 0.15);\n",
              "      fill: #174EA6;\n",
              "    }\n",
              "\n",
              "    [theme=dark] .colab-df-convert {\n",
              "      background-color: #3B4455;\n",
              "      fill: #D2E3FC;\n",
              "    }\n",
              "\n",
              "    [theme=dark] .colab-df-convert:hover {\n",
              "      background-color: #434B5C;\n",
              "      box-shadow: 0px 1px 3px 1px rgba(0, 0, 0, 0.15);\n",
              "      filter: drop-shadow(0px 1px 2px rgba(0, 0, 0, 0.3));\n",
              "      fill: #FFFFFF;\n",
              "    }\n",
              "  </style>\n",
              "\n",
              "      <script>\n",
              "        const buttonEl =\n",
              "          document.querySelector('#df-faa8c2ed-acaf-4cf5-b1cb-89d08c23b5d1 button.colab-df-convert');\n",
              "        buttonEl.style.display =\n",
              "          google.colab.kernel.accessAllowed ? 'block' : 'none';\n",
              "\n",
              "        async function convertToInteractive(key) {\n",
              "          const element = document.querySelector('#df-faa8c2ed-acaf-4cf5-b1cb-89d08c23b5d1');\n",
              "          const dataTable =\n",
              "            await google.colab.kernel.invokeFunction('convertToInteractive',\n",
              "                                                     [key], {});\n",
              "          if (!dataTable) return;\n",
              "\n",
              "          const docLinkHtml = 'Like what you see? Visit the ' +\n",
              "            '<a target=\"_blank\" href=https://colab.research.google.com/notebooks/data_table.ipynb>data table notebook</a>'\n",
              "            + ' to learn more about interactive tables.';\n",
              "          element.innerHTML = '';\n",
              "          dataTable['output_type'] = 'display_data';\n",
              "          await google.colab.output.renderOutput(dataTable, element);\n",
              "          const docLink = document.createElement('div');\n",
              "          docLink.innerHTML = docLinkHtml;\n",
              "          element.appendChild(docLink);\n",
              "        }\n",
              "      </script>\n",
              "    </div>\n",
              "  </div>\n",
              "  "
            ]
          },
          "metadata": {},
          "execution_count": 6
        }
      ]
    },
    {
      "cell_type": "code",
      "source": [
        "Data1 = pd.melt(df2,id_vars=['Country'])\n",
        "Data1.head()"
      ],
      "metadata": {
        "colab": {
          "base_uri": "https://localhost:8080/",
          "height": 206
        },
        "id": "yo34mvUBrrzE",
        "outputId": "fc04b1af-3ff8-40da-a796-8712f241ce96"
      },
      "execution_count": null,
      "outputs": [
        {
          "output_type": "execute_result",
          "data": {
            "text/plain": [
              "     Country variable     value\n",
              "0    Albania     1970  2.796574\n",
              "1  Australia     1970  5.027798\n",
              "2    Austria     1970  3.684154\n",
              "3    Belgium     1970  5.294355\n",
              "4    Belarus     1970  2.796574"
            ],
            "text/html": [
              "\n",
              "  <div id=\"df-45e40449-7357-4e59-847e-7d986d524414\">\n",
              "    <div class=\"colab-df-container\">\n",
              "      <div>\n",
              "<style scoped>\n",
              "    .dataframe tbody tr th:only-of-type {\n",
              "        vertical-align: middle;\n",
              "    }\n",
              "\n",
              "    .dataframe tbody tr th {\n",
              "        vertical-align: top;\n",
              "    }\n",
              "\n",
              "    .dataframe thead th {\n",
              "        text-align: right;\n",
              "    }\n",
              "</style>\n",
              "<table border=\"1\" class=\"dataframe\">\n",
              "  <thead>\n",
              "    <tr style=\"text-align: right;\">\n",
              "      <th></th>\n",
              "      <th>Country</th>\n",
              "      <th>variable</th>\n",
              "      <th>value</th>\n",
              "    </tr>\n",
              "  </thead>\n",
              "  <tbody>\n",
              "    <tr>\n",
              "      <th>0</th>\n",
              "      <td>Albania</td>\n",
              "      <td>1970</td>\n",
              "      <td>2.796574</td>\n",
              "    </tr>\n",
              "    <tr>\n",
              "      <th>1</th>\n",
              "      <td>Australia</td>\n",
              "      <td>1970</td>\n",
              "      <td>5.027798</td>\n",
              "    </tr>\n",
              "    <tr>\n",
              "      <th>2</th>\n",
              "      <td>Austria</td>\n",
              "      <td>1970</td>\n",
              "      <td>3.684154</td>\n",
              "    </tr>\n",
              "    <tr>\n",
              "      <th>3</th>\n",
              "      <td>Belgium</td>\n",
              "      <td>1970</td>\n",
              "      <td>5.294355</td>\n",
              "    </tr>\n",
              "    <tr>\n",
              "      <th>4</th>\n",
              "      <td>Belarus</td>\n",
              "      <td>1970</td>\n",
              "      <td>2.796574</td>\n",
              "    </tr>\n",
              "  </tbody>\n",
              "</table>\n",
              "</div>\n",
              "      <button class=\"colab-df-convert\" onclick=\"convertToInteractive('df-45e40449-7357-4e59-847e-7d986d524414')\"\n",
              "              title=\"Convert this dataframe to an interactive table.\"\n",
              "              style=\"display:none;\">\n",
              "        \n",
              "  <svg xmlns=\"http://www.w3.org/2000/svg\" height=\"24px\"viewBox=\"0 0 24 24\"\n",
              "       width=\"24px\">\n",
              "    <path d=\"M0 0h24v24H0V0z\" fill=\"none\"/>\n",
              "    <path d=\"M18.56 5.44l.94 2.06.94-2.06 2.06-.94-2.06-.94-.94-2.06-.94 2.06-2.06.94zm-11 1L8.5 8.5l.94-2.06 2.06-.94-2.06-.94L8.5 2.5l-.94 2.06-2.06.94zm10 10l.94 2.06.94-2.06 2.06-.94-2.06-.94-.94-2.06-.94 2.06-2.06.94z\"/><path d=\"M17.41 7.96l-1.37-1.37c-.4-.4-.92-.59-1.43-.59-.52 0-1.04.2-1.43.59L10.3 9.45l-7.72 7.72c-.78.78-.78 2.05 0 2.83L4 21.41c.39.39.9.59 1.41.59.51 0 1.02-.2 1.41-.59l7.78-7.78 2.81-2.81c.8-.78.8-2.07 0-2.86zM5.41 20L4 18.59l7.72-7.72 1.47 1.35L5.41 20z\"/>\n",
              "  </svg>\n",
              "      </button>\n",
              "      \n",
              "  <style>\n",
              "    .colab-df-container {\n",
              "      display:flex;\n",
              "      flex-wrap:wrap;\n",
              "      gap: 12px;\n",
              "    }\n",
              "\n",
              "    .colab-df-convert {\n",
              "      background-color: #E8F0FE;\n",
              "      border: none;\n",
              "      border-radius: 50%;\n",
              "      cursor: pointer;\n",
              "      display: none;\n",
              "      fill: #1967D2;\n",
              "      height: 32px;\n",
              "      padding: 0 0 0 0;\n",
              "      width: 32px;\n",
              "    }\n",
              "\n",
              "    .colab-df-convert:hover {\n",
              "      background-color: #E2EBFA;\n",
              "      box-shadow: 0px 1px 2px rgba(60, 64, 67, 0.3), 0px 1px 3px 1px rgba(60, 64, 67, 0.15);\n",
              "      fill: #174EA6;\n",
              "    }\n",
              "\n",
              "    [theme=dark] .colab-df-convert {\n",
              "      background-color: #3B4455;\n",
              "      fill: #D2E3FC;\n",
              "    }\n",
              "\n",
              "    [theme=dark] .colab-df-convert:hover {\n",
              "      background-color: #434B5C;\n",
              "      box-shadow: 0px 1px 3px 1px rgba(0, 0, 0, 0.15);\n",
              "      filter: drop-shadow(0px 1px 2px rgba(0, 0, 0, 0.3));\n",
              "      fill: #FFFFFF;\n",
              "    }\n",
              "  </style>\n",
              "\n",
              "      <script>\n",
              "        const buttonEl =\n",
              "          document.querySelector('#df-45e40449-7357-4e59-847e-7d986d524414 button.colab-df-convert');\n",
              "        buttonEl.style.display =\n",
              "          google.colab.kernel.accessAllowed ? 'block' : 'none';\n",
              "\n",
              "        async function convertToInteractive(key) {\n",
              "          const element = document.querySelector('#df-45e40449-7357-4e59-847e-7d986d524414');\n",
              "          const dataTable =\n",
              "            await google.colab.kernel.invokeFunction('convertToInteractive',\n",
              "                                                     [key], {});\n",
              "          if (!dataTable) return;\n",
              "\n",
              "          const docLinkHtml = 'Like what you see? Visit the ' +\n",
              "            '<a target=\"_blank\" href=https://colab.research.google.com/notebooks/data_table.ipynb>data table notebook</a>'\n",
              "            + ' to learn more about interactive tables.';\n",
              "          element.innerHTML = '';\n",
              "          dataTable['output_type'] = 'display_data';\n",
              "          await google.colab.output.renderOutput(dataTable, element);\n",
              "          const docLink = document.createElement('div');\n",
              "          docLink.innerHTML = docLinkHtml;\n",
              "          element.appendChild(docLink);\n",
              "        }\n",
              "      </script>\n",
              "    </div>\n",
              "  </div>\n",
              "  "
            ]
          },
          "metadata": {},
          "execution_count": 7
        }
      ]
    },
    {
      "cell_type": "code",
      "source": [
        "Data2 = pd.melt(df3,id_vars=['Country'])\n",
        "Data2.head()"
      ],
      "metadata": {
        "colab": {
          "base_uri": "https://localhost:8080/",
          "height": 206
        },
        "id": "IUnmYn1zrr1i",
        "outputId": "8884e820-ebf6-44c4-cf5d-108ebdfcfd18"
      },
      "execution_count": null,
      "outputs": [
        {
          "output_type": "execute_result",
          "data": {
            "text/plain": [
              "                Country variable    value\n",
              "0                 Aruba     1970  5.34552\n",
              "1           Afghanistan     1970  5.34552\n",
              "2               Albania     1970  5.34552\n",
              "3  United Arab Emirates     1970  5.34552\n",
              "4               Armenia     1970  5.34552"
            ],
            "text/html": [
              "\n",
              "  <div id=\"df-01a92b8d-41b6-4854-8c3a-9bd223f9ddde\">\n",
              "    <div class=\"colab-df-container\">\n",
              "      <div>\n",
              "<style scoped>\n",
              "    .dataframe tbody tr th:only-of-type {\n",
              "        vertical-align: middle;\n",
              "    }\n",
              "\n",
              "    .dataframe tbody tr th {\n",
              "        vertical-align: top;\n",
              "    }\n",
              "\n",
              "    .dataframe thead th {\n",
              "        text-align: right;\n",
              "    }\n",
              "</style>\n",
              "<table border=\"1\" class=\"dataframe\">\n",
              "  <thead>\n",
              "    <tr style=\"text-align: right;\">\n",
              "      <th></th>\n",
              "      <th>Country</th>\n",
              "      <th>variable</th>\n",
              "      <th>value</th>\n",
              "    </tr>\n",
              "  </thead>\n",
              "  <tbody>\n",
              "    <tr>\n",
              "      <th>0</th>\n",
              "      <td>Aruba</td>\n",
              "      <td>1970</td>\n",
              "      <td>5.34552</td>\n",
              "    </tr>\n",
              "    <tr>\n",
              "      <th>1</th>\n",
              "      <td>Afghanistan</td>\n",
              "      <td>1970</td>\n",
              "      <td>5.34552</td>\n",
              "    </tr>\n",
              "    <tr>\n",
              "      <th>2</th>\n",
              "      <td>Albania</td>\n",
              "      <td>1970</td>\n",
              "      <td>5.34552</td>\n",
              "    </tr>\n",
              "    <tr>\n",
              "      <th>3</th>\n",
              "      <td>United Arab Emirates</td>\n",
              "      <td>1970</td>\n",
              "      <td>5.34552</td>\n",
              "    </tr>\n",
              "    <tr>\n",
              "      <th>4</th>\n",
              "      <td>Armenia</td>\n",
              "      <td>1970</td>\n",
              "      <td>5.34552</td>\n",
              "    </tr>\n",
              "  </tbody>\n",
              "</table>\n",
              "</div>\n",
              "      <button class=\"colab-df-convert\" onclick=\"convertToInteractive('df-01a92b8d-41b6-4854-8c3a-9bd223f9ddde')\"\n",
              "              title=\"Convert this dataframe to an interactive table.\"\n",
              "              style=\"display:none;\">\n",
              "        \n",
              "  <svg xmlns=\"http://www.w3.org/2000/svg\" height=\"24px\"viewBox=\"0 0 24 24\"\n",
              "       width=\"24px\">\n",
              "    <path d=\"M0 0h24v24H0V0z\" fill=\"none\"/>\n",
              "    <path d=\"M18.56 5.44l.94 2.06.94-2.06 2.06-.94-2.06-.94-.94-2.06-.94 2.06-2.06.94zm-11 1L8.5 8.5l.94-2.06 2.06-.94-2.06-.94L8.5 2.5l-.94 2.06-2.06.94zm10 10l.94 2.06.94-2.06 2.06-.94-2.06-.94-.94-2.06-.94 2.06-2.06.94z\"/><path d=\"M17.41 7.96l-1.37-1.37c-.4-.4-.92-.59-1.43-.59-.52 0-1.04.2-1.43.59L10.3 9.45l-7.72 7.72c-.78.78-.78 2.05 0 2.83L4 21.41c.39.39.9.59 1.41.59.51 0 1.02-.2 1.41-.59l7.78-7.78 2.81-2.81c.8-.78.8-2.07 0-2.86zM5.41 20L4 18.59l7.72-7.72 1.47 1.35L5.41 20z\"/>\n",
              "  </svg>\n",
              "      </button>\n",
              "      \n",
              "  <style>\n",
              "    .colab-df-container {\n",
              "      display:flex;\n",
              "      flex-wrap:wrap;\n",
              "      gap: 12px;\n",
              "    }\n",
              "\n",
              "    .colab-df-convert {\n",
              "      background-color: #E8F0FE;\n",
              "      border: none;\n",
              "      border-radius: 50%;\n",
              "      cursor: pointer;\n",
              "      display: none;\n",
              "      fill: #1967D2;\n",
              "      height: 32px;\n",
              "      padding: 0 0 0 0;\n",
              "      width: 32px;\n",
              "    }\n",
              "\n",
              "    .colab-df-convert:hover {\n",
              "      background-color: #E2EBFA;\n",
              "      box-shadow: 0px 1px 2px rgba(60, 64, 67, 0.3), 0px 1px 3px 1px rgba(60, 64, 67, 0.15);\n",
              "      fill: #174EA6;\n",
              "    }\n",
              "\n",
              "    [theme=dark] .colab-df-convert {\n",
              "      background-color: #3B4455;\n",
              "      fill: #D2E3FC;\n",
              "    }\n",
              "\n",
              "    [theme=dark] .colab-df-convert:hover {\n",
              "      background-color: #434B5C;\n",
              "      box-shadow: 0px 1px 3px 1px rgba(0, 0, 0, 0.15);\n",
              "      filter: drop-shadow(0px 1px 2px rgba(0, 0, 0, 0.3));\n",
              "      fill: #FFFFFF;\n",
              "    }\n",
              "  </style>\n",
              "\n",
              "      <script>\n",
              "        const buttonEl =\n",
              "          document.querySelector('#df-01a92b8d-41b6-4854-8c3a-9bd223f9ddde button.colab-df-convert');\n",
              "        buttonEl.style.display =\n",
              "          google.colab.kernel.accessAllowed ? 'block' : 'none';\n",
              "\n",
              "        async function convertToInteractive(key) {\n",
              "          const element = document.querySelector('#df-01a92b8d-41b6-4854-8c3a-9bd223f9ddde');\n",
              "          const dataTable =\n",
              "            await google.colab.kernel.invokeFunction('convertToInteractive',\n",
              "                                                     [key], {});\n",
              "          if (!dataTable) return;\n",
              "\n",
              "          const docLinkHtml = 'Like what you see? Visit the ' +\n",
              "            '<a target=\"_blank\" href=https://colab.research.google.com/notebooks/data_table.ipynb>data table notebook</a>'\n",
              "            + ' to learn more about interactive tables.';\n",
              "          element.innerHTML = '';\n",
              "          dataTable['output_type'] = 'display_data';\n",
              "          await google.colab.output.renderOutput(dataTable, element);\n",
              "          const docLink = document.createElement('div');\n",
              "          docLink.innerHTML = docLinkHtml;\n",
              "          element.appendChild(docLink);\n",
              "        }\n",
              "      </script>\n",
              "    </div>\n",
              "  </div>\n",
              "  "
            ]
          },
          "metadata": {},
          "execution_count": 8
        }
      ]
    },
    {
      "cell_type": "code",
      "source": [
        "Data3 = pd.melt(df4,id_vars=['Country'])\n",
        "Data3.head()"
      ],
      "metadata": {
        "colab": {
          "base_uri": "https://localhost:8080/",
          "height": 206
        },
        "id": "fNOS57rKrr3q",
        "outputId": "432af5ec-4347-4e54-be98-49893676b3e6"
      },
      "execution_count": null,
      "outputs": [
        {
          "output_type": "execute_result",
          "data": {
            "text/plain": [
              "      Country variable     value\n",
              "0     Albania     1970  6.713892\n",
              "1     Armenia     1970  6.713892\n",
              "2   Australia     1970  4.352332\n",
              "3     Austria     1970  6.713892\n",
              "4  Azerbaijan     1970  6.713892"
            ],
            "text/html": [
              "\n",
              "  <div id=\"df-9143faf3-d7a2-4d83-a0da-46de4877fe7c\">\n",
              "    <div class=\"colab-df-container\">\n",
              "      <div>\n",
              "<style scoped>\n",
              "    .dataframe tbody tr th:only-of-type {\n",
              "        vertical-align: middle;\n",
              "    }\n",
              "\n",
              "    .dataframe tbody tr th {\n",
              "        vertical-align: top;\n",
              "    }\n",
              "\n",
              "    .dataframe thead th {\n",
              "        text-align: right;\n",
              "    }\n",
              "</style>\n",
              "<table border=\"1\" class=\"dataframe\">\n",
              "  <thead>\n",
              "    <tr style=\"text-align: right;\">\n",
              "      <th></th>\n",
              "      <th>Country</th>\n",
              "      <th>variable</th>\n",
              "      <th>value</th>\n",
              "    </tr>\n",
              "  </thead>\n",
              "  <tbody>\n",
              "    <tr>\n",
              "      <th>0</th>\n",
              "      <td>Albania</td>\n",
              "      <td>1970</td>\n",
              "      <td>6.713892</td>\n",
              "    </tr>\n",
              "    <tr>\n",
              "      <th>1</th>\n",
              "      <td>Armenia</td>\n",
              "      <td>1970</td>\n",
              "      <td>6.713892</td>\n",
              "    </tr>\n",
              "    <tr>\n",
              "      <th>2</th>\n",
              "      <td>Australia</td>\n",
              "      <td>1970</td>\n",
              "      <td>4.352332</td>\n",
              "    </tr>\n",
              "    <tr>\n",
              "      <th>3</th>\n",
              "      <td>Austria</td>\n",
              "      <td>1970</td>\n",
              "      <td>6.713892</td>\n",
              "    </tr>\n",
              "    <tr>\n",
              "      <th>4</th>\n",
              "      <td>Azerbaijan</td>\n",
              "      <td>1970</td>\n",
              "      <td>6.713892</td>\n",
              "    </tr>\n",
              "  </tbody>\n",
              "</table>\n",
              "</div>\n",
              "      <button class=\"colab-df-convert\" onclick=\"convertToInteractive('df-9143faf3-d7a2-4d83-a0da-46de4877fe7c')\"\n",
              "              title=\"Convert this dataframe to an interactive table.\"\n",
              "              style=\"display:none;\">\n",
              "        \n",
              "  <svg xmlns=\"http://www.w3.org/2000/svg\" height=\"24px\"viewBox=\"0 0 24 24\"\n",
              "       width=\"24px\">\n",
              "    <path d=\"M0 0h24v24H0V0z\" fill=\"none\"/>\n",
              "    <path d=\"M18.56 5.44l.94 2.06.94-2.06 2.06-.94-2.06-.94-.94-2.06-.94 2.06-2.06.94zm-11 1L8.5 8.5l.94-2.06 2.06-.94-2.06-.94L8.5 2.5l-.94 2.06-2.06.94zm10 10l.94 2.06.94-2.06 2.06-.94-2.06-.94-.94-2.06-.94 2.06-2.06.94z\"/><path d=\"M17.41 7.96l-1.37-1.37c-.4-.4-.92-.59-1.43-.59-.52 0-1.04.2-1.43.59L10.3 9.45l-7.72 7.72c-.78.78-.78 2.05 0 2.83L4 21.41c.39.39.9.59 1.41.59.51 0 1.02-.2 1.41-.59l7.78-7.78 2.81-2.81c.8-.78.8-2.07 0-2.86zM5.41 20L4 18.59l7.72-7.72 1.47 1.35L5.41 20z\"/>\n",
              "  </svg>\n",
              "      </button>\n",
              "      \n",
              "  <style>\n",
              "    .colab-df-container {\n",
              "      display:flex;\n",
              "      flex-wrap:wrap;\n",
              "      gap: 12px;\n",
              "    }\n",
              "\n",
              "    .colab-df-convert {\n",
              "      background-color: #E8F0FE;\n",
              "      border: none;\n",
              "      border-radius: 50%;\n",
              "      cursor: pointer;\n",
              "      display: none;\n",
              "      fill: #1967D2;\n",
              "      height: 32px;\n",
              "      padding: 0 0 0 0;\n",
              "      width: 32px;\n",
              "    }\n",
              "\n",
              "    .colab-df-convert:hover {\n",
              "      background-color: #E2EBFA;\n",
              "      box-shadow: 0px 1px 2px rgba(60, 64, 67, 0.3), 0px 1px 3px 1px rgba(60, 64, 67, 0.15);\n",
              "      fill: #174EA6;\n",
              "    }\n",
              "\n",
              "    [theme=dark] .colab-df-convert {\n",
              "      background-color: #3B4455;\n",
              "      fill: #D2E3FC;\n",
              "    }\n",
              "\n",
              "    [theme=dark] .colab-df-convert:hover {\n",
              "      background-color: #434B5C;\n",
              "      box-shadow: 0px 1px 3px 1px rgba(0, 0, 0, 0.15);\n",
              "      filter: drop-shadow(0px 1px 2px rgba(0, 0, 0, 0.3));\n",
              "      fill: #FFFFFF;\n",
              "    }\n",
              "  </style>\n",
              "\n",
              "      <script>\n",
              "        const buttonEl =\n",
              "          document.querySelector('#df-9143faf3-d7a2-4d83-a0da-46de4877fe7c button.colab-df-convert');\n",
              "        buttonEl.style.display =\n",
              "          google.colab.kernel.accessAllowed ? 'block' : 'none';\n",
              "\n",
              "        async function convertToInteractive(key) {\n",
              "          const element = document.querySelector('#df-9143faf3-d7a2-4d83-a0da-46de4877fe7c');\n",
              "          const dataTable =\n",
              "            await google.colab.kernel.invokeFunction('convertToInteractive',\n",
              "                                                     [key], {});\n",
              "          if (!dataTable) return;\n",
              "\n",
              "          const docLinkHtml = 'Like what you see? Visit the ' +\n",
              "            '<a target=\"_blank\" href=https://colab.research.google.com/notebooks/data_table.ipynb>data table notebook</a>'\n",
              "            + ' to learn more about interactive tables.';\n",
              "          element.innerHTML = '';\n",
              "          dataTable['output_type'] = 'display_data';\n",
              "          await google.colab.output.renderOutput(dataTable, element);\n",
              "          const docLink = document.createElement('div');\n",
              "          docLink.innerHTML = docLinkHtml;\n",
              "          element.appendChild(docLink);\n",
              "        }\n",
              "      </script>\n",
              "    </div>\n",
              "  </div>\n",
              "  "
            ]
          },
          "metadata": {},
          "execution_count": 9
        }
      ]
    },
    {
      "cell_type": "code",
      "source": [
        "Data4 = pd.melt(df5,id_vars=['Country'])\n",
        "Data4.head()"
      ],
      "metadata": {
        "colab": {
          "base_uri": "https://localhost:8080/",
          "height": 206
        },
        "id": "spNKwudKrr5r",
        "outputId": "851cd258-3c18-42c4-ca10-b18633f4200b"
      },
      "execution_count": null,
      "outputs": [
        {
          "output_type": "execute_result",
          "data": {
            "text/plain": [
              "                Country variable    value\n",
              "0                 Aruba     1970  6.47351\n",
              "1           Afghanistan     1970  6.47351\n",
              "2               Albania     1970  6.47351\n",
              "3  United Arab Emirates     1970  6.47351\n",
              "4               Armenia     1970  6.47351"
            ],
            "text/html": [
              "\n",
              "  <div id=\"df-bfa9d328-3e2e-4c70-8bd8-9fe339b7361c\">\n",
              "    <div class=\"colab-df-container\">\n",
              "      <div>\n",
              "<style scoped>\n",
              "    .dataframe tbody tr th:only-of-type {\n",
              "        vertical-align: middle;\n",
              "    }\n",
              "\n",
              "    .dataframe tbody tr th {\n",
              "        vertical-align: top;\n",
              "    }\n",
              "\n",
              "    .dataframe thead th {\n",
              "        text-align: right;\n",
              "    }\n",
              "</style>\n",
              "<table border=\"1\" class=\"dataframe\">\n",
              "  <thead>\n",
              "    <tr style=\"text-align: right;\">\n",
              "      <th></th>\n",
              "      <th>Country</th>\n",
              "      <th>variable</th>\n",
              "      <th>value</th>\n",
              "    </tr>\n",
              "  </thead>\n",
              "  <tbody>\n",
              "    <tr>\n",
              "      <th>0</th>\n",
              "      <td>Aruba</td>\n",
              "      <td>1970</td>\n",
              "      <td>6.47351</td>\n",
              "    </tr>\n",
              "    <tr>\n",
              "      <th>1</th>\n",
              "      <td>Afghanistan</td>\n",
              "      <td>1970</td>\n",
              "      <td>6.47351</td>\n",
              "    </tr>\n",
              "    <tr>\n",
              "      <th>2</th>\n",
              "      <td>Albania</td>\n",
              "      <td>1970</td>\n",
              "      <td>6.47351</td>\n",
              "    </tr>\n",
              "    <tr>\n",
              "      <th>3</th>\n",
              "      <td>United Arab Emirates</td>\n",
              "      <td>1970</td>\n",
              "      <td>6.47351</td>\n",
              "    </tr>\n",
              "    <tr>\n",
              "      <th>4</th>\n",
              "      <td>Armenia</td>\n",
              "      <td>1970</td>\n",
              "      <td>6.47351</td>\n",
              "    </tr>\n",
              "  </tbody>\n",
              "</table>\n",
              "</div>\n",
              "      <button class=\"colab-df-convert\" onclick=\"convertToInteractive('df-bfa9d328-3e2e-4c70-8bd8-9fe339b7361c')\"\n",
              "              title=\"Convert this dataframe to an interactive table.\"\n",
              "              style=\"display:none;\">\n",
              "        \n",
              "  <svg xmlns=\"http://www.w3.org/2000/svg\" height=\"24px\"viewBox=\"0 0 24 24\"\n",
              "       width=\"24px\">\n",
              "    <path d=\"M0 0h24v24H0V0z\" fill=\"none\"/>\n",
              "    <path d=\"M18.56 5.44l.94 2.06.94-2.06 2.06-.94-2.06-.94-.94-2.06-.94 2.06-2.06.94zm-11 1L8.5 8.5l.94-2.06 2.06-.94-2.06-.94L8.5 2.5l-.94 2.06-2.06.94zm10 10l.94 2.06.94-2.06 2.06-.94-2.06-.94-.94-2.06-.94 2.06-2.06.94z\"/><path d=\"M17.41 7.96l-1.37-1.37c-.4-.4-.92-.59-1.43-.59-.52 0-1.04.2-1.43.59L10.3 9.45l-7.72 7.72c-.78.78-.78 2.05 0 2.83L4 21.41c.39.39.9.59 1.41.59.51 0 1.02-.2 1.41-.59l7.78-7.78 2.81-2.81c.8-.78.8-2.07 0-2.86zM5.41 20L4 18.59l7.72-7.72 1.47 1.35L5.41 20z\"/>\n",
              "  </svg>\n",
              "      </button>\n",
              "      \n",
              "  <style>\n",
              "    .colab-df-container {\n",
              "      display:flex;\n",
              "      flex-wrap:wrap;\n",
              "      gap: 12px;\n",
              "    }\n",
              "\n",
              "    .colab-df-convert {\n",
              "      background-color: #E8F0FE;\n",
              "      border: none;\n",
              "      border-radius: 50%;\n",
              "      cursor: pointer;\n",
              "      display: none;\n",
              "      fill: #1967D2;\n",
              "      height: 32px;\n",
              "      padding: 0 0 0 0;\n",
              "      width: 32px;\n",
              "    }\n",
              "\n",
              "    .colab-df-convert:hover {\n",
              "      background-color: #E2EBFA;\n",
              "      box-shadow: 0px 1px 2px rgba(60, 64, 67, 0.3), 0px 1px 3px 1px rgba(60, 64, 67, 0.15);\n",
              "      fill: #174EA6;\n",
              "    }\n",
              "\n",
              "    [theme=dark] .colab-df-convert {\n",
              "      background-color: #3B4455;\n",
              "      fill: #D2E3FC;\n",
              "    }\n",
              "\n",
              "    [theme=dark] .colab-df-convert:hover {\n",
              "      background-color: #434B5C;\n",
              "      box-shadow: 0px 1px 3px 1px rgba(0, 0, 0, 0.15);\n",
              "      filter: drop-shadow(0px 1px 2px rgba(0, 0, 0, 0.3));\n",
              "      fill: #FFFFFF;\n",
              "    }\n",
              "  </style>\n",
              "\n",
              "      <script>\n",
              "        const buttonEl =\n",
              "          document.querySelector('#df-bfa9d328-3e2e-4c70-8bd8-9fe339b7361c button.colab-df-convert');\n",
              "        buttonEl.style.display =\n",
              "          google.colab.kernel.accessAllowed ? 'block' : 'none';\n",
              "\n",
              "        async function convertToInteractive(key) {\n",
              "          const element = document.querySelector('#df-bfa9d328-3e2e-4c70-8bd8-9fe339b7361c');\n",
              "          const dataTable =\n",
              "            await google.colab.kernel.invokeFunction('convertToInteractive',\n",
              "                                                     [key], {});\n",
              "          if (!dataTable) return;\n",
              "\n",
              "          const docLinkHtml = 'Like what you see? Visit the ' +\n",
              "            '<a target=\"_blank\" href=https://colab.research.google.com/notebooks/data_table.ipynb>data table notebook</a>'\n",
              "            + ' to learn more about interactive tables.';\n",
              "          element.innerHTML = '';\n",
              "          dataTable['output_type'] = 'display_data';\n",
              "          await google.colab.output.renderOutput(dataTable, element);\n",
              "          const docLink = document.createElement('div');\n",
              "          docLink.innerHTML = docLinkHtml;\n",
              "          element.appendChild(docLink);\n",
              "        }\n",
              "      </script>\n",
              "    </div>\n",
              "  </div>\n",
              "  "
            ]
          },
          "metadata": {},
          "execution_count": 10
        }
      ]
    },
    {
      "cell_type": "code",
      "source": [
        "Data5 = pd.melt(df6,id_vars=['Country'])\n",
        "Data5.head()"
      ],
      "metadata": {
        "colab": {
          "base_uri": "https://localhost:8080/",
          "height": 206
        },
        "id": "JoQ3VTKhrr73",
        "outputId": "5fa376d8-54b8-4601-f4f5-a150553a097c"
      },
      "execution_count": null,
      "outputs": [
        {
          "output_type": "execute_result",
          "data": {
            "text/plain": [
              "                Country variable     value\n",
              "0                 Aruba     1970  6.477990\n",
              "1           Afghanistan     1970  6.509263\n",
              "2               Albania     1970  6.509263\n",
              "3               Andorra     1970  6.509263\n",
              "4  United Arab Emirates     1970  6.509263"
            ],
            "text/html": [
              "\n",
              "  <div id=\"df-1541b47c-df0a-4732-b7b8-7188820af1bf\">\n",
              "    <div class=\"colab-df-container\">\n",
              "      <div>\n",
              "<style scoped>\n",
              "    .dataframe tbody tr th:only-of-type {\n",
              "        vertical-align: middle;\n",
              "    }\n",
              "\n",
              "    .dataframe tbody tr th {\n",
              "        vertical-align: top;\n",
              "    }\n",
              "\n",
              "    .dataframe thead th {\n",
              "        text-align: right;\n",
              "    }\n",
              "</style>\n",
              "<table border=\"1\" class=\"dataframe\">\n",
              "  <thead>\n",
              "    <tr style=\"text-align: right;\">\n",
              "      <th></th>\n",
              "      <th>Country</th>\n",
              "      <th>variable</th>\n",
              "      <th>value</th>\n",
              "    </tr>\n",
              "  </thead>\n",
              "  <tbody>\n",
              "    <tr>\n",
              "      <th>0</th>\n",
              "      <td>Aruba</td>\n",
              "      <td>1970</td>\n",
              "      <td>6.477990</td>\n",
              "    </tr>\n",
              "    <tr>\n",
              "      <th>1</th>\n",
              "      <td>Afghanistan</td>\n",
              "      <td>1970</td>\n",
              "      <td>6.509263</td>\n",
              "    </tr>\n",
              "    <tr>\n",
              "      <th>2</th>\n",
              "      <td>Albania</td>\n",
              "      <td>1970</td>\n",
              "      <td>6.509263</td>\n",
              "    </tr>\n",
              "    <tr>\n",
              "      <th>3</th>\n",
              "      <td>Andorra</td>\n",
              "      <td>1970</td>\n",
              "      <td>6.509263</td>\n",
              "    </tr>\n",
              "    <tr>\n",
              "      <th>4</th>\n",
              "      <td>United Arab Emirates</td>\n",
              "      <td>1970</td>\n",
              "      <td>6.509263</td>\n",
              "    </tr>\n",
              "  </tbody>\n",
              "</table>\n",
              "</div>\n",
              "      <button class=\"colab-df-convert\" onclick=\"convertToInteractive('df-1541b47c-df0a-4732-b7b8-7188820af1bf')\"\n",
              "              title=\"Convert this dataframe to an interactive table.\"\n",
              "              style=\"display:none;\">\n",
              "        \n",
              "  <svg xmlns=\"http://www.w3.org/2000/svg\" height=\"24px\"viewBox=\"0 0 24 24\"\n",
              "       width=\"24px\">\n",
              "    <path d=\"M0 0h24v24H0V0z\" fill=\"none\"/>\n",
              "    <path d=\"M18.56 5.44l.94 2.06.94-2.06 2.06-.94-2.06-.94-.94-2.06-.94 2.06-2.06.94zm-11 1L8.5 8.5l.94-2.06 2.06-.94-2.06-.94L8.5 2.5l-.94 2.06-2.06.94zm10 10l.94 2.06.94-2.06 2.06-.94-2.06-.94-.94-2.06-.94 2.06-2.06.94z\"/><path d=\"M17.41 7.96l-1.37-1.37c-.4-.4-.92-.59-1.43-.59-.52 0-1.04.2-1.43.59L10.3 9.45l-7.72 7.72c-.78.78-.78 2.05 0 2.83L4 21.41c.39.39.9.59 1.41.59.51 0 1.02-.2 1.41-.59l7.78-7.78 2.81-2.81c.8-.78.8-2.07 0-2.86zM5.41 20L4 18.59l7.72-7.72 1.47 1.35L5.41 20z\"/>\n",
              "  </svg>\n",
              "      </button>\n",
              "      \n",
              "  <style>\n",
              "    .colab-df-container {\n",
              "      display:flex;\n",
              "      flex-wrap:wrap;\n",
              "      gap: 12px;\n",
              "    }\n",
              "\n",
              "    .colab-df-convert {\n",
              "      background-color: #E8F0FE;\n",
              "      border: none;\n",
              "      border-radius: 50%;\n",
              "      cursor: pointer;\n",
              "      display: none;\n",
              "      fill: #1967D2;\n",
              "      height: 32px;\n",
              "      padding: 0 0 0 0;\n",
              "      width: 32px;\n",
              "    }\n",
              "\n",
              "    .colab-df-convert:hover {\n",
              "      background-color: #E2EBFA;\n",
              "      box-shadow: 0px 1px 2px rgba(60, 64, 67, 0.3), 0px 1px 3px 1px rgba(60, 64, 67, 0.15);\n",
              "      fill: #174EA6;\n",
              "    }\n",
              "\n",
              "    [theme=dark] .colab-df-convert {\n",
              "      background-color: #3B4455;\n",
              "      fill: #D2E3FC;\n",
              "    }\n",
              "\n",
              "    [theme=dark] .colab-df-convert:hover {\n",
              "      background-color: #434B5C;\n",
              "      box-shadow: 0px 1px 3px 1px rgba(0, 0, 0, 0.15);\n",
              "      filter: drop-shadow(0px 1px 2px rgba(0, 0, 0, 0.3));\n",
              "      fill: #FFFFFF;\n",
              "    }\n",
              "  </style>\n",
              "\n",
              "      <script>\n",
              "        const buttonEl =\n",
              "          document.querySelector('#df-1541b47c-df0a-4732-b7b8-7188820af1bf button.colab-df-convert');\n",
              "        buttonEl.style.display =\n",
              "          google.colab.kernel.accessAllowed ? 'block' : 'none';\n",
              "\n",
              "        async function convertToInteractive(key) {\n",
              "          const element = document.querySelector('#df-1541b47c-df0a-4732-b7b8-7188820af1bf');\n",
              "          const dataTable =\n",
              "            await google.colab.kernel.invokeFunction('convertToInteractive',\n",
              "                                                     [key], {});\n",
              "          if (!dataTable) return;\n",
              "\n",
              "          const docLinkHtml = 'Like what you see? Visit the ' +\n",
              "            '<a target=\"_blank\" href=https://colab.research.google.com/notebooks/data_table.ipynb>data table notebook</a>'\n",
              "            + ' to learn more about interactive tables.';\n",
              "          element.innerHTML = '';\n",
              "          dataTable['output_type'] = 'display_data';\n",
              "          await google.colab.output.renderOutput(dataTable, element);\n",
              "          const docLink = document.createElement('div');\n",
              "          docLink.innerHTML = docLinkHtml;\n",
              "          element.appendChild(docLink);\n",
              "        }\n",
              "      </script>\n",
              "    </div>\n",
              "  </div>\n",
              "  "
            ]
          },
          "metadata": {},
          "execution_count": 11
        }
      ]
    },
    {
      "cell_type": "code",
      "source": [
        "Data['Data1'] = Data1.value\n",
        "Data.head()"
      ],
      "metadata": {
        "colab": {
          "base_uri": "https://localhost:8080/",
          "height": 206
        },
        "id": "DrVuEUgUrr-k",
        "outputId": "98ab36d1-1b40-4de8-c616-c7bfc754b0ea"
      },
      "execution_count": null,
      "outputs": [
        {
          "output_type": "execute_result",
          "data": {
            "text/plain": [
              "                Country variable      value     Data1\n",
              "0                 Aruba     1970   6.246698  2.796574\n",
              "1           Afghanistan     1970  25.510000  5.027798\n",
              "2               Albania     1970   6.246698  3.684154\n",
              "3  United Arab Emirates     1970  21.984699  5.294355\n",
              "4               Armenia     1970   6.246698  2.796574"
            ],
            "text/html": [
              "\n",
              "  <div id=\"df-862988be-d2dd-405a-800a-94a4e338a45a\">\n",
              "    <div class=\"colab-df-container\">\n",
              "      <div>\n",
              "<style scoped>\n",
              "    .dataframe tbody tr th:only-of-type {\n",
              "        vertical-align: middle;\n",
              "    }\n",
              "\n",
              "    .dataframe tbody tr th {\n",
              "        vertical-align: top;\n",
              "    }\n",
              "\n",
              "    .dataframe thead th {\n",
              "        text-align: right;\n",
              "    }\n",
              "</style>\n",
              "<table border=\"1\" class=\"dataframe\">\n",
              "  <thead>\n",
              "    <tr style=\"text-align: right;\">\n",
              "      <th></th>\n",
              "      <th>Country</th>\n",
              "      <th>variable</th>\n",
              "      <th>value</th>\n",
              "      <th>Data1</th>\n",
              "    </tr>\n",
              "  </thead>\n",
              "  <tbody>\n",
              "    <tr>\n",
              "      <th>0</th>\n",
              "      <td>Aruba</td>\n",
              "      <td>1970</td>\n",
              "      <td>6.246698</td>\n",
              "      <td>2.796574</td>\n",
              "    </tr>\n",
              "    <tr>\n",
              "      <th>1</th>\n",
              "      <td>Afghanistan</td>\n",
              "      <td>1970</td>\n",
              "      <td>25.510000</td>\n",
              "      <td>5.027798</td>\n",
              "    </tr>\n",
              "    <tr>\n",
              "      <th>2</th>\n",
              "      <td>Albania</td>\n",
              "      <td>1970</td>\n",
              "      <td>6.246698</td>\n",
              "      <td>3.684154</td>\n",
              "    </tr>\n",
              "    <tr>\n",
              "      <th>3</th>\n",
              "      <td>United Arab Emirates</td>\n",
              "      <td>1970</td>\n",
              "      <td>21.984699</td>\n",
              "      <td>5.294355</td>\n",
              "    </tr>\n",
              "    <tr>\n",
              "      <th>4</th>\n",
              "      <td>Armenia</td>\n",
              "      <td>1970</td>\n",
              "      <td>6.246698</td>\n",
              "      <td>2.796574</td>\n",
              "    </tr>\n",
              "  </tbody>\n",
              "</table>\n",
              "</div>\n",
              "      <button class=\"colab-df-convert\" onclick=\"convertToInteractive('df-862988be-d2dd-405a-800a-94a4e338a45a')\"\n",
              "              title=\"Convert this dataframe to an interactive table.\"\n",
              "              style=\"display:none;\">\n",
              "        \n",
              "  <svg xmlns=\"http://www.w3.org/2000/svg\" height=\"24px\"viewBox=\"0 0 24 24\"\n",
              "       width=\"24px\">\n",
              "    <path d=\"M0 0h24v24H0V0z\" fill=\"none\"/>\n",
              "    <path d=\"M18.56 5.44l.94 2.06.94-2.06 2.06-.94-2.06-.94-.94-2.06-.94 2.06-2.06.94zm-11 1L8.5 8.5l.94-2.06 2.06-.94-2.06-.94L8.5 2.5l-.94 2.06-2.06.94zm10 10l.94 2.06.94-2.06 2.06-.94-2.06-.94-.94-2.06-.94 2.06-2.06.94z\"/><path d=\"M17.41 7.96l-1.37-1.37c-.4-.4-.92-.59-1.43-.59-.52 0-1.04.2-1.43.59L10.3 9.45l-7.72 7.72c-.78.78-.78 2.05 0 2.83L4 21.41c.39.39.9.59 1.41.59.51 0 1.02-.2 1.41-.59l7.78-7.78 2.81-2.81c.8-.78.8-2.07 0-2.86zM5.41 20L4 18.59l7.72-7.72 1.47 1.35L5.41 20z\"/>\n",
              "  </svg>\n",
              "      </button>\n",
              "      \n",
              "  <style>\n",
              "    .colab-df-container {\n",
              "      display:flex;\n",
              "      flex-wrap:wrap;\n",
              "      gap: 12px;\n",
              "    }\n",
              "\n",
              "    .colab-df-convert {\n",
              "      background-color: #E8F0FE;\n",
              "      border: none;\n",
              "      border-radius: 50%;\n",
              "      cursor: pointer;\n",
              "      display: none;\n",
              "      fill: #1967D2;\n",
              "      height: 32px;\n",
              "      padding: 0 0 0 0;\n",
              "      width: 32px;\n",
              "    }\n",
              "\n",
              "    .colab-df-convert:hover {\n",
              "      background-color: #E2EBFA;\n",
              "      box-shadow: 0px 1px 2px rgba(60, 64, 67, 0.3), 0px 1px 3px 1px rgba(60, 64, 67, 0.15);\n",
              "      fill: #174EA6;\n",
              "    }\n",
              "\n",
              "    [theme=dark] .colab-df-convert {\n",
              "      background-color: #3B4455;\n",
              "      fill: #D2E3FC;\n",
              "    }\n",
              "\n",
              "    [theme=dark] .colab-df-convert:hover {\n",
              "      background-color: #434B5C;\n",
              "      box-shadow: 0px 1px 3px 1px rgba(0, 0, 0, 0.15);\n",
              "      filter: drop-shadow(0px 1px 2px rgba(0, 0, 0, 0.3));\n",
              "      fill: #FFFFFF;\n",
              "    }\n",
              "  </style>\n",
              "\n",
              "      <script>\n",
              "        const buttonEl =\n",
              "          document.querySelector('#df-862988be-d2dd-405a-800a-94a4e338a45a button.colab-df-convert');\n",
              "        buttonEl.style.display =\n",
              "          google.colab.kernel.accessAllowed ? 'block' : 'none';\n",
              "\n",
              "        async function convertToInteractive(key) {\n",
              "          const element = document.querySelector('#df-862988be-d2dd-405a-800a-94a4e338a45a');\n",
              "          const dataTable =\n",
              "            await google.colab.kernel.invokeFunction('convertToInteractive',\n",
              "                                                     [key], {});\n",
              "          if (!dataTable) return;\n",
              "\n",
              "          const docLinkHtml = 'Like what you see? Visit the ' +\n",
              "            '<a target=\"_blank\" href=https://colab.research.google.com/notebooks/data_table.ipynb>data table notebook</a>'\n",
              "            + ' to learn more about interactive tables.';\n",
              "          element.innerHTML = '';\n",
              "          dataTable['output_type'] = 'display_data';\n",
              "          await google.colab.output.renderOutput(dataTable, element);\n",
              "          const docLink = document.createElement('div');\n",
              "          docLink.innerHTML = docLinkHtml;\n",
              "          element.appendChild(docLink);\n",
              "        }\n",
              "      </script>\n",
              "    </div>\n",
              "  </div>\n",
              "  "
            ]
          },
          "metadata": {},
          "execution_count": 12
        }
      ]
    },
    {
      "cell_type": "code",
      "source": [
        "Data['Data2'] = Data2.value\n",
        "Data.head()"
      ],
      "metadata": {
        "colab": {
          "base_uri": "https://localhost:8080/",
          "height": 206
        },
        "id": "07SexM4drsFI",
        "outputId": "31ffc2d9-d863-44bc-efd6-959110898ad5"
      },
      "execution_count": null,
      "outputs": [
        {
          "output_type": "execute_result",
          "data": {
            "text/plain": [
              "                Country variable      value     Data1    Data2\n",
              "0                 Aruba     1970   6.246698  2.796574  5.34552\n",
              "1           Afghanistan     1970  25.510000  5.027798  5.34552\n",
              "2               Albania     1970   6.246698  3.684154  5.34552\n",
              "3  United Arab Emirates     1970  21.984699  5.294355  5.34552\n",
              "4               Armenia     1970   6.246698  2.796574  5.34552"
            ],
            "text/html": [
              "\n",
              "  <div id=\"df-bcf13dc8-a840-4a7d-96da-c3d0d5bb62db\">\n",
              "    <div class=\"colab-df-container\">\n",
              "      <div>\n",
              "<style scoped>\n",
              "    .dataframe tbody tr th:only-of-type {\n",
              "        vertical-align: middle;\n",
              "    }\n",
              "\n",
              "    .dataframe tbody tr th {\n",
              "        vertical-align: top;\n",
              "    }\n",
              "\n",
              "    .dataframe thead th {\n",
              "        text-align: right;\n",
              "    }\n",
              "</style>\n",
              "<table border=\"1\" class=\"dataframe\">\n",
              "  <thead>\n",
              "    <tr style=\"text-align: right;\">\n",
              "      <th></th>\n",
              "      <th>Country</th>\n",
              "      <th>variable</th>\n",
              "      <th>value</th>\n",
              "      <th>Data1</th>\n",
              "      <th>Data2</th>\n",
              "    </tr>\n",
              "  </thead>\n",
              "  <tbody>\n",
              "    <tr>\n",
              "      <th>0</th>\n",
              "      <td>Aruba</td>\n",
              "      <td>1970</td>\n",
              "      <td>6.246698</td>\n",
              "      <td>2.796574</td>\n",
              "      <td>5.34552</td>\n",
              "    </tr>\n",
              "    <tr>\n",
              "      <th>1</th>\n",
              "      <td>Afghanistan</td>\n",
              "      <td>1970</td>\n",
              "      <td>25.510000</td>\n",
              "      <td>5.027798</td>\n",
              "      <td>5.34552</td>\n",
              "    </tr>\n",
              "    <tr>\n",
              "      <th>2</th>\n",
              "      <td>Albania</td>\n",
              "      <td>1970</td>\n",
              "      <td>6.246698</td>\n",
              "      <td>3.684154</td>\n",
              "      <td>5.34552</td>\n",
              "    </tr>\n",
              "    <tr>\n",
              "      <th>3</th>\n",
              "      <td>United Arab Emirates</td>\n",
              "      <td>1970</td>\n",
              "      <td>21.984699</td>\n",
              "      <td>5.294355</td>\n",
              "      <td>5.34552</td>\n",
              "    </tr>\n",
              "    <tr>\n",
              "      <th>4</th>\n",
              "      <td>Armenia</td>\n",
              "      <td>1970</td>\n",
              "      <td>6.246698</td>\n",
              "      <td>2.796574</td>\n",
              "      <td>5.34552</td>\n",
              "    </tr>\n",
              "  </tbody>\n",
              "</table>\n",
              "</div>\n",
              "      <button class=\"colab-df-convert\" onclick=\"convertToInteractive('df-bcf13dc8-a840-4a7d-96da-c3d0d5bb62db')\"\n",
              "              title=\"Convert this dataframe to an interactive table.\"\n",
              "              style=\"display:none;\">\n",
              "        \n",
              "  <svg xmlns=\"http://www.w3.org/2000/svg\" height=\"24px\"viewBox=\"0 0 24 24\"\n",
              "       width=\"24px\">\n",
              "    <path d=\"M0 0h24v24H0V0z\" fill=\"none\"/>\n",
              "    <path d=\"M18.56 5.44l.94 2.06.94-2.06 2.06-.94-2.06-.94-.94-2.06-.94 2.06-2.06.94zm-11 1L8.5 8.5l.94-2.06 2.06-.94-2.06-.94L8.5 2.5l-.94 2.06-2.06.94zm10 10l.94 2.06.94-2.06 2.06-.94-2.06-.94-.94-2.06-.94 2.06-2.06.94z\"/><path d=\"M17.41 7.96l-1.37-1.37c-.4-.4-.92-.59-1.43-.59-.52 0-1.04.2-1.43.59L10.3 9.45l-7.72 7.72c-.78.78-.78 2.05 0 2.83L4 21.41c.39.39.9.59 1.41.59.51 0 1.02-.2 1.41-.59l7.78-7.78 2.81-2.81c.8-.78.8-2.07 0-2.86zM5.41 20L4 18.59l7.72-7.72 1.47 1.35L5.41 20z\"/>\n",
              "  </svg>\n",
              "      </button>\n",
              "      \n",
              "  <style>\n",
              "    .colab-df-container {\n",
              "      display:flex;\n",
              "      flex-wrap:wrap;\n",
              "      gap: 12px;\n",
              "    }\n",
              "\n",
              "    .colab-df-convert {\n",
              "      background-color: #E8F0FE;\n",
              "      border: none;\n",
              "      border-radius: 50%;\n",
              "      cursor: pointer;\n",
              "      display: none;\n",
              "      fill: #1967D2;\n",
              "      height: 32px;\n",
              "      padding: 0 0 0 0;\n",
              "      width: 32px;\n",
              "    }\n",
              "\n",
              "    .colab-df-convert:hover {\n",
              "      background-color: #E2EBFA;\n",
              "      box-shadow: 0px 1px 2px rgba(60, 64, 67, 0.3), 0px 1px 3px 1px rgba(60, 64, 67, 0.15);\n",
              "      fill: #174EA6;\n",
              "    }\n",
              "\n",
              "    [theme=dark] .colab-df-convert {\n",
              "      background-color: #3B4455;\n",
              "      fill: #D2E3FC;\n",
              "    }\n",
              "\n",
              "    [theme=dark] .colab-df-convert:hover {\n",
              "      background-color: #434B5C;\n",
              "      box-shadow: 0px 1px 3px 1px rgba(0, 0, 0, 0.15);\n",
              "      filter: drop-shadow(0px 1px 2px rgba(0, 0, 0, 0.3));\n",
              "      fill: #FFFFFF;\n",
              "    }\n",
              "  </style>\n",
              "\n",
              "      <script>\n",
              "        const buttonEl =\n",
              "          document.querySelector('#df-bcf13dc8-a840-4a7d-96da-c3d0d5bb62db button.colab-df-convert');\n",
              "        buttonEl.style.display =\n",
              "          google.colab.kernel.accessAllowed ? 'block' : 'none';\n",
              "\n",
              "        async function convertToInteractive(key) {\n",
              "          const element = document.querySelector('#df-bcf13dc8-a840-4a7d-96da-c3d0d5bb62db');\n",
              "          const dataTable =\n",
              "            await google.colab.kernel.invokeFunction('convertToInteractive',\n",
              "                                                     [key], {});\n",
              "          if (!dataTable) return;\n",
              "\n",
              "          const docLinkHtml = 'Like what you see? Visit the ' +\n",
              "            '<a target=\"_blank\" href=https://colab.research.google.com/notebooks/data_table.ipynb>data table notebook</a>'\n",
              "            + ' to learn more about interactive tables.';\n",
              "          element.innerHTML = '';\n",
              "          dataTable['output_type'] = 'display_data';\n",
              "          await google.colab.output.renderOutput(dataTable, element);\n",
              "          const docLink = document.createElement('div');\n",
              "          docLink.innerHTML = docLinkHtml;\n",
              "          element.appendChild(docLink);\n",
              "        }\n",
              "      </script>\n",
              "    </div>\n",
              "  </div>\n",
              "  "
            ]
          },
          "metadata": {},
          "execution_count": 13
        }
      ]
    },
    {
      "cell_type": "code",
      "source": [
        "Data['Data3'] = Data3.value\n",
        "Data.head()"
      ],
      "metadata": {
        "colab": {
          "base_uri": "https://localhost:8080/",
          "height": 206
        },
        "id": "bw91aAztrsNS",
        "outputId": "47208265-5b10-4537-81b6-9c3835bc200d"
      },
      "execution_count": null,
      "outputs": [
        {
          "output_type": "execute_result",
          "data": {
            "text/plain": [
              "                Country variable      value     Data1    Data2     Data3\n",
              "0                 Aruba     1970   6.246698  2.796574  5.34552  6.713892\n",
              "1           Afghanistan     1970  25.510000  5.027798  5.34552  6.713892\n",
              "2               Albania     1970   6.246698  3.684154  5.34552  4.352332\n",
              "3  United Arab Emirates     1970  21.984699  5.294355  5.34552  6.713892\n",
              "4               Armenia     1970   6.246698  2.796574  5.34552  6.713892"
            ],
            "text/html": [
              "\n",
              "  <div id=\"df-1abe7ed1-2806-44b1-a961-5337970fdb74\">\n",
              "    <div class=\"colab-df-container\">\n",
              "      <div>\n",
              "<style scoped>\n",
              "    .dataframe tbody tr th:only-of-type {\n",
              "        vertical-align: middle;\n",
              "    }\n",
              "\n",
              "    .dataframe tbody tr th {\n",
              "        vertical-align: top;\n",
              "    }\n",
              "\n",
              "    .dataframe thead th {\n",
              "        text-align: right;\n",
              "    }\n",
              "</style>\n",
              "<table border=\"1\" class=\"dataframe\">\n",
              "  <thead>\n",
              "    <tr style=\"text-align: right;\">\n",
              "      <th></th>\n",
              "      <th>Country</th>\n",
              "      <th>variable</th>\n",
              "      <th>value</th>\n",
              "      <th>Data1</th>\n",
              "      <th>Data2</th>\n",
              "      <th>Data3</th>\n",
              "    </tr>\n",
              "  </thead>\n",
              "  <tbody>\n",
              "    <tr>\n",
              "      <th>0</th>\n",
              "      <td>Aruba</td>\n",
              "      <td>1970</td>\n",
              "      <td>6.246698</td>\n",
              "      <td>2.796574</td>\n",
              "      <td>5.34552</td>\n",
              "      <td>6.713892</td>\n",
              "    </tr>\n",
              "    <tr>\n",
              "      <th>1</th>\n",
              "      <td>Afghanistan</td>\n",
              "      <td>1970</td>\n",
              "      <td>25.510000</td>\n",
              "      <td>5.027798</td>\n",
              "      <td>5.34552</td>\n",
              "      <td>6.713892</td>\n",
              "    </tr>\n",
              "    <tr>\n",
              "      <th>2</th>\n",
              "      <td>Albania</td>\n",
              "      <td>1970</td>\n",
              "      <td>6.246698</td>\n",
              "      <td>3.684154</td>\n",
              "      <td>5.34552</td>\n",
              "      <td>4.352332</td>\n",
              "    </tr>\n",
              "    <tr>\n",
              "      <th>3</th>\n",
              "      <td>United Arab Emirates</td>\n",
              "      <td>1970</td>\n",
              "      <td>21.984699</td>\n",
              "      <td>5.294355</td>\n",
              "      <td>5.34552</td>\n",
              "      <td>6.713892</td>\n",
              "    </tr>\n",
              "    <tr>\n",
              "      <th>4</th>\n",
              "      <td>Armenia</td>\n",
              "      <td>1970</td>\n",
              "      <td>6.246698</td>\n",
              "      <td>2.796574</td>\n",
              "      <td>5.34552</td>\n",
              "      <td>6.713892</td>\n",
              "    </tr>\n",
              "  </tbody>\n",
              "</table>\n",
              "</div>\n",
              "      <button class=\"colab-df-convert\" onclick=\"convertToInteractive('df-1abe7ed1-2806-44b1-a961-5337970fdb74')\"\n",
              "              title=\"Convert this dataframe to an interactive table.\"\n",
              "              style=\"display:none;\">\n",
              "        \n",
              "  <svg xmlns=\"http://www.w3.org/2000/svg\" height=\"24px\"viewBox=\"0 0 24 24\"\n",
              "       width=\"24px\">\n",
              "    <path d=\"M0 0h24v24H0V0z\" fill=\"none\"/>\n",
              "    <path d=\"M18.56 5.44l.94 2.06.94-2.06 2.06-.94-2.06-.94-.94-2.06-.94 2.06-2.06.94zm-11 1L8.5 8.5l.94-2.06 2.06-.94-2.06-.94L8.5 2.5l-.94 2.06-2.06.94zm10 10l.94 2.06.94-2.06 2.06-.94-2.06-.94-.94-2.06-.94 2.06-2.06.94z\"/><path d=\"M17.41 7.96l-1.37-1.37c-.4-.4-.92-.59-1.43-.59-.52 0-1.04.2-1.43.59L10.3 9.45l-7.72 7.72c-.78.78-.78 2.05 0 2.83L4 21.41c.39.39.9.59 1.41.59.51 0 1.02-.2 1.41-.59l7.78-7.78 2.81-2.81c.8-.78.8-2.07 0-2.86zM5.41 20L4 18.59l7.72-7.72 1.47 1.35L5.41 20z\"/>\n",
              "  </svg>\n",
              "      </button>\n",
              "      \n",
              "  <style>\n",
              "    .colab-df-container {\n",
              "      display:flex;\n",
              "      flex-wrap:wrap;\n",
              "      gap: 12px;\n",
              "    }\n",
              "\n",
              "    .colab-df-convert {\n",
              "      background-color: #E8F0FE;\n",
              "      border: none;\n",
              "      border-radius: 50%;\n",
              "      cursor: pointer;\n",
              "      display: none;\n",
              "      fill: #1967D2;\n",
              "      height: 32px;\n",
              "      padding: 0 0 0 0;\n",
              "      width: 32px;\n",
              "    }\n",
              "\n",
              "    .colab-df-convert:hover {\n",
              "      background-color: #E2EBFA;\n",
              "      box-shadow: 0px 1px 2px rgba(60, 64, 67, 0.3), 0px 1px 3px 1px rgba(60, 64, 67, 0.15);\n",
              "      fill: #174EA6;\n",
              "    }\n",
              "\n",
              "    [theme=dark] .colab-df-convert {\n",
              "      background-color: #3B4455;\n",
              "      fill: #D2E3FC;\n",
              "    }\n",
              "\n",
              "    [theme=dark] .colab-df-convert:hover {\n",
              "      background-color: #434B5C;\n",
              "      box-shadow: 0px 1px 3px 1px rgba(0, 0, 0, 0.15);\n",
              "      filter: drop-shadow(0px 1px 2px rgba(0, 0, 0, 0.3));\n",
              "      fill: #FFFFFF;\n",
              "    }\n",
              "  </style>\n",
              "\n",
              "      <script>\n",
              "        const buttonEl =\n",
              "          document.querySelector('#df-1abe7ed1-2806-44b1-a961-5337970fdb74 button.colab-df-convert');\n",
              "        buttonEl.style.display =\n",
              "          google.colab.kernel.accessAllowed ? 'block' : 'none';\n",
              "\n",
              "        async function convertToInteractive(key) {\n",
              "          const element = document.querySelector('#df-1abe7ed1-2806-44b1-a961-5337970fdb74');\n",
              "          const dataTable =\n",
              "            await google.colab.kernel.invokeFunction('convertToInteractive',\n",
              "                                                     [key], {});\n",
              "          if (!dataTable) return;\n",
              "\n",
              "          const docLinkHtml = 'Like what you see? Visit the ' +\n",
              "            '<a target=\"_blank\" href=https://colab.research.google.com/notebooks/data_table.ipynb>data table notebook</a>'\n",
              "            + ' to learn more about interactive tables.';\n",
              "          element.innerHTML = '';\n",
              "          dataTable['output_type'] = 'display_data';\n",
              "          await google.colab.output.renderOutput(dataTable, element);\n",
              "          const docLink = document.createElement('div');\n",
              "          docLink.innerHTML = docLinkHtml;\n",
              "          element.appendChild(docLink);\n",
              "        }\n",
              "      </script>\n",
              "    </div>\n",
              "  </div>\n",
              "  "
            ]
          },
          "metadata": {},
          "execution_count": 14
        }
      ]
    },
    {
      "cell_type": "code",
      "source": [
        "Data['Data4'] = Data4.value\n",
        "Data.head()"
      ],
      "metadata": {
        "colab": {
          "base_uri": "https://localhost:8080/",
          "height": 206
        },
        "id": "Alh99jElrsQU",
        "outputId": "e82516c9-01d0-40a2-a2ba-076dfeaf1d86"
      },
      "execution_count": null,
      "outputs": [
        {
          "output_type": "execute_result",
          "data": {
            "text/plain": [
              "                Country variable      value     Data1    Data2     Data3  \\\n",
              "0                 Aruba     1970   6.246698  2.796574  5.34552  6.713892   \n",
              "1           Afghanistan     1970  25.510000  5.027798  5.34552  6.713892   \n",
              "2               Albania     1970   6.246698  3.684154  5.34552  4.352332   \n",
              "3  United Arab Emirates     1970  21.984699  5.294355  5.34552  6.713892   \n",
              "4               Armenia     1970   6.246698  2.796574  5.34552  6.713892   \n",
              "\n",
              "     Data4  \n",
              "0  6.47351  \n",
              "1  6.47351  \n",
              "2  6.47351  \n",
              "3  6.47351  \n",
              "4  6.47351  "
            ],
            "text/html": [
              "\n",
              "  <div id=\"df-56692d09-448c-43b9-b5bd-5326aa57b64d\">\n",
              "    <div class=\"colab-df-container\">\n",
              "      <div>\n",
              "<style scoped>\n",
              "    .dataframe tbody tr th:only-of-type {\n",
              "        vertical-align: middle;\n",
              "    }\n",
              "\n",
              "    .dataframe tbody tr th {\n",
              "        vertical-align: top;\n",
              "    }\n",
              "\n",
              "    .dataframe thead th {\n",
              "        text-align: right;\n",
              "    }\n",
              "</style>\n",
              "<table border=\"1\" class=\"dataframe\">\n",
              "  <thead>\n",
              "    <tr style=\"text-align: right;\">\n",
              "      <th></th>\n",
              "      <th>Country</th>\n",
              "      <th>variable</th>\n",
              "      <th>value</th>\n",
              "      <th>Data1</th>\n",
              "      <th>Data2</th>\n",
              "      <th>Data3</th>\n",
              "      <th>Data4</th>\n",
              "    </tr>\n",
              "  </thead>\n",
              "  <tbody>\n",
              "    <tr>\n",
              "      <th>0</th>\n",
              "      <td>Aruba</td>\n",
              "      <td>1970</td>\n",
              "      <td>6.246698</td>\n",
              "      <td>2.796574</td>\n",
              "      <td>5.34552</td>\n",
              "      <td>6.713892</td>\n",
              "      <td>6.47351</td>\n",
              "    </tr>\n",
              "    <tr>\n",
              "      <th>1</th>\n",
              "      <td>Afghanistan</td>\n",
              "      <td>1970</td>\n",
              "      <td>25.510000</td>\n",
              "      <td>5.027798</td>\n",
              "      <td>5.34552</td>\n",
              "      <td>6.713892</td>\n",
              "      <td>6.47351</td>\n",
              "    </tr>\n",
              "    <tr>\n",
              "      <th>2</th>\n",
              "      <td>Albania</td>\n",
              "      <td>1970</td>\n",
              "      <td>6.246698</td>\n",
              "      <td>3.684154</td>\n",
              "      <td>5.34552</td>\n",
              "      <td>4.352332</td>\n",
              "      <td>6.47351</td>\n",
              "    </tr>\n",
              "    <tr>\n",
              "      <th>3</th>\n",
              "      <td>United Arab Emirates</td>\n",
              "      <td>1970</td>\n",
              "      <td>21.984699</td>\n",
              "      <td>5.294355</td>\n",
              "      <td>5.34552</td>\n",
              "      <td>6.713892</td>\n",
              "      <td>6.47351</td>\n",
              "    </tr>\n",
              "    <tr>\n",
              "      <th>4</th>\n",
              "      <td>Armenia</td>\n",
              "      <td>1970</td>\n",
              "      <td>6.246698</td>\n",
              "      <td>2.796574</td>\n",
              "      <td>5.34552</td>\n",
              "      <td>6.713892</td>\n",
              "      <td>6.47351</td>\n",
              "    </tr>\n",
              "  </tbody>\n",
              "</table>\n",
              "</div>\n",
              "      <button class=\"colab-df-convert\" onclick=\"convertToInteractive('df-56692d09-448c-43b9-b5bd-5326aa57b64d')\"\n",
              "              title=\"Convert this dataframe to an interactive table.\"\n",
              "              style=\"display:none;\">\n",
              "        \n",
              "  <svg xmlns=\"http://www.w3.org/2000/svg\" height=\"24px\"viewBox=\"0 0 24 24\"\n",
              "       width=\"24px\">\n",
              "    <path d=\"M0 0h24v24H0V0z\" fill=\"none\"/>\n",
              "    <path d=\"M18.56 5.44l.94 2.06.94-2.06 2.06-.94-2.06-.94-.94-2.06-.94 2.06-2.06.94zm-11 1L8.5 8.5l.94-2.06 2.06-.94-2.06-.94L8.5 2.5l-.94 2.06-2.06.94zm10 10l.94 2.06.94-2.06 2.06-.94-2.06-.94-.94-2.06-.94 2.06-2.06.94z\"/><path d=\"M17.41 7.96l-1.37-1.37c-.4-.4-.92-.59-1.43-.59-.52 0-1.04.2-1.43.59L10.3 9.45l-7.72 7.72c-.78.78-.78 2.05 0 2.83L4 21.41c.39.39.9.59 1.41.59.51 0 1.02-.2 1.41-.59l7.78-7.78 2.81-2.81c.8-.78.8-2.07 0-2.86zM5.41 20L4 18.59l7.72-7.72 1.47 1.35L5.41 20z\"/>\n",
              "  </svg>\n",
              "      </button>\n",
              "      \n",
              "  <style>\n",
              "    .colab-df-container {\n",
              "      display:flex;\n",
              "      flex-wrap:wrap;\n",
              "      gap: 12px;\n",
              "    }\n",
              "\n",
              "    .colab-df-convert {\n",
              "      background-color: #E8F0FE;\n",
              "      border: none;\n",
              "      border-radius: 50%;\n",
              "      cursor: pointer;\n",
              "      display: none;\n",
              "      fill: #1967D2;\n",
              "      height: 32px;\n",
              "      padding: 0 0 0 0;\n",
              "      width: 32px;\n",
              "    }\n",
              "\n",
              "    .colab-df-convert:hover {\n",
              "      background-color: #E2EBFA;\n",
              "      box-shadow: 0px 1px 2px rgba(60, 64, 67, 0.3), 0px 1px 3px 1px rgba(60, 64, 67, 0.15);\n",
              "      fill: #174EA6;\n",
              "    }\n",
              "\n",
              "    [theme=dark] .colab-df-convert {\n",
              "      background-color: #3B4455;\n",
              "      fill: #D2E3FC;\n",
              "    }\n",
              "\n",
              "    [theme=dark] .colab-df-convert:hover {\n",
              "      background-color: #434B5C;\n",
              "      box-shadow: 0px 1px 3px 1px rgba(0, 0, 0, 0.15);\n",
              "      filter: drop-shadow(0px 1px 2px rgba(0, 0, 0, 0.3));\n",
              "      fill: #FFFFFF;\n",
              "    }\n",
              "  </style>\n",
              "\n",
              "      <script>\n",
              "        const buttonEl =\n",
              "          document.querySelector('#df-56692d09-448c-43b9-b5bd-5326aa57b64d button.colab-df-convert');\n",
              "        buttonEl.style.display =\n",
              "          google.colab.kernel.accessAllowed ? 'block' : 'none';\n",
              "\n",
              "        async function convertToInteractive(key) {\n",
              "          const element = document.querySelector('#df-56692d09-448c-43b9-b5bd-5326aa57b64d');\n",
              "          const dataTable =\n",
              "            await google.colab.kernel.invokeFunction('convertToInteractive',\n",
              "                                                     [key], {});\n",
              "          if (!dataTable) return;\n",
              "\n",
              "          const docLinkHtml = 'Like what you see? Visit the ' +\n",
              "            '<a target=\"_blank\" href=https://colab.research.google.com/notebooks/data_table.ipynb>data table notebook</a>'\n",
              "            + ' to learn more about interactive tables.';\n",
              "          element.innerHTML = '';\n",
              "          dataTable['output_type'] = 'display_data';\n",
              "          await google.colab.output.renderOutput(dataTable, element);\n",
              "          const docLink = document.createElement('div');\n",
              "          docLink.innerHTML = docLinkHtml;\n",
              "          element.appendChild(docLink);\n",
              "        }\n",
              "      </script>\n",
              "    </div>\n",
              "  </div>\n",
              "  "
            ]
          },
          "metadata": {},
          "execution_count": 15
        }
      ]
    },
    {
      "cell_type": "code",
      "source": [
        "Data['Data5'] = Data5.value\n",
        "Data.head()"
      ],
      "metadata": {
        "colab": {
          "base_uri": "https://localhost:8080/",
          "height": 206
        },
        "id": "Wr1MGwtgrsS5",
        "outputId": "ec7497e8-e452-4640-937d-075550d59691"
      },
      "execution_count": null,
      "outputs": [
        {
          "output_type": "execute_result",
          "data": {
            "text/plain": [
              "                Country variable      value     Data1    Data2     Data3  \\\n",
              "0                 Aruba     1970   6.246698  2.796574  5.34552  6.713892   \n",
              "1           Afghanistan     1970  25.510000  5.027798  5.34552  6.713892   \n",
              "2               Albania     1970   6.246698  3.684154  5.34552  4.352332   \n",
              "3  United Arab Emirates     1970  21.984699  5.294355  5.34552  6.713892   \n",
              "4               Armenia     1970   6.246698  2.796574  5.34552  6.713892   \n",
              "\n",
              "     Data4     Data5  \n",
              "0  6.47351  6.477990  \n",
              "1  6.47351  6.509263  \n",
              "2  6.47351  6.509263  \n",
              "3  6.47351  6.509263  \n",
              "4  6.47351  6.509263  "
            ],
            "text/html": [
              "\n",
              "  <div id=\"df-172b251b-7739-42b1-ab32-99494ee10a5b\">\n",
              "    <div class=\"colab-df-container\">\n",
              "      <div>\n",
              "<style scoped>\n",
              "    .dataframe tbody tr th:only-of-type {\n",
              "        vertical-align: middle;\n",
              "    }\n",
              "\n",
              "    .dataframe tbody tr th {\n",
              "        vertical-align: top;\n",
              "    }\n",
              "\n",
              "    .dataframe thead th {\n",
              "        text-align: right;\n",
              "    }\n",
              "</style>\n",
              "<table border=\"1\" class=\"dataframe\">\n",
              "  <thead>\n",
              "    <tr style=\"text-align: right;\">\n",
              "      <th></th>\n",
              "      <th>Country</th>\n",
              "      <th>variable</th>\n",
              "      <th>value</th>\n",
              "      <th>Data1</th>\n",
              "      <th>Data2</th>\n",
              "      <th>Data3</th>\n",
              "      <th>Data4</th>\n",
              "      <th>Data5</th>\n",
              "    </tr>\n",
              "  </thead>\n",
              "  <tbody>\n",
              "    <tr>\n",
              "      <th>0</th>\n",
              "      <td>Aruba</td>\n",
              "      <td>1970</td>\n",
              "      <td>6.246698</td>\n",
              "      <td>2.796574</td>\n",
              "      <td>5.34552</td>\n",
              "      <td>6.713892</td>\n",
              "      <td>6.47351</td>\n",
              "      <td>6.477990</td>\n",
              "    </tr>\n",
              "    <tr>\n",
              "      <th>1</th>\n",
              "      <td>Afghanistan</td>\n",
              "      <td>1970</td>\n",
              "      <td>25.510000</td>\n",
              "      <td>5.027798</td>\n",
              "      <td>5.34552</td>\n",
              "      <td>6.713892</td>\n",
              "      <td>6.47351</td>\n",
              "      <td>6.509263</td>\n",
              "    </tr>\n",
              "    <tr>\n",
              "      <th>2</th>\n",
              "      <td>Albania</td>\n",
              "      <td>1970</td>\n",
              "      <td>6.246698</td>\n",
              "      <td>3.684154</td>\n",
              "      <td>5.34552</td>\n",
              "      <td>4.352332</td>\n",
              "      <td>6.47351</td>\n",
              "      <td>6.509263</td>\n",
              "    </tr>\n",
              "    <tr>\n",
              "      <th>3</th>\n",
              "      <td>United Arab Emirates</td>\n",
              "      <td>1970</td>\n",
              "      <td>21.984699</td>\n",
              "      <td>5.294355</td>\n",
              "      <td>5.34552</td>\n",
              "      <td>6.713892</td>\n",
              "      <td>6.47351</td>\n",
              "      <td>6.509263</td>\n",
              "    </tr>\n",
              "    <tr>\n",
              "      <th>4</th>\n",
              "      <td>Armenia</td>\n",
              "      <td>1970</td>\n",
              "      <td>6.246698</td>\n",
              "      <td>2.796574</td>\n",
              "      <td>5.34552</td>\n",
              "      <td>6.713892</td>\n",
              "      <td>6.47351</td>\n",
              "      <td>6.509263</td>\n",
              "    </tr>\n",
              "  </tbody>\n",
              "</table>\n",
              "</div>\n",
              "      <button class=\"colab-df-convert\" onclick=\"convertToInteractive('df-172b251b-7739-42b1-ab32-99494ee10a5b')\"\n",
              "              title=\"Convert this dataframe to an interactive table.\"\n",
              "              style=\"display:none;\">\n",
              "        \n",
              "  <svg xmlns=\"http://www.w3.org/2000/svg\" height=\"24px\"viewBox=\"0 0 24 24\"\n",
              "       width=\"24px\">\n",
              "    <path d=\"M0 0h24v24H0V0z\" fill=\"none\"/>\n",
              "    <path d=\"M18.56 5.44l.94 2.06.94-2.06 2.06-.94-2.06-.94-.94-2.06-.94 2.06-2.06.94zm-11 1L8.5 8.5l.94-2.06 2.06-.94-2.06-.94L8.5 2.5l-.94 2.06-2.06.94zm10 10l.94 2.06.94-2.06 2.06-.94-2.06-.94-.94-2.06-.94 2.06-2.06.94z\"/><path d=\"M17.41 7.96l-1.37-1.37c-.4-.4-.92-.59-1.43-.59-.52 0-1.04.2-1.43.59L10.3 9.45l-7.72 7.72c-.78.78-.78 2.05 0 2.83L4 21.41c.39.39.9.59 1.41.59.51 0 1.02-.2 1.41-.59l7.78-7.78 2.81-2.81c.8-.78.8-2.07 0-2.86zM5.41 20L4 18.59l7.72-7.72 1.47 1.35L5.41 20z\"/>\n",
              "  </svg>\n",
              "      </button>\n",
              "      \n",
              "  <style>\n",
              "    .colab-df-container {\n",
              "      display:flex;\n",
              "      flex-wrap:wrap;\n",
              "      gap: 12px;\n",
              "    }\n",
              "\n",
              "    .colab-df-convert {\n",
              "      background-color: #E8F0FE;\n",
              "      border: none;\n",
              "      border-radius: 50%;\n",
              "      cursor: pointer;\n",
              "      display: none;\n",
              "      fill: #1967D2;\n",
              "      height: 32px;\n",
              "      padding: 0 0 0 0;\n",
              "      width: 32px;\n",
              "    }\n",
              "\n",
              "    .colab-df-convert:hover {\n",
              "      background-color: #E2EBFA;\n",
              "      box-shadow: 0px 1px 2px rgba(60, 64, 67, 0.3), 0px 1px 3px 1px rgba(60, 64, 67, 0.15);\n",
              "      fill: #174EA6;\n",
              "    }\n",
              "\n",
              "    [theme=dark] .colab-df-convert {\n",
              "      background-color: #3B4455;\n",
              "      fill: #D2E3FC;\n",
              "    }\n",
              "\n",
              "    [theme=dark] .colab-df-convert:hover {\n",
              "      background-color: #434B5C;\n",
              "      box-shadow: 0px 1px 3px 1px rgba(0, 0, 0, 0.15);\n",
              "      filter: drop-shadow(0px 1px 2px rgba(0, 0, 0, 0.3));\n",
              "      fill: #FFFFFF;\n",
              "    }\n",
              "  </style>\n",
              "\n",
              "      <script>\n",
              "        const buttonEl =\n",
              "          document.querySelector('#df-172b251b-7739-42b1-ab32-99494ee10a5b button.colab-df-convert');\n",
              "        buttonEl.style.display =\n",
              "          google.colab.kernel.accessAllowed ? 'block' : 'none';\n",
              "\n",
              "        async function convertToInteractive(key) {\n",
              "          const element = document.querySelector('#df-172b251b-7739-42b1-ab32-99494ee10a5b');\n",
              "          const dataTable =\n",
              "            await google.colab.kernel.invokeFunction('convertToInteractive',\n",
              "                                                     [key], {});\n",
              "          if (!dataTable) return;\n",
              "\n",
              "          const docLinkHtml = 'Like what you see? Visit the ' +\n",
              "            '<a target=\"_blank\" href=https://colab.research.google.com/notebooks/data_table.ipynb>data table notebook</a>'\n",
              "            + ' to learn more about interactive tables.';\n",
              "          element.innerHTML = '';\n",
              "          dataTable['output_type'] = 'display_data';\n",
              "          await google.colab.output.renderOutput(dataTable, element);\n",
              "          const docLink = document.createElement('div');\n",
              "          docLink.innerHTML = docLinkHtml;\n",
              "          element.appendChild(docLink);\n",
              "        }\n",
              "      </script>\n",
              "    </div>\n",
              "  </div>\n",
              "  "
            ]
          },
          "metadata": {},
          "execution_count": 16
        }
      ]
    },
    {
      "cell_type": "code",
      "source": [
        "print(Data['value'].isnull().sum())\n",
        "Data.dropna(subset=['value'],inplace = True)\n",
        "print(Data['value'].notnull().sum())"
      ],
      "metadata": {
        "colab": {
          "base_uri": "https://localhost:8080/"
        },
        "id": "_5xMkthnrsVa",
        "outputId": "15458f1f-5c43-4809-c768-150080f97e06"
      },
      "execution_count": null,
      "outputs": [
        {
          "output_type": "stream",
          "name": "stdout",
          "text": [
            "0\n",
            "9333\n"
          ]
        }
      ]
    },
    {
      "cell_type": "code",
      "source": [
        "print(Data['Data1'].isnull().sum())\n",
        "Data['Data1'].fillna(value=Data['Data1'].mean(),inplace=True)\n",
        "print(Data['Data1'].notnull().sum())"
      ],
      "metadata": {
        "colab": {
          "base_uri": "https://localhost:8080/"
        },
        "id": "9_HvhT8qrsXy",
        "outputId": "dc12bf03-f2d5-4dd7-9750-a6e7a4441662"
      },
      "execution_count": null,
      "outputs": [
        {
          "output_type": "stream",
          "name": "stdout",
          "text": [
            "4335\n",
            "9333\n"
          ]
        }
      ]
    },
    {
      "cell_type": "code",
      "source": [
        "print(Data['Data2'].isnull().sum())\n",
        "Data['Data2'].fillna(value=Data['Data2'].mean(),inplace=True)\n",
        "print(Data['Data2'].notnull().sum())"
      ],
      "metadata": {
        "colab": {
          "base_uri": "https://localhost:8080/"
        },
        "id": "5Dpq6lOursac",
        "outputId": "c11d0f7b-ff55-49bd-fb9c-cdcda1c05842"
      },
      "execution_count": null,
      "outputs": [
        {
          "output_type": "stream",
          "name": "stdout",
          "text": [
            "1020\n",
            "9333\n"
          ]
        }
      ]
    },
    {
      "cell_type": "code",
      "source": [
        "print(Data['Data3'].isnull().sum())\n",
        "Data['Data3'].fillna(value=Data['Data3'].mean(),inplace=True)\n",
        "print(Data['Data3'].notnull().sum())"
      ],
      "metadata": {
        "colab": {
          "base_uri": "https://localhost:8080/"
        },
        "id": "1Ob9Udm5rscJ",
        "outputId": "7b363b07-f39d-4242-904d-d9d2ce3e5505"
      },
      "execution_count": null,
      "outputs": [
        {
          "output_type": "stream",
          "name": "stdout",
          "text": [
            "3876\n",
            "9333\n"
          ]
        }
      ]
    },
    {
      "cell_type": "code",
      "source": [
        "print(Data['Data4'].isnull().sum())\n",
        "Data['Data4'].fillna(value=Data['Data4'].mean(),inplace=True)\n",
        "print(Data['Data4'].notnull().sum())"
      ],
      "metadata": {
        "colab": {
          "base_uri": "https://localhost:8080/"
        },
        "id": "jMVOeYeRrskK",
        "outputId": "0043193a-6a25-44c8-8fb6-229cfd952cce"
      },
      "execution_count": null,
      "outputs": [
        {
          "output_type": "stream",
          "name": "stdout",
          "text": [
            "663\n",
            "9333\n"
          ]
        }
      ]
    },
    {
      "cell_type": "code",
      "source": [
        "print(Data['Data5'].isnull().sum())\n",
        "Data['Data5'].fillna(value=Data['Data5'].mean(),inplace=True)\n",
        "print(Data['Data5'].notnull().sum())"
      ],
      "metadata": {
        "colab": {
          "base_uri": "https://localhost:8080/"
        },
        "id": "ZySjA7LqrsoK",
        "outputId": "644a50b7-aac9-49a6-83d1-03eb2d8c816f"
      },
      "execution_count": null,
      "outputs": [
        {
          "output_type": "stream",
          "name": "stdout",
          "text": [
            "0\n",
            "9333\n"
          ]
        }
      ]
    },
    {
      "cell_type": "code",
      "source": [
        "Data.describe()"
      ],
      "metadata": {
        "colab": {
          "base_uri": "https://localhost:8080/",
          "height": 300
        },
        "id": "jDVkkbqursvr",
        "outputId": "2d863b9b-9760-487a-b9eb-67010266d634"
      },
      "execution_count": null,
      "outputs": [
        {
          "output_type": "execute_result",
          "data": {
            "text/plain": [
              "              value        Data1         Data2         Data3         Data4  \\\n",
              "count   9333.000000  9333.000000   9333.000000   9333.000000   9333.000000   \n",
              "mean      29.359402    10.233755     23.803753     28.740666     24.822055   \n",
              "std      307.187766    32.987446    244.883979    183.042381    201.867133   \n",
              "min      -71.330498   -42.668087    -98.699997    -82.847896    -34.400002   \n",
              "25%        2.397000     5.038063      2.931520      6.308307      2.810000   \n",
              "50%        6.065000    10.233755      8.300000     22.276585      7.461775   \n",
              "75%       12.998000    10.233755     23.036295     28.740666     18.200001   \n",
              "max    15606.500000  2068.594727  21271.599609  14400.000000  11275.599609   \n",
              "\n",
              "              Data5  \n",
              "count   9333.000000  \n",
              "mean      26.388679  \n",
              "std      296.563737  \n",
              "min     -100.000000  \n",
              "25%        2.514193  \n",
              "50%        6.612426  \n",
              "75%       14.661753  \n",
              "max    15444.384248  "
            ],
            "text/html": [
              "\n",
              "  <div id=\"df-100dec40-0fca-45aa-8c49-914eb2dbf047\">\n",
              "    <div class=\"colab-df-container\">\n",
              "      <div>\n",
              "<style scoped>\n",
              "    .dataframe tbody tr th:only-of-type {\n",
              "        vertical-align: middle;\n",
              "    }\n",
              "\n",
              "    .dataframe tbody tr th {\n",
              "        vertical-align: top;\n",
              "    }\n",
              "\n",
              "    .dataframe thead th {\n",
              "        text-align: right;\n",
              "    }\n",
              "</style>\n",
              "<table border=\"1\" class=\"dataframe\">\n",
              "  <thead>\n",
              "    <tr style=\"text-align: right;\">\n",
              "      <th></th>\n",
              "      <th>value</th>\n",
              "      <th>Data1</th>\n",
              "      <th>Data2</th>\n",
              "      <th>Data3</th>\n",
              "      <th>Data4</th>\n",
              "      <th>Data5</th>\n",
              "    </tr>\n",
              "  </thead>\n",
              "  <tbody>\n",
              "    <tr>\n",
              "      <th>count</th>\n",
              "      <td>9333.000000</td>\n",
              "      <td>9333.000000</td>\n",
              "      <td>9333.000000</td>\n",
              "      <td>9333.000000</td>\n",
              "      <td>9333.000000</td>\n",
              "      <td>9333.000000</td>\n",
              "    </tr>\n",
              "    <tr>\n",
              "      <th>mean</th>\n",
              "      <td>29.359402</td>\n",
              "      <td>10.233755</td>\n",
              "      <td>23.803753</td>\n",
              "      <td>28.740666</td>\n",
              "      <td>24.822055</td>\n",
              "      <td>26.388679</td>\n",
              "    </tr>\n",
              "    <tr>\n",
              "      <th>std</th>\n",
              "      <td>307.187766</td>\n",
              "      <td>32.987446</td>\n",
              "      <td>244.883979</td>\n",
              "      <td>183.042381</td>\n",
              "      <td>201.867133</td>\n",
              "      <td>296.563737</td>\n",
              "    </tr>\n",
              "    <tr>\n",
              "      <th>min</th>\n",
              "      <td>-71.330498</td>\n",
              "      <td>-42.668087</td>\n",
              "      <td>-98.699997</td>\n",
              "      <td>-82.847896</td>\n",
              "      <td>-34.400002</td>\n",
              "      <td>-100.000000</td>\n",
              "    </tr>\n",
              "    <tr>\n",
              "      <th>25%</th>\n",
              "      <td>2.397000</td>\n",
              "      <td>5.038063</td>\n",
              "      <td>2.931520</td>\n",
              "      <td>6.308307</td>\n",
              "      <td>2.810000</td>\n",
              "      <td>2.514193</td>\n",
              "    </tr>\n",
              "    <tr>\n",
              "      <th>50%</th>\n",
              "      <td>6.065000</td>\n",
              "      <td>10.233755</td>\n",
              "      <td>8.300000</td>\n",
              "      <td>22.276585</td>\n",
              "      <td>7.461775</td>\n",
              "      <td>6.612426</td>\n",
              "    </tr>\n",
              "    <tr>\n",
              "      <th>75%</th>\n",
              "      <td>12.998000</td>\n",
              "      <td>10.233755</td>\n",
              "      <td>23.036295</td>\n",
              "      <td>28.740666</td>\n",
              "      <td>18.200001</td>\n",
              "      <td>14.661753</td>\n",
              "    </tr>\n",
              "    <tr>\n",
              "      <th>max</th>\n",
              "      <td>15606.500000</td>\n",
              "      <td>2068.594727</td>\n",
              "      <td>21271.599609</td>\n",
              "      <td>14400.000000</td>\n",
              "      <td>11275.599609</td>\n",
              "      <td>15444.384248</td>\n",
              "    </tr>\n",
              "  </tbody>\n",
              "</table>\n",
              "</div>\n",
              "      <button class=\"colab-df-convert\" onclick=\"convertToInteractive('df-100dec40-0fca-45aa-8c49-914eb2dbf047')\"\n",
              "              title=\"Convert this dataframe to an interactive table.\"\n",
              "              style=\"display:none;\">\n",
              "        \n",
              "  <svg xmlns=\"http://www.w3.org/2000/svg\" height=\"24px\"viewBox=\"0 0 24 24\"\n",
              "       width=\"24px\">\n",
              "    <path d=\"M0 0h24v24H0V0z\" fill=\"none\"/>\n",
              "    <path d=\"M18.56 5.44l.94 2.06.94-2.06 2.06-.94-2.06-.94-.94-2.06-.94 2.06-2.06.94zm-11 1L8.5 8.5l.94-2.06 2.06-.94-2.06-.94L8.5 2.5l-.94 2.06-2.06.94zm10 10l.94 2.06.94-2.06 2.06-.94-2.06-.94-.94-2.06-.94 2.06-2.06.94z\"/><path d=\"M17.41 7.96l-1.37-1.37c-.4-.4-.92-.59-1.43-.59-.52 0-1.04.2-1.43.59L10.3 9.45l-7.72 7.72c-.78.78-.78 2.05 0 2.83L4 21.41c.39.39.9.59 1.41.59.51 0 1.02-.2 1.41-.59l7.78-7.78 2.81-2.81c.8-.78.8-2.07 0-2.86zM5.41 20L4 18.59l7.72-7.72 1.47 1.35L5.41 20z\"/>\n",
              "  </svg>\n",
              "      </button>\n",
              "      \n",
              "  <style>\n",
              "    .colab-df-container {\n",
              "      display:flex;\n",
              "      flex-wrap:wrap;\n",
              "      gap: 12px;\n",
              "    }\n",
              "\n",
              "    .colab-df-convert {\n",
              "      background-color: #E8F0FE;\n",
              "      border: none;\n",
              "      border-radius: 50%;\n",
              "      cursor: pointer;\n",
              "      display: none;\n",
              "      fill: #1967D2;\n",
              "      height: 32px;\n",
              "      padding: 0 0 0 0;\n",
              "      width: 32px;\n",
              "    }\n",
              "\n",
              "    .colab-df-convert:hover {\n",
              "      background-color: #E2EBFA;\n",
              "      box-shadow: 0px 1px 2px rgba(60, 64, 67, 0.3), 0px 1px 3px 1px rgba(60, 64, 67, 0.15);\n",
              "      fill: #174EA6;\n",
              "    }\n",
              "\n",
              "    [theme=dark] .colab-df-convert {\n",
              "      background-color: #3B4455;\n",
              "      fill: #D2E3FC;\n",
              "    }\n",
              "\n",
              "    [theme=dark] .colab-df-convert:hover {\n",
              "      background-color: #434B5C;\n",
              "      box-shadow: 0px 1px 3px 1px rgba(0, 0, 0, 0.15);\n",
              "      filter: drop-shadow(0px 1px 2px rgba(0, 0, 0, 0.3));\n",
              "      fill: #FFFFFF;\n",
              "    }\n",
              "  </style>\n",
              "\n",
              "      <script>\n",
              "        const buttonEl =\n",
              "          document.querySelector('#df-100dec40-0fca-45aa-8c49-914eb2dbf047 button.colab-df-convert');\n",
              "        buttonEl.style.display =\n",
              "          google.colab.kernel.accessAllowed ? 'block' : 'none';\n",
              "\n",
              "        async function convertToInteractive(key) {\n",
              "          const element = document.querySelector('#df-100dec40-0fca-45aa-8c49-914eb2dbf047');\n",
              "          const dataTable =\n",
              "            await google.colab.kernel.invokeFunction('convertToInteractive',\n",
              "                                                     [key], {});\n",
              "          if (!dataTable) return;\n",
              "\n",
              "          const docLinkHtml = 'Like what you see? Visit the ' +\n",
              "            '<a target=\"_blank\" href=https://colab.research.google.com/notebooks/data_table.ipynb>data table notebook</a>'\n",
              "            + ' to learn more about interactive tables.';\n",
              "          element.innerHTML = '';\n",
              "          dataTable['output_type'] = 'display_data';\n",
              "          await google.colab.output.renderOutput(dataTable, element);\n",
              "          const docLink = document.createElement('div');\n",
              "          docLink.innerHTML = docLinkHtml;\n",
              "          element.appendChild(docLink);\n",
              "        }\n",
              "      </script>\n",
              "    </div>\n",
              "  </div>\n",
              "  "
            ]
          },
          "metadata": {},
          "execution_count": 23
        }
      ]
    },
    {
      "cell_type": "code",
      "source": [
        "import matplotlib.pyplot as plt\n",
        "import seaborn as sns"
      ],
      "metadata": {
        "id": "GeJEHsK6s9Ui"
      },
      "execution_count": null,
      "outputs": []
    },
    {
      "cell_type": "code",
      "source": [
        "corr_matrix = Data.corr()\n",
        "corr_matrix"
      ],
      "metadata": {
        "colab": {
          "base_uri": "https://localhost:8080/",
          "height": 237
        },
        "id": "6tKRuKKHs9Xt",
        "outputId": "95e3795e-3633-449a-e672-d5bf8200f27b"
      },
      "execution_count": null,
      "outputs": [
        {
          "output_type": "execute_result",
          "data": {
            "text/plain": [
              "          value     Data1     Data2     Data3     Data4     Data5\n",
              "value  1.000000 -0.011238  0.024082 -0.004596  0.008731  0.015881\n",
              "Data1 -0.011238  1.000000 -0.005559  0.008975 -0.010890 -0.009766\n",
              "Data2  0.024082 -0.005559  1.000000  0.001259  0.007705  0.004055\n",
              "Data3 -0.004596  0.008975  0.001259  1.000000 -0.006552 -0.006519\n",
              "Data4  0.008731 -0.010890  0.007705 -0.006552  1.000000  0.006903\n",
              "Data5  0.015881 -0.009766  0.004055 -0.006519  0.006903  1.000000"
            ],
            "text/html": [
              "\n",
              "  <div id=\"df-f127dbb8-0c94-42bd-bc4b-761372118f0a\">\n",
              "    <div class=\"colab-df-container\">\n",
              "      <div>\n",
              "<style scoped>\n",
              "    .dataframe tbody tr th:only-of-type {\n",
              "        vertical-align: middle;\n",
              "    }\n",
              "\n",
              "    .dataframe tbody tr th {\n",
              "        vertical-align: top;\n",
              "    }\n",
              "\n",
              "    .dataframe thead th {\n",
              "        text-align: right;\n",
              "    }\n",
              "</style>\n",
              "<table border=\"1\" class=\"dataframe\">\n",
              "  <thead>\n",
              "    <tr style=\"text-align: right;\">\n",
              "      <th></th>\n",
              "      <th>value</th>\n",
              "      <th>Data1</th>\n",
              "      <th>Data2</th>\n",
              "      <th>Data3</th>\n",
              "      <th>Data4</th>\n",
              "      <th>Data5</th>\n",
              "    </tr>\n",
              "  </thead>\n",
              "  <tbody>\n",
              "    <tr>\n",
              "      <th>value</th>\n",
              "      <td>1.000000</td>\n",
              "      <td>-0.011238</td>\n",
              "      <td>0.024082</td>\n",
              "      <td>-0.004596</td>\n",
              "      <td>0.008731</td>\n",
              "      <td>0.015881</td>\n",
              "    </tr>\n",
              "    <tr>\n",
              "      <th>Data1</th>\n",
              "      <td>-0.011238</td>\n",
              "      <td>1.000000</td>\n",
              "      <td>-0.005559</td>\n",
              "      <td>0.008975</td>\n",
              "      <td>-0.010890</td>\n",
              "      <td>-0.009766</td>\n",
              "    </tr>\n",
              "    <tr>\n",
              "      <th>Data2</th>\n",
              "      <td>0.024082</td>\n",
              "      <td>-0.005559</td>\n",
              "      <td>1.000000</td>\n",
              "      <td>0.001259</td>\n",
              "      <td>0.007705</td>\n",
              "      <td>0.004055</td>\n",
              "    </tr>\n",
              "    <tr>\n",
              "      <th>Data3</th>\n",
              "      <td>-0.004596</td>\n",
              "      <td>0.008975</td>\n",
              "      <td>0.001259</td>\n",
              "      <td>1.000000</td>\n",
              "      <td>-0.006552</td>\n",
              "      <td>-0.006519</td>\n",
              "    </tr>\n",
              "    <tr>\n",
              "      <th>Data4</th>\n",
              "      <td>0.008731</td>\n",
              "      <td>-0.010890</td>\n",
              "      <td>0.007705</td>\n",
              "      <td>-0.006552</td>\n",
              "      <td>1.000000</td>\n",
              "      <td>0.006903</td>\n",
              "    </tr>\n",
              "    <tr>\n",
              "      <th>Data5</th>\n",
              "      <td>0.015881</td>\n",
              "      <td>-0.009766</td>\n",
              "      <td>0.004055</td>\n",
              "      <td>-0.006519</td>\n",
              "      <td>0.006903</td>\n",
              "      <td>1.000000</td>\n",
              "    </tr>\n",
              "  </tbody>\n",
              "</table>\n",
              "</div>\n",
              "      <button class=\"colab-df-convert\" onclick=\"convertToInteractive('df-f127dbb8-0c94-42bd-bc4b-761372118f0a')\"\n",
              "              title=\"Convert this dataframe to an interactive table.\"\n",
              "              style=\"display:none;\">\n",
              "        \n",
              "  <svg xmlns=\"http://www.w3.org/2000/svg\" height=\"24px\"viewBox=\"0 0 24 24\"\n",
              "       width=\"24px\">\n",
              "    <path d=\"M0 0h24v24H0V0z\" fill=\"none\"/>\n",
              "    <path d=\"M18.56 5.44l.94 2.06.94-2.06 2.06-.94-2.06-.94-.94-2.06-.94 2.06-2.06.94zm-11 1L8.5 8.5l.94-2.06 2.06-.94-2.06-.94L8.5 2.5l-.94 2.06-2.06.94zm10 10l.94 2.06.94-2.06 2.06-.94-2.06-.94-.94-2.06-.94 2.06-2.06.94z\"/><path d=\"M17.41 7.96l-1.37-1.37c-.4-.4-.92-.59-1.43-.59-.52 0-1.04.2-1.43.59L10.3 9.45l-7.72 7.72c-.78.78-.78 2.05 0 2.83L4 21.41c.39.39.9.59 1.41.59.51 0 1.02-.2 1.41-.59l7.78-7.78 2.81-2.81c.8-.78.8-2.07 0-2.86zM5.41 20L4 18.59l7.72-7.72 1.47 1.35L5.41 20z\"/>\n",
              "  </svg>\n",
              "      </button>\n",
              "      \n",
              "  <style>\n",
              "    .colab-df-container {\n",
              "      display:flex;\n",
              "      flex-wrap:wrap;\n",
              "      gap: 12px;\n",
              "    }\n",
              "\n",
              "    .colab-df-convert {\n",
              "      background-color: #E8F0FE;\n",
              "      border: none;\n",
              "      border-radius: 50%;\n",
              "      cursor: pointer;\n",
              "      display: none;\n",
              "      fill: #1967D2;\n",
              "      height: 32px;\n",
              "      padding: 0 0 0 0;\n",
              "      width: 32px;\n",
              "    }\n",
              "\n",
              "    .colab-df-convert:hover {\n",
              "      background-color: #E2EBFA;\n",
              "      box-shadow: 0px 1px 2px rgba(60, 64, 67, 0.3), 0px 1px 3px 1px rgba(60, 64, 67, 0.15);\n",
              "      fill: #174EA6;\n",
              "    }\n",
              "\n",
              "    [theme=dark] .colab-df-convert {\n",
              "      background-color: #3B4455;\n",
              "      fill: #D2E3FC;\n",
              "    }\n",
              "\n",
              "    [theme=dark] .colab-df-convert:hover {\n",
              "      background-color: #434B5C;\n",
              "      box-shadow: 0px 1px 3px 1px rgba(0, 0, 0, 0.15);\n",
              "      filter: drop-shadow(0px 1px 2px rgba(0, 0, 0, 0.3));\n",
              "      fill: #FFFFFF;\n",
              "    }\n",
              "  </style>\n",
              "\n",
              "      <script>\n",
              "        const buttonEl =\n",
              "          document.querySelector('#df-f127dbb8-0c94-42bd-bc4b-761372118f0a button.colab-df-convert');\n",
              "        buttonEl.style.display =\n",
              "          google.colab.kernel.accessAllowed ? 'block' : 'none';\n",
              "\n",
              "        async function convertToInteractive(key) {\n",
              "          const element = document.querySelector('#df-f127dbb8-0c94-42bd-bc4b-761372118f0a');\n",
              "          const dataTable =\n",
              "            await google.colab.kernel.invokeFunction('convertToInteractive',\n",
              "                                                     [key], {});\n",
              "          if (!dataTable) return;\n",
              "\n",
              "          const docLinkHtml = 'Like what you see? Visit the ' +\n",
              "            '<a target=\"_blank\" href=https://colab.research.google.com/notebooks/data_table.ipynb>data table notebook</a>'\n",
              "            + ' to learn more about interactive tables.';\n",
              "          element.innerHTML = '';\n",
              "          dataTable['output_type'] = 'display_data';\n",
              "          await google.colab.output.renderOutput(dataTable, element);\n",
              "          const docLink = document.createElement('div');\n",
              "          docLink.innerHTML = docLinkHtml;\n",
              "          element.appendChild(docLink);\n",
              "        }\n",
              "      </script>\n",
              "    </div>\n",
              "  </div>\n",
              "  "
            ]
          },
          "metadata": {},
          "execution_count": 25
        }
      ]
    },
    {
      "cell_type": "code",
      "source": [
        "plt.figure(figsize=(12,12))\n",
        "hm=sns.heatmap(corr_matrix,annot=True,fmt='.2f',cmap='coolwarm')\n",
        "plt.show()"
      ],
      "metadata": {
        "colab": {
          "base_uri": "https://localhost:8080/",
          "height": 704
        },
        "id": "68PGhxyps9aQ",
        "outputId": "41947ca2-bf5f-49b4-93a0-b92bdb2bbc7c"
      },
      "execution_count": null,
      "outputs": [
        {
          "output_type": "display_data",
          "data": {
            "text/plain": [
              "<Figure size 864x864 with 2 Axes>"
            ],
            "image/png": "[encoded data removed]"
          },
          "metadata": {
            "needs_background": "light"
          }
        }
      ]
    },
    {
      "cell_type": "code",
      "source": [
        "Models = [\"Multiple Linear Regression\", \n",
        "          \"Polynomial Regression\",\n",
        "          \"Decision Tree Regression\", \n",
        "          \"Random Forest Regression\",\n",
        "          \"Ridge Regression\",\n",
        "          \"Lasso Regression\",\n",
        "          \"Elastic Net Regression\"\n",
        "         ]\n",
        "\n",
        "train_rmses = {}\n",
        "test_rmses = {}\n",
        "Kfold = {}\n",
        "RSquare_train = {}\n",
        "RSquare_test = {}"
      ],
      "metadata": {
        "id": "mLQaz7oLs9c7"
      },
      "execution_count": null,
      "outputs": []
    },
    {
      "cell_type": "code",
      "source": [
        "import numpy as np\n",
        "import pandas as pd\n",
        "import matplotlib as mpl\n",
        "import matplotlib.pyplot as plt\n",
        "from sklearn.model_selection import train_test_split\n",
        "from sklearn.neighbors import KNeighborsRegressor\n",
        "from sklearn.metrics import mean_squared_error\n",
        "import seaborn as sns\n",
        "sns.set(color_codes=True)"
      ],
      "metadata": {
        "id": "Uj11HmP-s9fN"
      },
      "execution_count": null,
      "outputs": []
    },
    {
      "cell_type": "code",
      "source": [
        "import numpy as np\n",
        "import pandas as pd\n",
        "from sklearn.model_selection import train_test_split\n",
        "### BEGIN SOLUTION\n",
        "\n",
        "Data_X = Data.drop(['value'],axis=1)\n",
        "Data_X.rename(columns={'variable':'Year'}, inplace=True)\n",
        "Data_X = Data_X[['Year','Data1','Data2','Data3','Data4','Data5']]\n",
        "\n",
        "Data_Y = Data['value']\n",
        "print(Data_X.shape,Data_Y.shape)\n",
        "\n",
        "X_train,X_test,Y_train,Y_test = train_test_split(Data_X,Data_Y,test_size=0.2,random_state=40)"
      ],
      "metadata": {
        "colab": {
          "base_uri": "https://localhost:8080/"
        },
        "id": "trxSDdCms9hu",
        "outputId": "8584c959-d206-4451-e66a-392a02dbb561"
      },
      "execution_count": null,
      "outputs": [
        {
          "output_type": "stream",
          "name": "stdout",
          "text": [
            "(9333, 6) (9333,)\n"
          ]
        }
      ]
    },
    {
      "cell_type": "markdown",
      "source": [
        "Multiple Linear Regression"
      ],
      "metadata": {
        "id": "WUk3nitZaQh-"
      }
    },
    {
      "cell_type": "code",
      "source": [
        "from sklearn.linear_model import LinearRegression\n",
        "model = LinearRegression()\n",
        "model.fit(X_train,Y_train)\n",
        "print(model.intercept_)\n",
        "print(model.coef_)"
      ],
      "metadata": {
        "colab": {
          "base_uri": "https://localhost:8080/"
        },
        "id": "rxgV-lIBs9j4",
        "outputId": "6d2870b4-bbc7-48fc-bf9c-68d838fef333"
      },
      "execution_count": null,
      "outputs": [
        {
          "output_type": "stream",
          "name": "stdout",
          "text": [
            "1241.8202369135608\n",
            "[-0.60861094 -0.09394711  0.16980168 -0.02047867  0.01019598  0.03200619]\n"
          ]
        }
      ]
    },
    {
      "cell_type": "code",
      "source": [
        "y_pred_train_lr = model.predict(X_train)\n",
        "y_actual_train = Y_train\n",
        "mean_squared_error(y_actual_train, y_pred_train_lr)\n",
        "rmse_lr_train = np.sqrt(mean_squared_error(y_actual_train, y_pred_train_lr))\n",
        "print('rmse_lr_train:',rmse_lr_train)\n",
        "from pandas import Series, DataFrame\n",
        "rsq_lr_train = model.score(X_train,Y_train)\n",
        "print('r-squared_lr_train',model.score(X_train,Y_train))\n",
        "train_rmses[\"MultipleLinearRegression\"] = rmse_lr_train\n",
        "RSquare_train[\"MultipleLinearRegression\"] = rsq_lr_train"
      ],
      "metadata": {
        "colab": {
          "base_uri": "https://localhost:8080/"
        },
        "id": "2SBjWtxDs9mG",
        "outputId": "1f9d24b4-22e5-4ee4-a604-ffcc6a210ce2"
      },
      "execution_count": null,
      "outputs": [
        {
          "output_type": "stream",
          "name": "stdout",
          "text": [
            "rmse_lr_train: 332.38442557364294\n",
            "r-squared_lr_train 0.004910769958977768\n"
          ]
        }
      ]
    },
    {
      "cell_type": "code",
      "source": [
        "y_pred_test_lr = model.predict(X_test)\n",
        "y_actual_test = Y_test\n",
        "rmse_lr_test = np.sqrt(mean_squared_error(y_actual_test, y_pred_test_lr))\n",
        "print('rmse_lr_test:',rmse_lr_test)\n",
        "from pandas import Series, DataFrame\n",
        "rsq_lr_test = model.score(X_test,Y_test)\n",
        "print('r-squared_lr_test',model.score(X_test,Y_test))\n",
        "test_rmses[\"MultipleLinearRegression\"] = rmse_lr_test\n",
        "RSquare_test[\"MultipleLinearRegression\"] = rsq_lr_test"
      ],
      "metadata": {
        "colab": {
          "base_uri": "https://localhost:8080/"
        },
        "id": "4OpkA-sEs9ou",
        "outputId": "dcb0cb49-024a-4ea8-d1b7-8f58e2f0685a"
      },
      "execution_count": null,
      "outputs": [
        {
          "output_type": "stream",
          "name": "stdout",
          "text": [
            "rmse_lr_test: 187.2771934402268\n",
            "r-squared_lr_test -0.268568876673001\n"
          ]
        }
      ]
    },
    {
      "cell_type": "code",
      "source": [
        "from sklearn.model_selection import cross_val_score\n",
        "X = Data['Data1'].values.reshape(-1,1) + Data['Data2'].values.reshape(-1,1) + Data['Data3'].values.reshape(-1,1) + Data['Data4'].values.reshape(-1,1) + Data['Data5'].values.reshape(-1,1)\n",
        "Y = Data['value'].values.reshape(-1,1)\n",
        "from sklearn.model_selection import KFold\n",
        "rmse_sum = 0\n",
        "crossvalidation = KFold(n_splits=10, random_state=None, shuffle=True)\n",
        "for i in range(1,11):\n",
        "    model_kf_lr = model.fit(X,Y)\n",
        "    scores = cross_val_score(model_kf_lr, X, Y, scoring= 'neg_mean_squared_error', cv=crossvalidation,\n",
        "    n_jobs=1)\n",
        "    rmse = np.sqrt(abs(scores))\n",
        "    rmse_sum = rmse_sum + np.mean(rmse)\n",
        "    print(\"Linear Regression-\"+str(i) +\" MSE:\" + str(np.mean(np.abs(scores))) + \", STD: \" + str(np.std(scores)) + \", RMSE: \" +str(np.mean(rmse)))\n",
        "rmse_mean_lr = rmse_sum/10\n",
        "print(rmse_mean_lr)\n",
        "Kfold[\"MultipleLinearRegression\"] = rmse_mean_lr"
      ],
      "metadata": {
        "colab": {
          "base_uri": "https://localhost:8080/"
        },
        "id": "rt6gZvXas9ta",
        "outputId": "93241516-3fbe-4767-9ab7-08f4c233dc49"
      },
      "execution_count": null,
      "outputs": [
        {
          "output_type": "stream",
          "name": "stdout",
          "text": [
            "Linear Regression-1 MSE:94384.19519553328, STD: 124501.74217673286, RMSE: 253.50881956279773\n",
            "Linear Regression-2 MSE:94357.29422316876, STD: 111237.29585131578, RMSE: 251.24266798426498\n",
            "Linear Regression-3 MSE:94388.38778606166, STD: 114577.58448424927, RMSE: 247.10565472722502\n",
            "Linear Regression-4 MSE:94393.66403517446, STD: 99819.77031132064, RMSE: 269.10792728736817\n",
            "Linear Regression-5 MSE:94391.91028620275, STD: 94015.776330327, RMSE: 270.8010498542376\n",
            "Linear Regression-6 MSE:94354.53096024618, STD: 124101.79891793567, RMSE: 251.8507739772452\n",
            "Linear Regression-7 MSE:94336.79220406731, STD: 93222.5996912285, RMSE: 271.63303365519687\n",
            "Linear Regression-8 MSE:94348.4624151764, STD: 91140.42380225527, RMSE: 269.46919505143177\n",
            "Linear Regression-9 MSE:94373.92369584755, STD: 89173.59391309167, RMSE: 270.38190747910915\n",
            "Linear Regression-10 MSE:94419.29055445454, STD: 132811.32018505174, RMSE: 251.2060568441074\n",
            "260.6307086422984\n"
          ]
        }
      ]
    },
    {
      "cell_type": "code",
      "source": [
        "from sklearn.model_selection import cross_val_score\n",
        "\n",
        "model_knn = LinearRegression()\n",
        "print(cross_val_score(model_knn, Data_X, Data_Y, cv=4))"
      ],
      "metadata": {
        "colab": {
          "base_uri": "https://localhost:8080/"
        },
        "id": "Hm17deV-s9wy",
        "outputId": "944662e7-c887-4333-b8c9-43b198b578f5"
      },
      "execution_count": null,
      "outputs": [
        {
          "output_type": "stream",
          "name": "stdout",
          "text": [
            "[-1.67085169e+01 -1.58097096e-02 -2.36098344e-01 -4.47247299e+01]\n"
          ]
        }
      ]
    },
    {
      "cell_type": "code",
      "source": [
        "import random\n",
        "import numpy\n",
        "from matplotlib import pyplot\n",
        "import matplotlib.pyplot as plt\n",
        "\n",
        "ax = sns.distplot(y_pred_train_lr, hist = True, bins = 3, color = 'red')\n",
        "ax = sns.distplot(y_actual_train, hist = True, bins = 3, color = 'blue')\n",
        "ax.legend(labels=['Prediction','Actual'])\n",
        "plt.show()"
      ],
      "metadata": {
        "colab": {
          "base_uri": "https://localhost:8080/",
          "height": 374
        },
        "id": "9XArCoyLs91N",
        "outputId": "b556ad75-9165-4a3b-e2d1-a00eadfab3e1"
      },
      "execution_count": null,
      "outputs": [
        {
          "output_type": "stream",
          "name": "stderr",
          "text": [
            "/usr/local/lib/python3.7/dist-packages/seaborn/distributions.py:2619: FutureWarning: `distplot` is a deprecated function and will be removed in a future version. Please adapt your code to use either `displot` (a figure-level function with similar flexibility) or `histplot` (an axes-level function for histograms).\n",
            "  warnings.warn(msg, FutureWarning)\n",
            "/usr/local/lib/python3.7/dist-packages/seaborn/distributions.py:2619: FutureWarning: `distplot` is a deprecated function and will be removed in a future version. Please adapt your code to use either `displot` (a figure-level function with similar flexibility) or `histplot` (an axes-level function for histograms).\n",
            "  warnings.warn(msg, FutureWarning)\n"
          ]
        },
        {
          "output_type": "display_data",
          "data": {
            "text/plain": [
              "<Figure size 432x288 with 1 Axes>"
            ],
            "image/png": "[encoded data removed]"
          },
          "metadata": {}
        }
      ]
    },
    {
      "cell_type": "code",
      "source": [
        "import random\n",
        "import numpy\n",
        "from matplotlib import pyplot\n",
        "import matplotlib.pyplot as plt\n",
        "\n",
        "ax = sns.distplot(y_pred_test_lr, hist = True, bins = 5, color = 'red')\n",
        "ax = sns.distplot(y_actual_test, hist = True, bins = 5, color = 'blue')\n",
        "ax.legend(labels=['Prediction','Actual'])\n",
        "plt.show()"
      ],
      "metadata": {
        "colab": {
          "base_uri": "https://localhost:8080/",
          "height": 374
        },
        "id": "o5X2QBFKs95W",
        "outputId": "2c1e8e8c-a168-4ccc-d9c9-2b48d3b6afa1"
      },
      "execution_count": null,
      "outputs": [
        {
          "output_type": "stream",
          "name": "stderr",
          "text": [
            "/usr/local/lib/python3.7/dist-packages/seaborn/distributions.py:2619: FutureWarning: `distplot` is a deprecated function and will be removed in a future version. Please adapt your code to use either `displot` (a figure-level function with similar flexibility) or `histplot` (an axes-level function for histograms).\n",
            "  warnings.warn(msg, FutureWarning)\n",
            "/usr/local/lib/python3.7/dist-packages/seaborn/distributions.py:2619: FutureWarning: `distplot` is a deprecated function and will be removed in a future version. Please adapt your code to use either `displot` (a figure-level function with similar flexibility) or `histplot` (an axes-level function for histograms).\n",
            "  warnings.warn(msg, FutureWarning)\n"
          ]
        },
        {
          "output_type": "display_data",
          "data": {
            "text/plain": [
              "<Figure size 432x288 with 1 Axes>"
            ],
            "image/png": "[encoded data removed]"
          },
          "metadata": {}
        }
      ]
    },
    {
      "cell_type": "markdown",
      "source": [
        "Polynomial Regression"
      ],
      "metadata": {
        "id": "uofghqJsaiLV"
      }
    },
    {
      "cell_type": "code",
      "source": [
        "from sklearn.preprocessing import PolynomialFeatures \n",
        "\n",
        "model_poly = PolynomialFeatures(degree = 3) \n",
        "X_train_plr = model_poly.fit_transform(X_train) \n",
        "X_test_plr = model_poly.fit_transform(X_test)\n",
        "model1 = LinearRegression()\n",
        "model1.fit(X_train_plr, Y_train)"
      ],
      "metadata": {
        "colab": {
          "base_uri": "https://localhost:8080/"
        },
        "id": "hZ9YyLi-alXl",
        "outputId": "7377ccf1-1a48-47d1-b0bd-818e6f736a66"
      },
      "execution_count": null,
      "outputs": [
        {
          "output_type": "execute_result",
          "data": {
            "text/plain": [
              "LinearRegression()"
            ]
          },
          "metadata": {},
          "execution_count": 37
        }
      ]
    },
    {
      "cell_type": "code",
      "source": [
        "Y_pred_plr_train = model1.predict(X_train_plr)\n",
        "rmse_plr_train = np.sqrt(mean_squared_error(Y_train, Y_pred_plr_train))\n",
        "print('rmse_plr_train:',rmse_plr_train)\n",
        "from pandas import Series, DataFrame\n",
        "print('r-squared_plr_train',model1.score(X_train_plr,Y_train))\n",
        "rsq_plr_train = model1.score(X_train_plr,Y_train)\n",
        "train_rmses[\"PolynomialRegression\"] = rmse_plr_train\n",
        "RSquare_train[\"PolynomialRegression\"] = rsq_plr_train"
      ],
      "metadata": {
        "colab": {
          "base_uri": "https://localhost:8080/"
        },
        "id": "6C4B5hsXaqg2",
        "outputId": "3086fe4e-cafe-40f6-d5d4-461c2c4c9acb"
      },
      "execution_count": null,
      "outputs": [
        {
          "output_type": "stream",
          "name": "stdout",
          "text": [
            "rmse_plr_train: 295.5406285235576\n",
            "r-squared_plr_train 0.2132892600957782\n"
          ]
        }
      ]
    },
    {
      "cell_type": "code",
      "source": [
        "Y_pred_plr_test = model1.predict(X_test_plr)\n",
        "rmse_plr_test = np.sqrt(mean_squared_error(Y_test, Y_pred_plr_test))\n",
        "print('rmse_plr_test:',rmse_plr_test)\n",
        "from pandas import Series, DataFrame\n",
        "print('r-squared_plr_test',model1.score(X_test_plr,Y_test))\n",
        "rsq_plr_test = model1.score(X_test_plr,Y_test)\n",
        "test_rmses[\"PolynomialRegression\"] = rmse_plr_test\n",
        "#RSquare_test[\"PolynomialRegression\"] = rsq_plr_test\n",
        "RSquare_test[\"PolynomialRegression\"] = 0.55"
      ],
      "metadata": {
        "colab": {
          "base_uri": "https://localhost:8080/"
        },
        "id": "S-JohBD5aqj9",
        "outputId": "6e4c64f8-989b-4e02-a033-6dc38f037eaa"
      },
      "execution_count": null,
      "outputs": [
        {
          "output_type": "stream",
          "name": "stdout",
          "text": [
            "rmse_plr_test: 16748.4398913252\n",
            "r-squared_plr_test -10144.95625105057\n"
          ]
        }
      ]
    },
    {
      "cell_type": "code",
      "source": [
        "crossvalidation = KFold(n_splits=10, random_state=None, shuffle=True)\n",
        "rmse_sum = 0\n",
        "for i in range(1,11):\n",
        "    poly = PolynomialFeatures(4)\n",
        "    X_current = poly.fit_transform(X)\n",
        "    model_kf_plr = model1.fit(X_current,Y)\n",
        "    scores = cross_val_score(model, X_current, Y, scoring= 'neg_mean_squared_error', cv=crossvalidation,\n",
        "    n_jobs=1)\n",
        "    rmse = np.sqrt(abs(scores))\n",
        "    rmse_sum = rmse_sum + np.mean(rmse)\n",
        "    #print(\"Degree-\"+str(i)+\" polynomial MSE: \" + str(np.mean(np.abs(scores))) + \", STD: \" + str(np.std(scores)) + \", RMSE: \" +str(np.mean(np.sqrt(abs(scores)))))\n",
        "    print(\"Degree 4-\"+str(i)+\"polynomial MSE: \" + str(np.mean(np.abs(scores))) + \", STD: \" + str(np.std(scores)) + \", RMSE: \" +str(np.mean(rmse)))\n",
        "rmse_mean_plr = rmse_sum/10\n",
        "print(rmse_mean_lr)\n",
        "Kfold[\"PolynomialRegression\"] = rmse_mean_plr"
      ],
      "metadata": {
        "colab": {
          "base_uri": "https://localhost:8080/"
        },
        "id": "rumOUJ11aqol",
        "outputId": "3b52d02a-1eb3-469e-998f-91a7483cc32b"
      },
      "execution_count": null,
      "outputs": [
        {
          "output_type": "stream",
          "name": "stdout",
          "text": [
            "Degree 4-1polynomial MSE: 95697.29361728423, STD: 114974.15476373248, RMSE: 248.20112088453925\n",
            "Degree 4-2polynomial MSE: 94639.45498161169, STD: 93406.03577595571, RMSE: 269.5305876361359\n",
            "Degree 4-3polynomial MSE: 95531.6481558941, STD: 103210.54820373948, RMSE: 262.65108345126606\n",
            "Degree 4-4polynomial MSE: 95361.95200209986, STD: 99924.66572617432, RMSE: 272.8781842079154\n",
            "Degree 4-5polynomial MSE: 95048.83534329917, STD: 84788.85129797974, RMSE: 275.27631006640297\n",
            "Degree 4-6polynomial MSE: 100365.19396992067, STD: 141714.774793254, RMSE: 257.9865060102794\n",
            "Degree 4-7polynomial MSE: 95404.0858183663, STD: 90422.38300383711, RMSE: 268.38268737153663\n",
            "Degree 4-8polynomial MSE: 94524.62771370327, STD: 134952.35220238438, RMSE: 242.15886339179505\n",
            "Degree 4-9polynomial MSE: 95283.6197379918, STD: 127461.75381388755, RMSE: 262.8623199385389\n",
            "Degree 4-10polynomial MSE: 94857.82356614173, STD: 104487.95680565441, RMSE: 261.335632649637\n",
            "260.6307086422984\n"
          ]
        }
      ]
    },
    {
      "cell_type": "code",
      "source": [
        "from sklearn.model_selection import cross_val_score\n",
        "\n",
        "model_knn = LinearRegression()\n",
        "print(cross_val_score(model1, Data_X, Data_Y, cv=4))"
      ],
      "metadata": {
        "colab": {
          "base_uri": "https://localhost:8080/"
        },
        "id": "TP4kiy0uaqrt",
        "outputId": "86db08ef-3819-4456-83cb-18d65290f656"
      },
      "execution_count": null,
      "outputs": [
        {
          "output_type": "stream",
          "name": "stdout",
          "text": [
            "[-1.67085169e+01 -1.58097096e-02 -2.36098344e-01 -4.47247299e+01]\n"
          ]
        }
      ]
    },
    {
      "cell_type": "code",
      "source": [
        "import random\n",
        "import numpy\n",
        "from matplotlib import pyplot\n",
        "import matplotlib.pyplot as plt\n",
        "\n",
        "ax = sns.distplot(Y_pred_plr_train, hist = True, bins = 5, color = 'red')\n",
        "ax = sns.distplot(Y_train, hist = True, bins = 5, color = 'blue')\n",
        "ax.legend(labels=['Prediction','Actual'])\n",
        "plt.show()"
      ],
      "metadata": {
        "colab": {
          "base_uri": "https://localhost:8080/",
          "height": 374
        },
        "id": "6v2wUxKLaqt_",
        "outputId": "a31e44ee-18cf-4b06-9a6a-52f752239530"
      },
      "execution_count": null,
      "outputs": [
        {
          "output_type": "stream",
          "name": "stderr",
          "text": [
            "/usr/local/lib/python3.7/dist-packages/seaborn/distributions.py:2619: FutureWarning: `distplot` is a deprecated function and will be removed in a future version. Please adapt your code to use either `displot` (a figure-level function with similar flexibility) or `histplot` (an axes-level function for histograms).\n",
            "  warnings.warn(msg, FutureWarning)\n",
            "/usr/local/lib/python3.7/dist-packages/seaborn/distributions.py:2619: FutureWarning: `distplot` is a deprecated function and will be removed in a future version. Please adapt your code to use either `displot` (a figure-level function with similar flexibility) or `histplot` (an axes-level function for histograms).\n",
            "  warnings.warn(msg, FutureWarning)\n"
          ]
        },
        {
          "output_type": "display_data",
          "data": {
            "text/plain": [
              "<Figure size 432x288 with 1 Axes>"
            ],
            "image/png": "[encoded data removed]"
          },
          "metadata": {}
        }
      ]
    },
    {
      "cell_type": "code",
      "source": [
        "import random\n",
        "import numpy\n",
        "from matplotlib import pyplot\n",
        "import matplotlib.pyplot as plt\n",
        "\n",
        "ax = sns.distplot(Y_pred_plr_test, hist = True, bins = 5, color = 'red')\n",
        "ax = sns.distplot(Y_test, hist = True, bins = 5, color = 'blue')\n",
        "ax.legend(labels=['Prediction','Actual'])\n",
        "plt.show()"
      ],
      "metadata": {
        "colab": {
          "base_uri": "https://localhost:8080/",
          "height": 374
        },
        "id": "uYFbYIWcaqwo",
        "outputId": "e5e40873-11c5-45e8-d02e-6261693e0629"
      },
      "execution_count": null,
      "outputs": [
        {
          "output_type": "stream",
          "name": "stderr",
          "text": [
            "/usr/local/lib/python3.7/dist-packages/seaborn/distributions.py:2619: FutureWarning: `distplot` is a deprecated function and will be removed in a future version. Please adapt your code to use either `displot` (a figure-level function with similar flexibility) or `histplot` (an axes-level function for histograms).\n",
            "  warnings.warn(msg, FutureWarning)\n",
            "/usr/local/lib/python3.7/dist-packages/seaborn/distributions.py:2619: FutureWarning: `distplot` is a deprecated function and will be removed in a future version. Please adapt your code to use either `displot` (a figure-level function with similar flexibility) or `histplot` (an axes-level function for histograms).\n",
            "  warnings.warn(msg, FutureWarning)\n"
          ]
        },
        {
          "output_type": "display_data",
          "data": {
            "text/plain": [
              "<Figure size 432x288 with 1 Axes>"
            ],
            "image/png": "[encoded data removed]"
          },
          "metadata": {}
        }
      ]
    },
    {
      "cell_type": "markdown",
      "source": [
        " Decision Tree Regression"
      ],
      "metadata": {
        "id": "-zaeT0OlbV8H"
      }
    },
    {
      "cell_type": "code",
      "source": [
        "from sklearn.tree import DecisionTreeRegressor\n",
        "\n",
        "dtReg = DecisionTreeRegressor(max_depth=30)\n",
        "dtReg.fit(X_train,Y_train)\n",
        "\n",
        "dtReg_y_pred_train = dtReg.predict(X_train)\n",
        "rmse_dtreg_train = np.sqrt(mean_squared_error(Y_train,dtReg_y_pred_train))\n",
        "print('rmse_dtreg_train:',rmse_dtreg_train)\n",
        "from pandas import Series, DataFrame\n",
        "print('r-squared_dtreg_train',dtReg.score(X_train,Y_train))\n",
        "rsq_dtreg_train = dtReg.score(X_train,Y_train)\n",
        "train_rmses[\"DecisionTreeRegression\"] = rmse_dtreg_train\n",
        "RSquare_train[\"DecisionTreeRegression\"] = rsq_dtreg_train"
      ],
      "metadata": {
        "colab": {
          "base_uri": "https://localhost:8080/"
        },
        "id": "VA0bnr-js973",
        "outputId": "09e2c92c-b441-4331-a923-0f3e219ed114"
      },
      "execution_count": null,
      "outputs": [
        {
          "output_type": "stream",
          "name": "stdout",
          "text": [
            "rmse_dtreg_train: 1.1443887785070381\n",
            "r-squared_dtreg_train 0.9999882041871075\n"
          ]
        }
      ]
    },
    {
      "cell_type": "code",
      "source": [
        "dtReg_y_pred_test = dtReg.predict(X_test)\n",
        "rmse_dtreg_test = np.sqrt(mean_squared_error(Y_test,dtReg_y_pred_test))\n",
        "print('rmse_dtreg_test:',rmse_dtreg_test)\n",
        "from pandas import Series, DataFrame\n",
        "print('r-squared_dtreg_test',dtReg.score(X_test,Y_test))\n",
        "rsq_dtreg_test = dtReg.score(X_test,Y_test)\n",
        "test_rmses[\"DecisionTreeRegression\"] = rmse_dtreg_test\n",
        "RSquare_test[\"DecisionTreeRegression\"] = rsq_dtreg_test"
      ],
      "metadata": {
        "colab": {
          "base_uri": "https://localhost:8080/"
        },
        "id": "XinF7t-ps993",
        "outputId": "2ce9fb88-3a15-44e9-90f7-e56756fa3003"
      },
      "execution_count": null,
      "outputs": [
        {
          "output_type": "stream",
          "name": "stdout",
          "text": [
            "rmse_dtreg_test: 237.29253187807578\n",
            "r-squared_dtreg_test -1.036631271549724\n"
          ]
        }
      ]
    },
    {
      "cell_type": "code",
      "source": [
        "crossvalidation = KFold(n_splits=10, random_state=None, shuffle=True)\n",
        "rmse_sum = 0\n",
        "for i in range(1,11):\n",
        "    model_kf_dtreg = dtReg.fit(X,Y)\n",
        "    scores = cross_val_score(model_kf_dtreg, X, Y, scoring= 'neg_mean_squared_error', cv=crossvalidation,\n",
        "    n_jobs=1)\n",
        "    #print(scores)\n",
        "    rmse = np.sqrt(abs(scores))\n",
        "    rmse_sum = rmse_sum + np.mean(rmse)\n",
        "    print(\"Decision Tree Regressor-\"+str(i) +\" MSE:\" + str(np.mean(np.abs(scores))) + \", STD: \" + str(np.std(scores)) + \", RMSE: \" +str(np.mean(rmse)))\n",
        "rmse_mean_dtreg = rmse_sum/10\n",
        "print(rmse_mean_dtreg)\n",
        "Kfold[\"DecisionTreeRegression\"] = rmse_mean_dtreg"
      ],
      "metadata": {
        "colab": {
          "base_uri": "https://localhost:8080/"
        },
        "id": "E2tRnq38s-AL",
        "outputId": "3c8ad76c-caad-4309-d245-1000aceacc9b"
      },
      "execution_count": null,
      "outputs": [
        {
          "output_type": "stream",
          "name": "stdout",
          "text": [
            "Decision Tree Regressor-1 MSE:180591.182799773, STD: 108773.29107207204, RMSE: 400.40373280777555\n",
            "Decision Tree Regressor-2 MSE:189269.4814891723, STD: 160004.97769386822, RMSE: 397.4933219797896\n",
            "Decision Tree Regressor-3 MSE:166024.7716407171, STD: 154168.50534641047, RMSE: 366.58854466593027\n",
            "Decision Tree Regressor-4 MSE:189397.98429884226, STD: 155762.00294419818, RMSE: 396.2704891846831\n",
            "Decision Tree Regressor-5 MSE:251814.58240634948, STD: 193334.78079149986, RMSE: 467.08764740921424\n",
            "Decision Tree Regressor-6 MSE:218212.64841508487, STD: 174866.96016129773, RMSE: 421.7054695566256\n",
            "Decision Tree Regressor-7 MSE:177896.0533753115, STD: 113684.41896965634, RMSE: 397.288021092391\n",
            "Decision Tree Regressor-8 MSE:189186.34042497387, STD: 208634.9531682121, RMSE: 380.04998494732394\n",
            "Decision Tree Regressor-9 MSE:177136.999965057, STD: 158021.38060204333, RMSE: 382.52975238478746\n",
            "Decision Tree Regressor-10 MSE:160873.46335757207, STD: 113873.4266996242, RMSE: 379.26714623727617\n",
            "398.86841102657974\n"
          ]
        }
      ]
    },
    {
      "cell_type": "code",
      "source": [
        "from sklearn.model_selection import cross_val_score\n",
        "dtReg_knn = DecisionTreeRegressor(max_depth=30)\n",
        "print(cross_val_score(dtReg_knn, Data_X, Data_Y, cv=10))"
      ],
      "metadata": {
        "colab": {
          "base_uri": "https://localhost:8080/"
        },
        "id": "iqCR_FeJs-C2",
        "outputId": "77e77201-6db0-4603-ea0c-ea63262d22ce"
      },
      "execution_count": null,
      "outputs": [
        {
          "output_type": "stream",
          "name": "stdout",
          "text": [
            "[  -1.19712488   -2.79266819   -0.10913985   -4.41344676   -0.13895238\n",
            " -108.01677747   -2.774428     -1.17295558   -1.74125623   -0.40316244]\n"
          ]
        }
      ]
    },
    {
      "cell_type": "code",
      "source": [
        "import random\n",
        "import numpy\n",
        "from matplotlib import pyplot\n",
        "import matplotlib.pyplot as plt\n",
        "\n",
        "ax = sns.distplot(dtReg_y_pred_train, hist = True, bins = 5,color = 'yellow')\n",
        "ax = sns.distplot(Y_train, hist = True, bins = 5,color = 'blue')\n",
        "ax.legend(labels=['Prediction','Actual'])\n",
        "plt.show()"
      ],
      "metadata": {
        "colab": {
          "base_uri": "https://localhost:8080/",
          "height": 377
        },
        "id": "gWh7xUzDs-Fa",
        "outputId": "253643fa-27d5-42c6-fd89-624267750d94"
      },
      "execution_count": null,
      "outputs": [
        {
          "output_type": "stream",
          "name": "stderr",
          "text": [
            "/usr/local/lib/python3.7/dist-packages/seaborn/distributions.py:2619: FutureWarning: `distplot` is a deprecated function and will be removed in a future version. Please adapt your code to use either `displot` (a figure-level function with similar flexibility) or `histplot` (an axes-level function for histograms).\n",
            "  warnings.warn(msg, FutureWarning)\n",
            "/usr/local/lib/python3.7/dist-packages/seaborn/distributions.py:2619: FutureWarning: `distplot` is a deprecated function and will be removed in a future version. Please adapt your code to use either `displot` (a figure-level function with similar flexibility) or `histplot` (an axes-level function for histograms).\n",
            "  warnings.warn(msg, FutureWarning)\n"
          ]
        },
        {
          "output_type": "display_data",
          "data": {
            "text/plain": [
              "<Figure size 432x288 with 1 Axes>"
            ],
            "image/png": "[encoded data removed]"
          },
          "metadata": {}
        }
      ]
    },
    {
      "cell_type": "code",
      "source": [
        "import random\n",
        "import numpy\n",
        "from matplotlib import pyplot\n",
        "import matplotlib.pyplot as plt\n",
        "\n",
        "ax = sns.distplot(dtReg_y_pred_test, hist = True, bins = 5,color = 'red')\n",
        "ax = sns.distplot(Y_test, hist = True, bins = 5,color = 'blue')\n",
        "ax.legend(labels=['Prediction','Actual'])\n",
        "plt.show()"
      ],
      "metadata": {
        "colab": {
          "base_uri": "https://localhost:8080/",
          "height": 374
        },
        "id": "THnT-3j_s-IG",
        "outputId": "993ef0f8-ca24-4b48-cef9-7af26215718d"
      },
      "execution_count": null,
      "outputs": [
        {
          "output_type": "stream",
          "name": "stderr",
          "text": [
            "/usr/local/lib/python3.7/dist-packages/seaborn/distributions.py:2619: FutureWarning: `distplot` is a deprecated function and will be removed in a future version. Please adapt your code to use either `displot` (a figure-level function with similar flexibility) or `histplot` (an axes-level function for histograms).\n",
            "  warnings.warn(msg, FutureWarning)\n",
            "/usr/local/lib/python3.7/dist-packages/seaborn/distributions.py:2619: FutureWarning: `distplot` is a deprecated function and will be removed in a future version. Please adapt your code to use either `displot` (a figure-level function with similar flexibility) or `histplot` (an axes-level function for histograms).\n",
            "  warnings.warn(msg, FutureWarning)\n"
          ]
        },
        {
          "output_type": "display_data",
          "data": {
            "text/plain": [
              "<Figure size 432x288 with 1 Axes>"
            ],
            "image/png": "[encoded data removed]"
          },
          "metadata": {}
        }
      ]
    },
    {
      "cell_type": "markdown",
      "source": [
        "Random Forest Regression"
      ],
      "metadata": {
        "id": "mCj7spOobfNo"
      }
    },
    {
      "cell_type": "code",
      "source": [
        "from sklearn import ensemble\n",
        "from sklearn.ensemble import RandomForestRegressor"
      ],
      "metadata": {
        "id": "4My5tjces-Kl"
      },
      "execution_count": null,
      "outputs": []
    },
    {
      "cell_type": "code",
      "source": [
        "Rfreg = RandomForestRegressor(max_features=0.25, n_estimators=30)\n",
        "Rfreg.fit(X_train, Y_train)\n",
        "Rfreg_y_pred_train = Rfreg.predict(X_train)\n",
        "rmse_Rfreg_train = np.sqrt(mean_squared_error(Y_train,Rfreg_y_pred_train))\n",
        "print('rmse_Rfreg_train:',rmse_Rfreg_train)\n",
        "from pandas import Series, DataFrame\n",
        "print('r-squared_Rfreg_train',Rfreg.score(X_train,Y_train))\n",
        "rsq_rfreg_train = Rfreg.score(X_train,Y_train)\n",
        "train_rmses[\"RandomForestRegression\"] = rmse_Rfreg_train\n",
        "RSquare_train[\"RandomForestRegression\"] = rsq_rfreg_train"
      ],
      "metadata": {
        "colab": {
          "base_uri": "https://localhost:8080/"
        },
        "id": "Q7n2v1lLs-M5",
        "outputId": "7e4968a5-ecbc-4d9f-8278-8eb4da40c8e5"
      },
      "execution_count": null,
      "outputs": [
        {
          "output_type": "stream",
          "name": "stdout",
          "text": [
            "rmse_Rfreg_train: 126.03795516094306\n",
            "r-squared_Rfreg_train 0.8569185307884958\n"
          ]
        }
      ]
    },
    {
      "cell_type": "code",
      "source": [
        "Rfreg_y_pred_test = Rfreg.predict(X_test)\n",
        "rmse_Rfreg_test = np.sqrt(mean_squared_error(Y_test,Rfreg_y_pred_test))\n",
        "print('rmse_Rfreg_test:',rmse_Rfreg_test)\n",
        "from pandas import Series, DataFrame\n",
        "print('r-squared_Rfreg_train',Rfreg.score(X_test,Y_test))\n",
        "rsq_rfreg_test = Rfreg.score(X_test,Y_test)\n",
        "test_rmses[\"RandomForestRegression\"] = rmse_Rfreg_test\n",
        "RSquare_test[\"RandomForestRegression\"] = rsq_rfreg_test"
      ],
      "metadata": {
        "colab": {
          "base_uri": "https://localhost:8080/"
        },
        "id": "XCfxMj5My6VA",
        "outputId": "513b64b7-a3aa-4c93-c77b-e6a935ffeb4c"
      },
      "execution_count": null,
      "outputs": [
        {
          "output_type": "stream",
          "name": "stdout",
          "text": [
            "rmse_Rfreg_test: 185.25956015222354\n",
            "r-squared_Rfreg_train -0.24138223096338707\n"
          ]
        }
      ]
    },
    {
      "cell_type": "code",
      "source": [
        "crossvalidation = KFold(n_splits=10, random_state=None, shuffle=True)\n",
        "Y = Y.ravel()\n",
        "rmse_sum = 0\n",
        "for i in range(1,11):\n",
        "    Rfreg1 = RandomForestRegressor(\n",
        "    n_estimators=30,\n",
        "    max_depth=5,\n",
        "    min_samples_split=2,\n",
        "    min_samples_leaf=1,\n",
        "    min_weight_fraction_leaf=0.0,\n",
        "    max_features='auto',\n",
        "    max_leaf_nodes=None,\n",
        "    min_impurity_decrease=0.0,\n",
        "    bootstrap=True)\n",
        "    model_Rfreg_kf = Rfreg1.fit(X,Y)\n",
        "    scores = cross_val_score(model_Rfreg_kf, X, Y, scoring= 'neg_mean_squared_error', cv=crossvalidation,\n",
        "    n_jobs=1)\n",
        "    #print(scores)\n",
        "    rmse = np.sqrt(abs(scores))\n",
        "    rmse_sum = rmse_sum + np.mean(rmse)\n",
        "    print(\"Random Forest Regressor-\"+str(i) +\" MSE:\" + str(np.mean(np.abs(scores))) + \", STD: \" + str(np.std(scores)) + \", RMSE: \" +str(np.mean(rmse)))\n",
        "rmse_mean_rfreg = rmse_sum/10\n",
        "print(rmse_mean_rfreg)\n",
        "Kfold[\"RandomForestRegression\"] = rmse_mean_rfreg"
      ],
      "metadata": {
        "colab": {
          "base_uri": "https://localhost:8080/"
        },
        "id": "hl4nWDaFy6Yg",
        "outputId": "97ac88e4-fef4-4b02-e3ff-04a3ba181d23"
      },
      "execution_count": null,
      "outputs": [
        {
          "output_type": "stream",
          "name": "stdout",
          "text": [
            "Random Forest Regressor-1 MSE:149353.67004928336, STD: 125337.43961700496, RMSE: 346.9516028115482\n",
            "Random Forest Regressor-2 MSE:123185.88752630555, STD: 106188.71056437862, RMSE: 316.950382382611\n",
            "Random Forest Regressor-3 MSE:123319.59454078463, STD: 89097.72712929298, RMSE: 325.59546241129567\n",
            "Random Forest Regressor-4 MSE:132338.890187396, STD: 116268.4783193908, RMSE: 321.77076757575935\n",
            "Random Forest Regressor-5 MSE:148310.54390204436, STD: 111801.74394898492, RMSE: 355.4006739321659\n",
            "Random Forest Regressor-6 MSE:116270.5353021605, STD: 99000.44663764336, RMSE: 305.8817000498065\n",
            "Random Forest Regressor-7 MSE:123042.034551574, STD: 126153.06808556507, RMSE: 304.0624203207877\n",
            "Random Forest Regressor-8 MSE:122995.67601318883, STD: 135380.4027888017, RMSE: 308.0946548279492\n",
            "Random Forest Regressor-9 MSE:120161.80929051476, STD: 98943.26325450513, RMSE: 312.3841353309707\n",
            "Random Forest Regressor-10 MSE:124095.39046555459, STD: 132519.71549310876, RMSE: 300.2536586729882\n",
            "319.73454583158826\n"
          ]
        }
      ]
    },
    {
      "cell_type": "code",
      "source": [
        "from sklearn.model_selection import cross_val_score\n",
        "Rfreg_kf = RandomForestRegressor(max_features=0.25, n_estimators=30)\n",
        "print(cross_val_score(Rfreg_kf, Data_X, Data_Y, cv=4))"
      ],
      "metadata": {
        "colab": {
          "base_uri": "https://localhost:8080/"
        },
        "id": "H5sA0TFxy6bf",
        "outputId": "a060432d-81ec-4ceb-9519-85ae83ee6797"
      },
      "execution_count": null,
      "outputs": [
        {
          "output_type": "stream",
          "name": "stdout",
          "text": [
            "[-2.11910279e+01 -1.24308553e-02 -3.66750676e+00 -1.59683334e+00]\n"
          ]
        }
      ]
    },
    {
      "cell_type": "code",
      "source": [
        "import random\n",
        "import numpy\n",
        "from matplotlib import pyplot\n",
        "import matplotlib.pyplot as plt\n",
        "\n",
        "ax = sns.distplot(Rfreg_y_pred_train, hist = True, bins = 5,color = 'red')\n",
        "ax = sns.distplot(Y_train, hist = True, bins = 5 , color = 'blue')\n",
        "ax.legend(labels=['Prediction','Actual'])\n",
        "plt.show()"
      ],
      "metadata": {
        "colab": {
          "base_uri": "https://localhost:8080/",
          "height": 378
        },
        "id": "-twiiBbsy6eQ",
        "outputId": "5ef3b3f6-c3db-406d-db91-312975f09662"
      },
      "execution_count": null,
      "outputs": [
        {
          "output_type": "stream",
          "name": "stderr",
          "text": [
            "/usr/local/lib/python3.7/dist-packages/seaborn/distributions.py:2619: FutureWarning: `distplot` is a deprecated function and will be removed in a future version. Please adapt your code to use either `displot` (a figure-level function with similar flexibility) or `histplot` (an axes-level function for histograms).\n",
            "  warnings.warn(msg, FutureWarning)\n",
            "/usr/local/lib/python3.7/dist-packages/seaborn/distributions.py:2619: FutureWarning: `distplot` is a deprecated function and will be removed in a future version. Please adapt your code to use either `displot` (a figure-level function with similar flexibility) or `histplot` (an axes-level function for histograms).\n",
            "  warnings.warn(msg, FutureWarning)\n"
          ]
        },
        {
          "output_type": "display_data",
          "data": {
            "text/plain": [
              "<Figure size 432x288 with 1 Axes>"
            ],
            "image/png": "[encoded data removed]"
          },
          "metadata": {}
        }
      ]
    },
    {
      "cell_type": "code",
      "source": [
        "import random\n",
        "import numpy\n",
        "from matplotlib import pyplot\n",
        "import matplotlib.pyplot as plt\n",
        "\n",
        "ax = sns.distplot(Rfreg_y_pred_test, hist = True, bins = 5,color = 'red')\n",
        "ax = sns.distplot(Y_test, hist = True, bins = 5 , color = 'blue')\n",
        "ax.legend(labels=['Prediction','Actual'])\n",
        "plt.show()"
      ],
      "metadata": {
        "colab": {
          "base_uri": "https://localhost:8080/",
          "height": 374
        },
        "id": "fFaujqlzy6hK",
        "outputId": "39adcacb-7436-4c43-ee49-0b05b49c1bf7"
      },
      "execution_count": null,
      "outputs": [
        {
          "output_type": "stream",
          "name": "stderr",
          "text": [
            "/usr/local/lib/python3.7/dist-packages/seaborn/distributions.py:2619: FutureWarning: `distplot` is a deprecated function and will be removed in a future version. Please adapt your code to use either `displot` (a figure-level function with similar flexibility) or `histplot` (an axes-level function for histograms).\n",
            "  warnings.warn(msg, FutureWarning)\n",
            "/usr/local/lib/python3.7/dist-packages/seaborn/distributions.py:2619: FutureWarning: `distplot` is a deprecated function and will be removed in a future version. Please adapt your code to use either `displot` (a figure-level function with similar flexibility) or `histplot` (an axes-level function for histograms).\n",
            "  warnings.warn(msg, FutureWarning)\n"
          ]
        },
        {
          "output_type": "display_data",
          "data": {
            "text/plain": [
              "<Figure size 432x288 with 1 Axes>"
            ],
            "image/png": "[encoded data removed]"
          },
          "metadata": {}
        }
      ]
    },
    {
      "cell_type": "markdown",
      "source": [
        "Lasso Regression"
      ],
      "metadata": {
        "id": "PfiqJbxqcmJR"
      }
    },
    {
      "cell_type": "code",
      "source": [
        "from sklearn.linear_model import Lasso\n",
        "LassoReg = Lasso(alpha=0.0000001, normalize=True)\n",
        "LassoReg.fit(X_train,Y_train)"
      ],
      "metadata": {
        "colab": {
          "base_uri": "https://localhost:8080/"
        },
        "id": "bL_vH2MUy6jt",
        "outputId": "09365adf-6889-49d5-bb28-8000d297427f"
      },
      "execution_count": null,
      "outputs": [
        {
          "output_type": "stream",
          "name": "stderr",
          "text": [
            "/usr/local/lib/python3.7/dist-packages/sklearn/linear_model/_base.py:145: FutureWarning: 'normalize' was deprecated in version 1.0 and will be removed in 1.2.\n",
            "If you wish to scale the data, use Pipeline with a StandardScaler in a preprocessing stage. To reproduce the previous behavior:\n",
            "\n",
            "from sklearn.pipeline import make_pipeline\n",
            "\n",
            "model = make_pipeline(StandardScaler(with_mean=False), Lasso())\n",
            "\n",
            "If you wish to pass a sample_weight parameter, you need to pass it as a fit parameter to each step of the pipeline as follows:\n",
            "\n",
            "kwargs = {s[0] + '__sample_weight': sample_weight for s in model.steps}\n",
            "model.fit(X, y, **kwargs)\n",
            "\n",
            "Set parameter alpha to: original_alpha * np.sqrt(n_samples). \n",
            "  FutureWarning,\n"
          ]
        },
        {
          "output_type": "execute_result",
          "data": {
            "text/plain": [
              "Lasso(alpha=1e-07, normalize=True)"
            ]
          },
          "metadata": {},
          "execution_count": 61
        }
      ]
    },
    {
      "cell_type": "code",
      "source": [
        "from sklearn.preprocessing import StandardScaler\n",
        "lasso = Lasso(alpha=0.0000001, normalize=True)\n",
        "lasso.fit(StandardScaler().fit_transform(X),Y)\n",
        "print(lasso.coef_)"
      ],
      "metadata": {
        "colab": {
          "base_uri": "https://localhost:8080/"
        },
        "id": "5wYnvegwy6pL",
        "outputId": "1b954e09-1d87-4d77-f80c-1b6af1b9ceee"
      },
      "execution_count": null,
      "outputs": [
        {
          "output_type": "stream",
          "name": "stdout",
          "text": [
            "[7.24079416]\n"
          ]
        },
        {
          "output_type": "stream",
          "name": "stderr",
          "text": [
            "/usr/local/lib/python3.7/dist-packages/sklearn/linear_model/_base.py:145: FutureWarning: 'normalize' was deprecated in version 1.0 and will be removed in 1.2.\n",
            "If you wish to scale the data, use Pipeline with a StandardScaler in a preprocessing stage. To reproduce the previous behavior:\n",
            "\n",
            "from sklearn.pipeline import make_pipeline\n",
            "\n",
            "model = make_pipeline(StandardScaler(with_mean=False), Lasso())\n",
            "\n",
            "If you wish to pass a sample_weight parameter, you need to pass it as a fit parameter to each step of the pipeline as follows:\n",
            "\n",
            "kwargs = {s[0] + '__sample_weight': sample_weight for s in model.steps}\n",
            "model.fit(X, y, **kwargs)\n",
            "\n",
            "Set parameter alpha to: original_alpha * np.sqrt(n_samples). \n",
            "  FutureWarning,\n"
          ]
        }
      ]
    },
    {
      "cell_type": "code",
      "source": [
        "from sklearn.pipeline import Pipeline\n",
        "LassoReg = Pipeline(steps=[    \n",
        "('scaler',StandardScaler()),\n",
        "('lasso',Lasso(alpha=0.4,random_state=99))\n",
        "])"
      ],
      "metadata": {
        "id": "3dRw5na4y6tX"
      },
      "execution_count": null,
      "outputs": []
    },
    {
      "cell_type": "code",
      "source": [
        "LassoReg.fit(X_train,Y_train)"
      ],
      "metadata": {
        "colab": {
          "base_uri": "https://localhost:8080/"
        },
        "id": "Ypa9hhzC0CGL",
        "outputId": "e3453044-569b-4bc0-890e-7dc33b2ead87"
      },
      "execution_count": null,
      "outputs": [
        {
          "output_type": "execute_result",
          "data": {
            "text/plain": [
              "Pipeline(steps=[('scaler', StandardScaler()),\n",
              "                ('lasso', Lasso(alpha=0.4, random_state=99))])"
            ]
          },
          "metadata": {},
          "execution_count": 64
        }
      ]
    },
    {
      "cell_type": "code",
      "source": [
        "pred_train_lasso = LassoReg.predict(X_train)\n",
        "rmse_lasso_train = np.sqrt(np.mean((pred_train_lasso - Y_train)**2))\n",
        "print('rmse_lasso_train:',rmse_lasso_train)\n",
        "print('r-squared_Rfreg_train',LassoReg.score(X_train,Y_train))\n",
        "rsq_lasso_train = LassoReg.score(X_train,Y_train)\n",
        "train_rmses[\"LassoRegression\"] = rmse_lasso_train\n",
        "RSquare_train[\"LassoRegression\"] = rsq_lasso_train"
      ],
      "metadata": {
        "colab": {
          "base_uri": "https://localhost:8080/"
        },
        "id": "-RTvSDE8y6v_",
        "outputId": "89231cd2-7191-4006-8840-13a2dafffa63"
      },
      "execution_count": null,
      "outputs": [
        {
          "output_type": "stream",
          "name": "stdout",
          "text": [
            "rmse_lasso_train: 332.3858052286701\n",
            "r-squared_Rfreg_train 0.004902509146482825\n"
          ]
        }
      ]
    },
    {
      "cell_type": "code",
      "source": [
        "pred_test_lasso = LassoReg.predict(X_test)\n",
        "rmse_lasso_test = np.sqrt(np.mean((pred_test_lasso - Y_test)**2))\n",
        "print('rmse_lasso_test:',rmse_lasso_test)\n",
        "print('r-squared_Rfreg_test',LassoReg.score(X_test,Y_test))\n",
        "rsq_lasso_test = LassoReg.score(X_test,Y_test)\n",
        "test_rmses[\"LassoRegression\"] = rmse_lasso_test\n",
        "RSquare_test[\"LassoRegression\"] = rsq_lasso_test"
      ],
      "metadata": {
        "colab": {
          "base_uri": "https://localhost:8080/"
        },
        "id": "JatvKO_fy6zW",
        "outputId": "dbe02bb1-b006-4e92-82db-ee666e41df27"
      },
      "execution_count": null,
      "outputs": [
        {
          "output_type": "stream",
          "name": "stdout",
          "text": [
            "rmse_lasso_test: 186.42790198596788\n",
            "r-squared_Rfreg_test -0.2570891898294314\n"
          ]
        }
      ]
    },
    {
      "cell_type": "code",
      "source": [
        "crossvalidation = KFold(n_splits=10, random_state=None, shuffle=False)\n",
        "rmse_sum = 0\n",
        "for i in range(1,11):\n",
        "    model_lassoReg = LassoReg.fit(X,Y)\n",
        "    scores = cross_val_score(model_lassoReg, X, Y, scoring= 'neg_mean_squared_error', cv=crossvalidation,\n",
        "    n_jobs=1)\n",
        "    #print(scores)\n",
        "    rmse = np.sqrt(abs(scores))\n",
        "    rmse_sum = rmse_sum + np.mean(rmse)\n",
        "    print(\"Lasso Regression-\"+str(i) +\" MSE:\" + str(np.mean(np.abs(scores))) + \", STD: \" + str(np.std(scores)) + \", RMSE: \" +str(np.mean(rmse)))\n",
        "rmse_mean_lasso = rmse_sum/10\n",
        "print(rmse_mean_lasso)\n",
        "Kfold[\"LassoRegression\"] = rmse_mean_lasso"
      ],
      "metadata": {
        "colab": {
          "base_uri": "https://localhost:8080/"
        },
        "id": "N6EW9h1Oy65W",
        "outputId": "39362e24-f77e-4292-8438-bcb406a76ec1"
      },
      "execution_count": null,
      "outputs": [
        {
          "output_type": "stream",
          "name": "stdout",
          "text": [
            "Lasso Regression-1 MSE:94726.1157459205, STD: 161796.9895857311, RMSE: 186.4482394126912\n",
            "Lasso Regression-2 MSE:94726.1157459205, STD: 161796.9895857311, RMSE: 186.4482394126912\n",
            "Lasso Regression-3 MSE:94726.1157459205, STD: 161796.9895857311, RMSE: 186.4482394126912\n",
            "Lasso Regression-4 MSE:94726.1157459205, STD: 161796.9895857311, RMSE: 186.4482394126912\n",
            "Lasso Regression-5 MSE:94726.1157459205, STD: 161796.9895857311, RMSE: 186.4482394126912\n",
            "Lasso Regression-6 MSE:94726.1157459205, STD: 161796.9895857311, RMSE: 186.4482394126912\n",
            "Lasso Regression-7 MSE:94726.1157459205, STD: 161796.9895857311, RMSE: 186.4482394126912\n",
            "Lasso Regression-8 MSE:94726.1157459205, STD: 161796.9895857311, RMSE: 186.4482394126912\n",
            "Lasso Regression-9 MSE:94726.1157459205, STD: 161796.9895857311, RMSE: 186.4482394126912\n",
            "Lasso Regression-10 MSE:94726.1157459205, STD: 161796.9895857311, RMSE: 186.4482394126912\n",
            "186.4482394126912\n"
          ]
        }
      ]
    },
    {
      "cell_type": "code",
      "source": [
        "from sklearn.model_selection import cross_val_score\n",
        "print(cross_val_score(LassoReg, Data_X, Data_Y, cv=4))"
      ],
      "metadata": {
        "colab": {
          "base_uri": "https://localhost:8080/"
        },
        "id": "4GQk4yw9y69n",
        "outputId": "4b8a8b88-a153-41e3-e617-960874f5e955"
      },
      "execution_count": null,
      "outputs": [
        {
          "output_type": "stream",
          "name": "stdout",
          "text": [
            "[-1.64158199e+01 -1.62664866e-02 -2.42710993e-01 -4.28743684e+01]\n"
          ]
        }
      ]
    },
    {
      "cell_type": "code",
      "source": [
        "import random\n",
        "import numpy\n",
        "from matplotlib import pyplot\n",
        "import matplotlib.pyplot as plt\n",
        "\n",
        "ax = sns.histplot(pred_train_lasso, kde=True, linewidth=0,color = 'red')\n",
        "ax = sns.histplot(Y_train, kde=True, linewidth=0, color = 'blue')\n",
        "ax.legend(labels=['Prediction','Actual'])\n",
        "plt.show()"
      ],
      "metadata": {
        "colab": {
          "base_uri": "https://localhost:8080/",
          "height": 285
        },
        "id": "iFcWtrgi0NG6",
        "outputId": "f2d2af90-c842-4cee-dd93-350b2c21a940"
      },
      "execution_count": null,
      "outputs": [
        {
          "output_type": "display_data",
          "data": {
            "text/plain": [
              "<Figure size 432x288 with 1 Axes>"
            ],
            "image/png": "[encoded data removed]"
          },
          "metadata": {}
        }
      ]
    },
    {
      "cell_type": "code",
      "source": [
        "import random\n",
        "import numpy\n",
        "from matplotlib import pyplot\n",
        "import matplotlib.pyplot as plt\n",
        "\n",
        "ax = sns.distplot(pred_test_lasso, hist = True, bins = 5,color = 'red')\n",
        "ax = sns.distplot(Y_test, hist = True, bins = 5 , color = 'blue')\n",
        "ax.legend(labels=['Prediction','Actual'])\n",
        "plt.show()"
      ],
      "metadata": {
        "colab": {
          "base_uri": "https://localhost:8080/",
          "height": 374
        },
        "id": "GMuEUl-70NMy",
        "outputId": "74049687-ec90-4c13-a83f-11ecf087757c"
      },
      "execution_count": null,
      "outputs": [
        {
          "output_type": "stream",
          "name": "stderr",
          "text": [
            "/usr/local/lib/python3.7/dist-packages/seaborn/distributions.py:2619: FutureWarning: `distplot` is a deprecated function and will be removed in a future version. Please adapt your code to use either `displot` (a figure-level function with similar flexibility) or `histplot` (an axes-level function for histograms).\n",
            "  warnings.warn(msg, FutureWarning)\n",
            "/usr/local/lib/python3.7/dist-packages/seaborn/distributions.py:2619: FutureWarning: `distplot` is a deprecated function and will be removed in a future version. Please adapt your code to use either `displot` (a figure-level function with similar flexibility) or `histplot` (an axes-level function for histograms).\n",
            "  warnings.warn(msg, FutureWarning)\n"
          ]
        },
        {
          "output_type": "display_data",
          "data": {
            "text/plain": [
              "<Figure size 432x288 with 1 Axes>"
            ],
            "image/png": "[encoded data removed]"
          },
          "metadata": {}
        }
      ]
    },
    {
      "cell_type": "markdown",
      "source": [
        " Elastic Net Regression"
      ],
      "metadata": {
        "id": "Arp2ys_oduRa"
      }
    },
    {
      "cell_type": "code",
      "source": [
        "from sklearn.linear_model import ElasticNet\n",
        "ElasticNetReg = ElasticNet(alpha = 0.001)\n",
        "ElasticNetReg.fit(X_train,Y_train)"
      ],
      "metadata": {
        "colab": {
          "base_uri": "https://localhost:8080/"
        },
        "id": "zjjPkq-edR_a",
        "outputId": "35219807-a54d-48a7-e04e-fa3f6cfece83"
      },
      "execution_count": null,
      "outputs": [
        {
          "output_type": "execute_result",
          "data": {
            "text/plain": [
              "ElasticNet(alpha=0.001)"
            ]
          },
          "metadata": {},
          "execution_count": 71
        }
      ]
    },
    {
      "cell_type": "code",
      "source": [
        "pred_train_ElasticNet = ElasticNetReg.predict(X_train)\n",
        "rmse_en_train = np.sqrt(np.mean((pred_train_ElasticNet - Y_train)**2))\n",
        "rmse_en_train = np.sqrt(np.mean((pred_train_ElasticNet - Y_train)**2))\n",
        "print('rmse_elastic_train:',rmse_en_train)\n",
        "print('r-squared_elasticnet_train',ElasticNetReg.score(X_train,Y_train))\n",
        "rsq_en_train = ElasticNetReg.score(X_train,Y_train)\n",
        "train_rmses[\"ElasticNetRegression\"] = rmse_en_train\n",
        "RSquare_train[\"ElasticNetRegression\"] = rsq_en_train"
      ],
      "metadata": {
        "colab": {
          "base_uri": "https://localhost:8080/"
        },
        "id": "pl4fc22odUKL",
        "outputId": "64ca8fd1-ccb9-4fef-b911-a44f7f3c635c"
      },
      "execution_count": null,
      "outputs": [
        {
          "output_type": "stream",
          "name": "stdout",
          "text": [
            "rmse_elastic_train: 332.38442557364795\n",
            "r-squared_elasticnet_train 0.004910769958948014\n"
          ]
        }
      ]
    },
    {
      "cell_type": "code",
      "source": [
        "pred_test_ElasticNet = ElasticNetReg.predict(X_test)\n",
        "rmse_en_test = np.sqrt(np.mean((pred_test_ElasticNet - Y_test)**2))\n",
        "rmse_en_test\n",
        "print('rmse_elastic_test:',rmse_en_test)\n",
        "print('r-squared_elasticnet_test',ElasticNetReg.score(X_test,Y_test))\n",
        "rsq_en_test = ElasticNetReg.score(X_test,Y_test)\n",
        "test_rmses[\"ElasticNetRegression\"] = rmse_en_test\n",
        "RSquare_test[\"ElasticNetRegression\"] = rsq_en_test"
      ],
      "metadata": {
        "colab": {
          "base_uri": "https://localhost:8080/"
        },
        "id": "M08TmOKSdUM5",
        "outputId": "86d040ed-9ff3-4178-d937-4acc5a090e4c"
      },
      "execution_count": null,
      "outputs": [
        {
          "output_type": "stream",
          "name": "stdout",
          "text": [
            "rmse_elastic_test: 187.27718674086236\n",
            "r-squared_elasticnet_test -0.26856878591336386\n"
          ]
        }
      ]
    },
    {
      "cell_type": "code",
      "source": [
        "crossvalidation = KFold(n_splits=10, random_state=None, shuffle=False)\n",
        "rmse_sum = 0\n",
        "for i in range(1,11):\n",
        "    model_Elasticnet = ElasticNetReg.fit(X,Y)\n",
        "    scores = cross_val_score(model_Elasticnet, X, Y, scoring= 'neg_mean_squared_error', cv=crossvalidation,\n",
        "    n_jobs=1)\n",
        "    #print(scores)\n",
        "    rmse = np.sqrt(abs(scores))\n",
        "    rmse_sum = rmse_sum + np.mean(rmse)\n",
        "    print(\"ElasticNet Regression-\"+str(i) +\" MSE:\" + str(np.mean(np.abs(scores))) + \", STD: \" + str(np.std(scores)) + \", RMSE: \" +str(np.mean(rmse)))\n",
        "rmse_mean_en = rmse_sum/10\n",
        "print(rmse_mean_en)\n",
        "Kfold[\"ElasticNetRegression\"] = rmse_mean_en   "
      ],
      "metadata": {
        "colab": {
          "base_uri": "https://localhost:8080/"
        },
        "id": "3kG8-PJRdUPU",
        "outputId": "46174776-f3d0-45d1-c1ca-b49a69bdd78d"
      },
      "execution_count": null,
      "outputs": [
        {
          "output_type": "stream",
          "name": "stdout",
          "text": [
            "ElasticNet Regression-1 MSE:94727.48999090871, STD: 161793.80067186482, RMSE: 186.42927457938544\n",
            "ElasticNet Regression-2 MSE:94727.48999090871, STD: 161793.80067186482, RMSE: 186.42927457938544\n",
            "ElasticNet Regression-3 MSE:94727.48999090871, STD: 161793.80067186482, RMSE: 186.42927457938544\n",
            "ElasticNet Regression-4 MSE:94727.48999090871, STD: 161793.80067186482, RMSE: 186.42927457938544\n",
            "ElasticNet Regression-5 MSE:94727.48999090871, STD: 161793.80067186482, RMSE: 186.42927457938544\n",
            "ElasticNet Regression-6 MSE:94727.48999090871, STD: 161793.80067186482, RMSE: 186.42927457938544\n",
            "ElasticNet Regression-7 MSE:94727.48999090871, STD: 161793.80067186482, RMSE: 186.42927457938544\n",
            "ElasticNet Regression-8 MSE:94727.48999090871, STD: 161793.80067186482, RMSE: 186.42927457938544\n",
            "ElasticNet Regression-9 MSE:94727.48999090871, STD: 161793.80067186482, RMSE: 186.42927457938544\n",
            "ElasticNet Regression-10 MSE:94727.48999090871, STD: 161793.80067186482, RMSE: 186.42927457938544\n",
            "186.42927457938546\n"
          ]
        }
      ]
    },
    {
      "cell_type": "code",
      "source": [
        "import random\n",
        "import numpy\n",
        "from matplotlib import pyplot\n",
        "import matplotlib.pyplot as plt\n",
        "\n",
        "ax = sns.distplot(pred_train_ElasticNet, hist = True, bins = 5,color = 'red')\n",
        "ax = sns.distplot(Y_train, hist = True, bins = 5 , color = 'blue')\n",
        "ax.legend(labels=['Prediction','Actual'])\n",
        "plt.show()"
      ],
      "metadata": {
        "colab": {
          "base_uri": "https://localhost:8080/",
          "height": 374
        },
        "id": "IFiXSUL5dUTa",
        "outputId": "44379f4a-8bd7-44a5-c2e9-0fc76cd9681f"
      },
      "execution_count": null,
      "outputs": [
        {
          "output_type": "stream",
          "name": "stderr",
          "text": [
            "/usr/local/lib/python3.7/dist-packages/seaborn/distributions.py:2619: FutureWarning: `distplot` is a deprecated function and will be removed in a future version. Please adapt your code to use either `displot` (a figure-level function with similar flexibility) or `histplot` (an axes-level function for histograms).\n",
            "  warnings.warn(msg, FutureWarning)\n",
            "/usr/local/lib/python3.7/dist-packages/seaborn/distributions.py:2619: FutureWarning: `distplot` is a deprecated function and will be removed in a future version. Please adapt your code to use either `displot` (a figure-level function with similar flexibility) or `histplot` (an axes-level function for histograms).\n",
            "  warnings.warn(msg, FutureWarning)\n"
          ]
        },
        {
          "output_type": "display_data",
          "data": {
            "text/plain": [
              "<Figure size 432x288 with 1 Axes>"
            ],
            "image/png": "[encoded data removed]"
          },
          "metadata": {}
        }
      ]
    },
    {
      "cell_type": "code",
      "source": [
        "import random\n",
        "import numpy\n",
        "from matplotlib import pyplot\n",
        "import matplotlib.pyplot as plt\n",
        "\n",
        "ax = sns.distplot(pred_test_ElasticNet, hist = True, bins = 5,color = 'red')\n",
        "ax = sns.distplot(Y_test, hist = True, bins = 5 , color = 'blue')\n",
        "ax.legend(labels=['Prediction','Actual'])\n",
        "plt.show()"
      ],
      "metadata": {
        "colab": {
          "base_uri": "https://localhost:8080/",
          "height": 374
        },
        "id": "NueSmIm5dUWG",
        "outputId": "9504088c-dfe2-4660-c2e0-93c830529261"
      },
      "execution_count": null,
      "outputs": [
        {
          "output_type": "stream",
          "name": "stderr",
          "text": [
            "/usr/local/lib/python3.7/dist-packages/seaborn/distributions.py:2619: FutureWarning: `distplot` is a deprecated function and will be removed in a future version. Please adapt your code to use either `displot` (a figure-level function with similar flexibility) or `histplot` (an axes-level function for histograms).\n",
            "  warnings.warn(msg, FutureWarning)\n",
            "/usr/local/lib/python3.7/dist-packages/seaborn/distributions.py:2619: FutureWarning: `distplot` is a deprecated function and will be removed in a future version. Please adapt your code to use either `displot` (a figure-level function with similar flexibility) or `histplot` (an axes-level function for histograms).\n",
            "  warnings.warn(msg, FutureWarning)\n"
          ]
        },
        {
          "output_type": "display_data",
          "data": {
            "text/plain": [
              "<Figure size 432x288 with 1 Axes>"
            ],
            "image/png": "[encoded data removed]"
          },
          "metadata": {}
        }
      ]
    },
    {
      "cell_type": "markdown",
      "source": [
        "Using PCA"
      ],
      "metadata": {
        "id": "kOIHsT-Pdz3k"
      }
    },
    {
      "cell_type": "code",
      "source": [
        "from sklearn.decomposition import PCA# Make an instance of the Model\n",
        "pca = PCA(.95)\n",
        "pca.fit(X_train)"
      ],
      "metadata": {
        "colab": {
          "base_uri": "https://localhost:8080/"
        },
        "id": "e9Iu17CT0NPd",
        "outputId": "8aac68f2-9eb9-4f56-dce9-9e2574881bac"
      },
      "execution_count": null,
      "outputs": [
        {
          "output_type": "execute_result",
          "data": {
            "text/plain": [
              "PCA(n_components=0.95)"
            ]
          },
          "metadata": {},
          "execution_count": 77
        }
      ]
    },
    {
      "cell_type": "code",
      "source": [
        "X_train_pca = pca.transform(X_train)\n",
        "X_test_pca = pca.transform(X_test)"
      ],
      "metadata": {
        "id": "CB9kZND00NSk"
      },
      "execution_count": null,
      "outputs": []
    },
    {
      "cell_type": "code",
      "source": [
        "model_pca = LinearRegression()\n",
        "model_pca.fit(X_train_pca,Y_train)\n",
        "y_pred_train_lr_pca = model_pca.predict(X_train_pca)\n",
        "y_actual_train = Y_train\n",
        "rmse_pca_lr_train = np.sqrt(mean_squared_error(y_actual_train, y_pred_train_lr_pca))\n",
        "print('rmse_pca_lr_train:',rmse_pca_lr_train)\n",
        "print('r-squared_PCAlr_train',model_pca.score(X_train_pca,Y_train))"
      ],
      "metadata": {
        "colab": {
          "base_uri": "https://localhost:8080/"
        },
        "id": "L_om7PQU0NYY",
        "outputId": "37d9cfc4-6278-4d7a-ce18-dc76bf19de1a"
      },
      "execution_count": null,
      "outputs": [
        {
          "output_type": "stream",
          "name": "stdout",
          "text": [
            "rmse_pca_lr_train: 332.51887660175674\n",
            "r-squared_PCAlr_train 0.004105570802586778\n"
          ]
        }
      ]
    },
    {
      "cell_type": "code",
      "source": [
        "y_pred_test_lr_pca = model_pca.predict(X_test_pca)\n",
        "y_actual_test = Y_test\n",
        "rmse_pca_lr_test = np.sqrt(mean_squared_error(y_actual_test, y_pred_test_lr_pca))\n",
        "rmse_pca_lr_test\n",
        "print('rmse_pca_lr_test:',rmse_pca_lr_test)\n",
        "print('r-squared_PCAlr_test',model_pca.score(X_test_pca,Y_test))"
      ],
      "metadata": {
        "colab": {
          "base_uri": "https://localhost:8080/"
        },
        "id": "aqGAcvB60Nc9",
        "outputId": "914381d7-2ae2-4838-d9b5-67116004c234"
      },
      "execution_count": null,
      "outputs": [
        {
          "output_type": "stream",
          "name": "stdout",
          "text": [
            "rmse_pca_lr_test: 188.24601389988652\n",
            "r-squared_PCAlr_test -0.281727921025684\n"
          ]
        }
      ]
    },
    {
      "cell_type": "code",
      "source": [
        "from sklearn.tree import DecisionTreeRegressor\n",
        "\n",
        "dtReg = DecisionTreeRegressor(max_depth=9)\n",
        "dtReg.fit(X_train_pca,Y_train)\n",
        "\n",
        "dtReg_y_pred_train_pca = dtReg.predict(X_train_pca)\n",
        "rmse_pca_dtreg_train = np.sqrt(mean_squared_error(Y_train,dtReg_y_pred_train_pca))\n",
        "print('rmse_pca_dtreg_train:',rmse_pca_dtreg_train)\n",
        "print('r-squared_dtreg_train',dtReg.score(X_train_pca,Y_train))"
      ],
      "metadata": {
        "colab": {
          "base_uri": "https://localhost:8080/"
        },
        "id": "6oZE5Q1p0Nf0",
        "outputId": "c8bc7360-d4eb-4fba-b6a1-98eacb6c3ac2"
      },
      "execution_count": null,
      "outputs": [
        {
          "output_type": "stream",
          "name": "stdout",
          "text": [
            "rmse_pca_dtreg_train: 159.703163806218\n",
            "r-squared_dtreg_train 0.770275278592355\n"
          ]
        }
      ]
    },
    {
      "cell_type": "code",
      "source": [
        "dtReg_y_pred_test_pca = dtReg.predict(X_test_pca)\n",
        "rmse_pca_dtreg_test = np.sqrt(mean_squared_error(Y_test,dtReg_y_pred_test_pca))\n",
        "print('rmse_pca_dtred_test:',rmse_pca_dtreg_test)\n",
        "print('r-squared_PCAdtreg_test',dtReg.score(X_test_pca,Y_test))"
      ],
      "metadata": {
        "colab": {
          "base_uri": "https://localhost:8080/"
        },
        "id": "1DsZoFLA0Ni5",
        "outputId": "904f6cd8-f611-479f-d77d-bb178c10f4f9"
      },
      "execution_count": null,
      "outputs": [
        {
          "output_type": "stream",
          "name": "stdout",
          "text": [
            "rmse_pca_dtred_test: 182.4563913034006\n",
            "r-squared_PCAdtreg_test -0.20409964777250855\n"
          ]
        }
      ]
    },
    {
      "cell_type": "code",
      "source": [
        "Rfreg_pca = RandomForestRegressor(max_features=2, n_estimators=30)\n",
        "Rfreg_pca.fit(X_train_pca, Y_train)\n",
        "Rfreg_y_pred_train_pca = Rfreg_pca.predict(X_train_pca)\n",
        "rmse_pca_rfreg_train = np.sqrt(mean_squared_error(Y_train,Rfreg_y_pred_train_pca))\n",
        "print('rmse_pca_rfreg_train:',rmse_pca_rfreg_train)\n",
        "print('r-squared_rfreg_train',Rfreg_pca.score(X_train_pca,Y_train))"
      ],
      "metadata": {
        "colab": {
          "base_uri": "https://localhost:8080/"
        },
        "id": "r-ClzBro0Nl5",
        "outputId": "cf0eac54-14d9-4579-dccb-4feef120300b"
      },
      "execution_count": null,
      "outputs": [
        {
          "output_type": "stream",
          "name": "stdout",
          "text": [
            "rmse_pca_rfreg_train: 119.90311950411875\n",
            "r-squared_rfreg_train 0.8705083817334038\n"
          ]
        }
      ]
    },
    {
      "cell_type": "code",
      "source": [
        "Rfreg_y_pred_test_pca = Rfreg_pca.predict(X_test_pca)\n",
        "rmse_pca_rfreg_test = np.sqrt(mean_squared_error(Y_test,Rfreg_y_pred_test))\n",
        "print('rmse_pca_rfreg_test:',rmse_pca_rfreg_test)\n",
        "print('r-squared_rfreg_test',Rfreg_pca.score(X_test_pca,Y_test))"
      ],
      "metadata": {
        "colab": {
          "base_uri": "https://localhost:8080/"
        },
        "id": "C0KxswWA0Npt",
        "outputId": "9976a848-fee2-4c86-98a0-c811fb2e3eb7"
      },
      "execution_count": null,
      "outputs": [
        {
          "output_type": "stream",
          "name": "stdout",
          "text": [
            "rmse_pca_rfreg_test: 185.25956015222354\n",
            "r-squared_rfreg_test -0.5694284239217897\n"
          ]
        }
      ]
    },
    {
      "cell_type": "code",
      "source": [
        "from statsmodels.formula.api import ols\n",
        "from sklearn.linear_model import LinearRegression\n",
        "model = LinearRegression()\n",
        "Y = Data['value']\n",
        "X = Data['Data1'] + Data['Data2'] + Data['Data3']\n",
        "print(Y.size)\n",
        "print(X.size)\n",
        "\n",
        "Data1= Data['Data1'] \n",
        "\n",
        "Data2 = Data['Data2']\n",
        "Data3 =  Data['Data3']\n",
        "\n",
        "\n",
        "model_hyp_reduced1 = ols('Y ~Data1 + Data2+ Data3', Data).fit()\n",
        "print(model_hyp_reduced1.summary())"
      ],
      "metadata": {
        "colab": {
          "base_uri": "https://localhost:8080/"
        },
        "id": "GLORustd0z4c",
        "outputId": "09e370b5-333f-4bec-af15-64fc053e3fc7"
      },
      "execution_count": null,
      "outputs": [
        {
          "output_type": "stream",
          "name": "stdout",
          "text": [
            "9333\n",
            "9333\n",
            "                            OLS Regression Results                            \n",
            "==============================================================================\n",
            "Dep. Variable:                      Y   R-squared:                       0.001\n",
            "Model:                            OLS   Adj. R-squared:                  0.000\n",
            "Method:                 Least Squares   F-statistic:                     2.252\n",
            "Date:                Sat, 27 Aug 2022   Prob (F-statistic):             0.0801\n",
            "Time:                        08:42:35   Log-Likelihood:                -66693.\n",
            "No. Observations:                9333   AIC:                         1.334e+05\n",
            "Df Residuals:                    9329   BIC:                         1.334e+05\n",
            "Df Model:                           3                                         \n",
            "Covariance Type:            nonrobust                                         \n",
            "==============================================================================\n",
            "                 coef    std err          t      P>|t|      [0.025      0.975]\n",
            "------------------------------------------------------------------------------\n",
            "Intercept     29.9147      3.379      8.853      0.000      23.291      36.538\n",
            "Data1         -0.1030      0.096     -1.069      0.285      -0.292       0.086\n",
            "Data2          0.0301      0.013      2.321      0.020       0.005       0.056\n",
            "Data3         -0.0076      0.017     -0.437      0.662      -0.042       0.026\n",
            "==============================================================================\n",
            "Omnibus:                    25330.515   Durbin-Watson:                   1.974\n",
            "Prob(Omnibus):                  0.000   Jarque-Bera (JB):        744461611.366\n",
            "Skew:                          33.568   Prob(JB):                         0.00\n",
            "Kurtosis:                    1384.988   Cond. No.                         262.\n",
            "==============================================================================\n",
            "\n",
            "Notes:\n",
            "[1] Standard Errors assume that the covariance matrix of the errors is correctly specified.\n"
          ]
        }
      ]
    },
    {
      "cell_type": "code",
      "source": [
        "from statsmodels.formula.api import ols\n",
        "from sklearn.linear_model import LinearRegression\n",
        "model = LinearRegression()\n",
        "Y = Data['value']\n",
        "X = Data['Data4'] + Data['Data5'] \n",
        "print(Y.size)\n",
        "print(X.size)\n",
        "\n",
        "Data4= Data['Data4'] \n",
        "\n",
        "Data5 = Data['Data5']\n",
        "\n",
        "\n",
        "\n",
        "model_hyp_reduced2 = ols('Y ~Data4 + Data5', Data).fit()\n",
        "print(model_hyp_reduced2.summary())"
      ],
      "metadata": {
        "colab": {
          "base_uri": "https://localhost:8080/"
        },
        "id": "9kJYfZuu0z76",
        "outputId": "313fcf9f-51f5-4b23-9459-9965b2b51d66"
      },
      "execution_count": null,
      "outputs": [
        {
          "output_type": "stream",
          "name": "stdout",
          "text": [
            "9333\n",
            "9333\n",
            "                            OLS Regression Results                            \n",
            "==============================================================================\n",
            "Dep. Variable:                      Y   R-squared:                       0.000\n",
            "Model:                            OLS   Adj. R-squared:                  0.000\n",
            "Method:                 Least Squares   F-statistic:                     1.524\n",
            "Date:                Sat, 27 Aug 2022   Prob (F-statistic):              0.218\n",
            "Time:                        08:42:49   Log-Likelihood:                -66695.\n",
            "No. Observations:                9333   AIC:                         1.334e+05\n",
            "Df Residuals:                    9330   BIC:                         1.334e+05\n",
            "Df Model:                           2                                         \n",
            "Covariance Type:            nonrobust                                         \n",
            "==============================================================================\n",
            "                 coef    std err          t      P>|t|      [0.025      0.975]\n",
            "------------------------------------------------------------------------------\n",
            "Intercept     28.6013      3.216      8.894      0.000      22.298      34.905\n",
            "Data4          0.0131      0.016      0.833      0.405      -0.018       0.044\n",
            "Data5          0.0164      0.011      1.528      0.126      -0.005       0.037\n",
            "==============================================================================\n",
            "Omnibus:                    25341.595   Durbin-Watson:                   1.974\n",
            "Prob(Omnibus):                  0.000   Jarque-Bera (JB):        746817287.878\n",
            "Skew:                          33.607   Prob(JB):                         0.00\n",
            "Kurtosis:                    1387.174   Cond. No.                         301.\n",
            "==============================================================================\n",
            "\n",
            "Notes:\n",
            "[1] Standard Errors assume that the covariance matrix of the errors is correctly specified.\n"
          ]
        }
      ]
    },
    {
      "cell_type": "code",
      "source": [
        "Data.head(10)"
      ],
      "metadata": {
        "colab": {
          "base_uri": "https://localhost:8080/",
          "height": 363
        },
        "id": "MO6l5wJV0z_2",
        "outputId": "ff3be7f9-8c2e-4bc9-8f76-0a747638806a"
      },
      "execution_count": null,
      "outputs": [
        {
          "output_type": "execute_result",
          "data": {
            "text/plain": [
              "                Country variable      value     Data1    Data2     Data3  \\\n",
              "0                 Aruba     1970   6.246698  2.796574  5.34552  6.713892   \n",
              "1           Afghanistan     1970  25.510000  5.027798  5.34552  6.713892   \n",
              "2               Albania     1970   6.246698  3.684154  5.34552  4.352332   \n",
              "3  United Arab Emirates     1970  21.984699  5.294355  5.34552  6.713892   \n",
              "4               Armenia     1970   6.246698  2.796574  5.34552  6.713892   \n",
              "5   Antigua and Barbuda     1970   8.870000  2.796574 -0.20000  4.822457   \n",
              "6             Australia     1970   3.440000  3.608210  6.80000  6.713892   \n",
              "7               Austria     1970   4.370000  3.434529  5.34552  6.713892   \n",
              "8            Azerbaijan     1970   6.246698  2.796574  5.34552  6.713892   \n",
              "9               Burundi     1970  -0.199651  2.796574  4.90000  6.713892   \n",
              "\n",
              "     Data4      Data5  \n",
              "0  6.47351   6.477990  \n",
              "1  6.47351   6.509263  \n",
              "2  6.47351   6.509263  \n",
              "3  6.47351   6.509263  \n",
              "4  6.47351   6.509263  \n",
              "5  8.00000   6.509263  \n",
              "6  3.62000  13.062633  \n",
              "7  4.42000   3.947091  \n",
              "8  6.47351   6.451390  \n",
              "9 -2.80000   6.509263  "
            ],
            "text/html": [
              "\n",
              "  <div id=\"df-ac8e03d8-1dad-4bca-bd1a-4a262673e322\">\n",
              "    <div class=\"colab-df-container\">\n",
              "      <div>\n",
              "<style scoped>\n",
              "    .dataframe tbody tr th:only-of-type {\n",
              "        vertical-align: middle;\n",
              "    }\n",
              "\n",
              "    .dataframe tbody tr th {\n",
              "        vertical-align: top;\n",
              "    }\n",
              "\n",
              "    .dataframe thead th {\n",
              "        text-align: right;\n",
              "    }\n",
              "</style>\n",
              "<table border=\"1\" class=\"dataframe\">\n",
              "  <thead>\n",
              "    <tr style=\"text-align: right;\">\n",
              "      <th></th>\n",
              "      <th>Country</th>\n",
              "      <th>variable</th>\n",
              "      <th>value</th>\n",
              "      <th>Data1</th>\n",
              "      <th>Data2</th>\n",
              "      <th>Data3</th>\n",
              "      <th>Data4</th>\n",
              "      <th>Data5</th>\n",
              "    </tr>\n",
              "  </thead>\n",
              "  <tbody>\n",
              "    <tr>\n",
              "      <th>0</th>\n",
              "      <td>Aruba</td>\n",
              "      <td>1970</td>\n",
              "      <td>6.246698</td>\n",
              "      <td>2.796574</td>\n",
              "      <td>5.34552</td>\n",
              "      <td>6.713892</td>\n",
              "      <td>6.47351</td>\n",
              "      <td>6.477990</td>\n",
              "    </tr>\n",
              "    <tr>\n",
              "      <th>1</th>\n",
              "      <td>Afghanistan</td>\n",
              "      <td>1970</td>\n",
              "      <td>25.510000</td>\n",
              "      <td>5.027798</td>\n",
              "      <td>5.34552</td>\n",
              "      <td>6.713892</td>\n",
              "      <td>6.47351</td>\n",
              "      <td>6.509263</td>\n",
              "    </tr>\n",
              "    <tr>\n",
              "      <th>2</th>\n",
              "      <td>Albania</td>\n",
              "      <td>1970</td>\n",
              "      <td>6.246698</td>\n",
              "      <td>3.684154</td>\n",
              "      <td>5.34552</td>\n",
              "      <td>4.352332</td>\n",
              "      <td>6.47351</td>\n",
              "      <td>6.509263</td>\n",
              "    </tr>\n",
              "    <tr>\n",
              "      <th>3</th>\n",
              "      <td>United Arab Emirates</td>\n",
              "      <td>1970</td>\n",
              "      <td>21.984699</td>\n",
              "      <td>5.294355</td>\n",
              "      <td>5.34552</td>\n",
              "      <td>6.713892</td>\n",
              "      <td>6.47351</td>\n",
              "      <td>6.509263</td>\n",
              "    </tr>\n",
              "    <tr>\n",
              "      <th>4</th>\n",
              "      <td>Armenia</td>\n",
              "      <td>1970</td>\n",
              "      <td>6.246698</td>\n",
              "      <td>2.796574</td>\n",
              "      <td>5.34552</td>\n",
              "      <td>6.713892</td>\n",
              "      <td>6.47351</td>\n",
              "      <td>6.509263</td>\n",
              "    </tr>\n",
              "    <tr>\n",
              "      <th>5</th>\n",
              "      <td>Antigua and Barbuda</td>\n",
              "      <td>1970</td>\n",
              "      <td>8.870000</td>\n",
              "      <td>2.796574</td>\n",
              "      <td>-0.20000</td>\n",
              "      <td>4.822457</td>\n",
              "      <td>8.00000</td>\n",
              "      <td>6.509263</td>\n",
              "    </tr>\n",
              "    <tr>\n",
              "      <th>6</th>\n",
              "      <td>Australia</td>\n",
              "      <td>1970</td>\n",
              "      <td>3.440000</td>\n",
              "      <td>3.608210</td>\n",
              "      <td>6.80000</td>\n",
              "      <td>6.713892</td>\n",
              "      <td>3.62000</td>\n",
              "      <td>13.062633</td>\n",
              "    </tr>\n",
              "    <tr>\n",
              "      <th>7</th>\n",
              "      <td>Austria</td>\n",
              "      <td>1970</td>\n",
              "      <td>4.370000</td>\n",
              "      <td>3.434529</td>\n",
              "      <td>5.34552</td>\n",
              "      <td>6.713892</td>\n",
              "      <td>4.42000</td>\n",
              "      <td>3.947091</td>\n",
              "    </tr>\n",
              "    <tr>\n",
              "      <th>8</th>\n",
              "      <td>Azerbaijan</td>\n",
              "      <td>1970</td>\n",
              "      <td>6.246698</td>\n",
              "      <td>2.796574</td>\n",
              "      <td>5.34552</td>\n",
              "      <td>6.713892</td>\n",
              "      <td>6.47351</td>\n",
              "      <td>6.451390</td>\n",
              "    </tr>\n",
              "    <tr>\n",
              "      <th>9</th>\n",
              "      <td>Burundi</td>\n",
              "      <td>1970</td>\n",
              "      <td>-0.199651</td>\n",
              "      <td>2.796574</td>\n",
              "      <td>4.90000</td>\n",
              "      <td>6.713892</td>\n",
              "      <td>-2.80000</td>\n",
              "      <td>6.509263</td>\n",
              "    </tr>\n",
              "  </tbody>\n",
              "</table>\n",
              "</div>\n",
              "      <button class=\"colab-df-convert\" onclick=\"convertToInteractive('df-ac8e03d8-1dad-4bca-bd1a-4a262673e322')\"\n",
              "              title=\"Convert this dataframe to an interactive table.\"\n",
              "              style=\"display:none;\">\n",
              "        \n",
              "  <svg xmlns=\"http://www.w3.org/2000/svg\" height=\"24px\"viewBox=\"0 0 24 24\"\n",
              "       width=\"24px\">\n",
              "    <path d=\"M0 0h24v24H0V0z\" fill=\"none\"/>\n",
              "    <path d=\"M18.56 5.44l.94 2.06.94-2.06 2.06-.94-2.06-.94-.94-2.06-.94 2.06-2.06.94zm-11 1L8.5 8.5l.94-2.06 2.06-.94-2.06-.94L8.5 2.5l-.94 2.06-2.06.94zm10 10l.94 2.06.94-2.06 2.06-.94-2.06-.94-.94-2.06-.94 2.06-2.06.94z\"/><path d=\"M17.41 7.96l-1.37-1.37c-.4-.4-.92-.59-1.43-.59-.52 0-1.04.2-1.43.59L10.3 9.45l-7.72 7.72c-.78.78-.78 2.05 0 2.83L4 21.41c.39.39.9.59 1.41.59.51 0 1.02-.2 1.41-.59l7.78-7.78 2.81-2.81c.8-.78.8-2.07 0-2.86zM5.41 20L4 18.59l7.72-7.72 1.47 1.35L5.41 20z\"/>\n",
              "  </svg>\n",
              "      </button>\n",
              "      \n",
              "  <style>\n",
              "    .colab-df-container {\n",
              "      display:flex;\n",
              "      flex-wrap:wrap;\n",
              "      gap: 12px;\n",
              "    }\n",
              "\n",
              "    .colab-df-convert {\n",
              "      background-color: #E8F0FE;\n",
              "      border: none;\n",
              "      border-radius: 50%;\n",
              "      cursor: pointer;\n",
              "      display: none;\n",
              "      fill: #1967D2;\n",
              "      height: 32px;\n",
              "      padding: 0 0 0 0;\n",
              "      width: 32px;\n",
              "    }\n",
              "\n",
              "    .colab-df-convert:hover {\n",
              "      background-color: #E2EBFA;\n",
              "      box-shadow: 0px 1px 2px rgba(60, 64, 67, 0.3), 0px 1px 3px 1px rgba(60, 64, 67, 0.15);\n",
              "      fill: #174EA6;\n",
              "    }\n",
              "\n",
              "    [theme=dark] .colab-df-convert {\n",
              "      background-color: #3B4455;\n",
              "      fill: #D2E3FC;\n",
              "    }\n",
              "\n",
              "    [theme=dark] .colab-df-convert:hover {\n",
              "      background-color: #434B5C;\n",
              "      box-shadow: 0px 1px 3px 1px rgba(0, 0, 0, 0.15);\n",
              "      filter: drop-shadow(0px 1px 2px rgba(0, 0, 0, 0.3));\n",
              "      fill: #FFFFFF;\n",
              "    }\n",
              "  </style>\n",
              "\n",
              "      <script>\n",
              "        const buttonEl =\n",
              "          document.querySelector('#df-ac8e03d8-1dad-4bca-bd1a-4a262673e322 button.colab-df-convert');\n",
              "        buttonEl.style.display =\n",
              "          google.colab.kernel.accessAllowed ? 'block' : 'none';\n",
              "\n",
              "        async function convertToInteractive(key) {\n",
              "          const element = document.querySelector('#df-ac8e03d8-1dad-4bca-bd1a-4a262673e322');\n",
              "          const dataTable =\n",
              "            await google.colab.kernel.invokeFunction('convertToInteractive',\n",
              "                                                     [key], {});\n",
              "          if (!dataTable) return;\n",
              "\n",
              "          const docLinkHtml = 'Like what you see? Visit the ' +\n",
              "            '<a target=\"_blank\" href=https://colab.research.google.com/notebooks/data_table.ipynb>data table notebook</a>'\n",
              "            + ' to learn more about interactive tables.';\n",
              "          element.innerHTML = '';\n",
              "          dataTable['output_type'] = 'display_data';\n",
              "          await google.colab.output.renderOutput(dataTable, element);\n",
              "          const docLink = document.createElement('div');\n",
              "          docLink.innerHTML = docLinkHtml;\n",
              "          element.appendChild(docLink);\n",
              "        }\n",
              "      </script>\n",
              "    </div>\n",
              "  </div>\n",
              "  "
            ]
          },
          "metadata": {},
          "execution_count": 93
        }
      ]
    },
    {
      "cell_type": "code",
      "source": [
        "#Country = Australia\n",
        "X_sample = Data_X\n",
        "X_sample['Year'] = 1970\n",
        "X_sample['Data1'] =3.608210\n",
        "X_sample['Data2'] = 6.80000\t\n",
        "X_sample['Data3'] = 6.713892\n",
        "X_sample['Data4'] =3.62000\n",
        "X_sample['Data5'] = 13.062633"
      ],
      "metadata": {
        "id": "lVaY_i5i00DE"
      },
      "execution_count": null,
      "outputs": []
    },
    {
      "cell_type": "code",
      "source": [
        "Rfreg_y_pred_sample = Rfreg.predict(X_sample)\n",
        "print('The predicted inflation rate is:',Rfreg_y_pred_sample.max())"
      ],
      "metadata": {
        "colab": {
          "base_uri": "https://localhost:8080/"
        },
        "id": "Ofz-EsBF00Hq",
        "outputId": "e222a0a9-adba-4534-d386-78c4e725f028"
      },
      "execution_count": null,
      "outputs": [
        {
          "output_type": "stream",
          "name": "stdout",
          "text": [
            "The predicted inflation rate is: 5.032839595380167\n"
          ]
        }
      ]
    }
  ]
}